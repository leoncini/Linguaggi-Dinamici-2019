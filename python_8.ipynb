{
 "cells": [
  {
   "cell_type": "markdown",
   "metadata": {},
   "source": [
    "## <span style=\"color:red\">Classi astratte e loro uso</span>"
   ]
  },
  {
   "cell_type": "code",
   "execution_count": null,
   "metadata": {},
   "outputs": [],
   "source": [
    "from abc import ABC, abstractmethod"
   ]
  },
  {
   "cell_type": "code",
   "execution_count": null,
   "metadata": {},
   "outputs": [],
   "source": [
    "class classe_astratta(ABC):\n",
    "    '''classe_astratta è astratta perché definisce (almeno) un metodo\n",
    "        astratto\n",
    "    '''\n",
    "    def __init__(self, value):\n",
    "        self.cached_value = value\n",
    "    \n",
    "    @abstractmethod\n",
    "    def un_metodo_astratto(self):\n",
    "        '''Un metodo astratto si 'riconosce' dal decoratore @abstractmethod'''\n",
    "        pass"
   ]
  },
  {
   "cell_type": "markdown",
   "metadata": {},
   "source": [
    "#### Non possono esistere oggetti della classe astratta"
   ]
  },
  {
   "cell_type": "code",
   "execution_count": null,
   "metadata": {},
   "outputs": [],
   "source": [
    "A = classe_astratta(10) #In altri termini, una classe astratta non si può istanziare"
   ]
  },
  {
   "cell_type": "markdown",
   "metadata": {},
   "source": [
    "#### Sono le eventuali sottoclassi che devono implementare i metodi astratti"
   ]
  },
  {
   "cell_type": "code",
   "execution_count": null,
   "metadata": {},
   "outputs": [],
   "source": [
    "class sottoclasse(classe_astratta):\n",
    "    def un_metodo_astratto(self):\n",
    "        pass"
   ]
  },
  {
   "cell_type": "code",
   "execution_count": null,
   "metadata": {},
   "outputs": [],
   "source": [
    "S = sottoclasse(10)"
   ]
  },
  {
   "cell_type": "code",
   "execution_count": null,
   "metadata": {},
   "outputs": [],
   "source": [
    "S.un_metodo_astratto()"
   ]
  },
  {
   "cell_type": "code",
   "execution_count": null,
   "metadata": {},
   "outputs": [],
   "source": [
    "class sottoclasse(classe_astratta):\n",
    "    def un_metodo_astratto(self):\n",
    "        return self.cached_value**2"
   ]
  },
  {
   "cell_type": "code",
   "execution_count": null,
   "metadata": {},
   "outputs": [],
   "source": [
    "S = sottoclasse(10)"
   ]
  },
  {
   "cell_type": "code",
   "execution_count": null,
   "metadata": {},
   "outputs": [],
   "source": [
    "S.un_metodo_astratto()"
   ]
  },
  {
   "cell_type": "markdown",
   "metadata": {},
   "source": [
    "#### Una sottoclasse di una classe astratta deve implementare ***tutti*** i metodi astratti"
   ]
  },
  {
   "cell_type": "code",
   "execution_count": null,
   "metadata": {},
   "outputs": [],
   "source": [
    "class classe_astratta(ABC):\n",
    "    def __init__(self, value):\n",
    "        self.cached_value = value\n",
    "    \n",
    "    @abstractmethod\n",
    "    def un_metodo_astratto(self):\n",
    "        pass\n",
    "    \n",
    "    @abstractmethod\n",
    "    def un_secondo_metodo_astratto(self):\n",
    "        pass"
   ]
  },
  {
   "cell_type": "code",
   "execution_count": null,
   "metadata": {},
   "outputs": [],
   "source": [
    "class sottoclasse(classe_astratta):\n",
    "    def un_metodo_astratto(self):\n",
    "        return self.cached_value**2"
   ]
  },
  {
   "cell_type": "code",
   "execution_count": null,
   "metadata": {},
   "outputs": [],
   "source": [
    "S = sottoclasse(10)"
   ]
  },
  {
   "cell_type": "markdown",
   "metadata": {},
   "source": [
    "#### I metodi di una classe astratta devono quindi essere implementati tutti da \"qualche\" sottoclasse, non necessariamente dalla stessa"
   ]
  },
  {
   "cell_type": "code",
   "execution_count": null,
   "metadata": {},
   "outputs": [],
   "source": [
    "class classe_astratta(ABC):\n",
    "    def __init__(self, value):\n",
    "        self.cached_value = value\n",
    "    \n",
    "    @abstractmethod\n",
    "    def un_metodo_astratto(self):\n",
    "        pass\n",
    "    \n",
    "    @abstractmethod\n",
    "    def un_secondo_metodo_astratto(self):\n",
    "        pass"
   ]
  },
  {
   "cell_type": "code",
   "execution_count": null,
   "metadata": {},
   "outputs": [],
   "source": [
    "class sottoclasse(classe_astratta):\n",
    "    def un_metodo_astratto(self):\n",
    "        return self.cached_value**2"
   ]
  },
  {
   "cell_type": "code",
   "execution_count": null,
   "metadata": {},
   "outputs": [],
   "source": [
    "class sotto_sottoclasse(sottoclasse):\n",
    "    def un_secondo_metodo_astratto(self):\n",
    "        pass"
   ]
  },
  {
   "cell_type": "code",
   "execution_count": null,
   "metadata": {},
   "outputs": [],
   "source": [
    "SS = sotto_sottoclasse(20)"
   ]
  },
  {
   "cell_type": "code",
   "execution_count": null,
   "metadata": {},
   "outputs": [],
   "source": [
    "SS.un_metodo_astratto()"
   ]
  },
  {
   "cell_type": "code",
   "execution_count": null,
   "metadata": {},
   "outputs": [],
   "source": [
    "SS.un_secondo_metodo_astratto()"
   ]
  },
  {
   "cell_type": "markdown",
   "metadata": {},
   "source": [
    "## A che cosa serve tutto ciò?"
   ]
  },
  {
   "cell_type": "markdown",
   "metadata": {},
   "source": [
    "Una classe astratta viene tipicamente utilizzata per definire funzionalità default per le sue sottoclassi. Il concetto è simile ma non coincide con quello noto di __interfaccia__, in quanto (a differenza delle interfacce) le classi astratte possono essere parzialmente implementate."
   ]
  },
  {
   "cell_type": "markdown",
   "metadata": {},
   "source": [
    "Un caso tipico di utilizzo si ha quando le sottoclassi (che estendono la classe astratta) hanno più attributi e metodi comuni."
   ]
  },
  {
   "cell_type": "code",
   "execution_count": null,
   "metadata": {},
   "outputs": [],
   "source": [
    "from abc import ABC, abstractmethod\n",
    "import math\n",
    "import pygame\n",
    "\n",
    "# Some colors\n",
    "black = (0,0,0)\n",
    "white = (255,255,255)\n",
    "red = (255,0,0)\n",
    "green = (0,255,0)\n",
    "blue = (0,0,255)\n",
    "\n",
    "class mydisplay:\n",
    "    '''Classe che definisce un display (una finestra) dove potranno essere\n",
    "       disegnati  \"singoli\" oggetti geometrici. La classe utilizza il package\n",
    "       pygame'''\n",
    "    \n",
    "    def __init__(self, width=800, height=600):\n",
    "        pygame.display.init()\n",
    "        self.width = width      # Size of\n",
    "        self.height = height    # display\n",
    "        self.display = pygame.display.set_mode((width,height))\n",
    "    \n",
    "    @staticmethod\n",
    "    def close():\n",
    "        pygame.quit()\n",
    "        \n",
    "    def clean(self):\n",
    "        '''Pulisce il display'''\n",
    "        self.display.fill(white)\n",
    "    \n",
    "    def drawline(self, p, q, color=black):\n",
    "        '''Disegna un segmento'''\n",
    "        self.clean()\n",
    "        pygame.draw.line(self.display, color, (p[0], self.height-p[1]), \\\n",
    "                         (q[0],self.height-q[1]), 3)\n",
    "        pygame.display.update()\n",
    "        \n",
    "    def drawcircle(self, c, r, color=black):\n",
    "        '''Disegna un cerchio (pieno)'''\n",
    "        self.clean()\n",
    "        pygame.draw.circle(self.display, color, (c[0],self.height-c[1]), r)\n",
    "        pygame.display.update()\n",
    "        \n",
    "    def drawrect(self, bl, w, h, color=black):\n",
    "        '''Disegna un rettangolo'''\n",
    "        self.clean()\n",
    "        pygame.draw.rect(self.display, color, \\\n",
    "                         pygame.Rect(bl[0],self.height-bl[1]-h, w, h))\n",
    "        pygame.display.update()    \n",
    "    \n",
    "class oggetto_geometrico(ABC):\n",
    "    '''Classe che definisce un oggetto astratto generico.\n",
    "       Opportune sottoclassi dovranno fornire implementazioni\n",
    "       per le funzioni di spostamento e rotazione dell'oggetto.\n",
    "       La classe definisce e implementa un metodo per la rotazione\n",
    "       di un vettore con applicazione nell'origine (quindi definito\n",
    "       solo dalle coordinate del punto terminale)\n",
    "    '''\n",
    "    def __init__(self, display, color=black):\n",
    "        '''Inizializza un display pygame di dimensioni (width)x(height).\n",
    "        Il parametro colore è il colore con cui verrà disegnato l'oggetto  '''\n",
    "        self.display = display\n",
    "        self.color = color\n",
    "    \n",
    "    @staticmethod\n",
    "    def ruotaV(x, y, theta):\n",
    "        '''Rotazione di un vettore con punto di applicazione l'origine'''\n",
    "        xp = x*math.cos(theta)-y*math.sin(theta)\n",
    "        yp = x*math.sin(theta)+y*math.cos(theta)\n",
    "        return xp,yp\n",
    "        \n",
    "    @abstractmethod\n",
    "    def sposta(self, dx, dy):\n",
    "        '''Definisce uno spostamento dell'oggetto di dx punti lungo\n",
    "           l'asse x e di dy punti lungo l'asse y'''\n",
    "        pass\n",
    "    \n",
    "    @abstractmethod\n",
    "    def ruota(self, theta):\n",
    "        '''Definisce la rotazione dell'oggetto di un angolo theta radianti'''\n",
    "        pass"
   ]
  },
  {
   "cell_type": "code",
   "execution_count": null,
   "metadata": {},
   "outputs": [],
   "source": [
    "class line(oggetto_geometrico):\n",
    "    \n",
    "    def __init__(self, p, q, display, color=black):\n",
    "        '''Initialize a pygame display '''\n",
    "        super().__init__(display, color)\n",
    "        self.p = p\n",
    "        self.q = q\n",
    "        self.display.drawline(p,q,color)\n",
    "    \n",
    "    def sposta(self, dx, dy, disegna=True):\n",
    "        '''Implementa lo spostamento rigido di un segmento'''\n",
    "        from operator import add\n",
    "        self.p = tuple(map(add,self.p,(dx,dy)))\n",
    "        self.q = tuple(map(add,self.q,(dx,dy)))\n",
    "        disegna and self.display.drawline(self.p,self.q,self.color)\n",
    "        \n",
    "    def ruota(self, theta):\n",
    "        '''Implementa la rotazione di un segmento'''\n",
    "        cx = (self.p[0]+self.q[0])/2\n",
    "        cy = (self.p[1]+self.q[1])/2\n",
    "        self.sposta(-cx,-cy, disegna=False)\n",
    "        self.p = self.ruotaV(*self.p, theta)\n",
    "        self.q = self.ruotaV(*self.q, theta)\n",
    "        self.sposta(cx,cy)"
   ]
  },
  {
   "cell_type": "code",
   "execution_count": null,
   "metadata": {},
   "outputs": [],
   "source": [
    "D = mydisplay()"
   ]
  },
  {
   "cell_type": "code",
   "execution_count": null,
   "metadata": {},
   "outputs": [],
   "source": [
    "l = line((0,0),(100,200),D)"
   ]
  },
  {
   "cell_type": "code",
   "execution_count": null,
   "metadata": {},
   "outputs": [],
   "source": [
    "l.sposta(200,150)"
   ]
  },
  {
   "cell_type": "code",
   "execution_count": null,
   "metadata": {},
   "outputs": [],
   "source": [
    "l.ruota(-math.pi/2)"
   ]
  },
  {
   "cell_type": "code",
   "execution_count": null,
   "metadata": {},
   "outputs": [],
   "source": [
    "class cerchio(oggetto_geometrico):\n",
    "    \n",
    "    def __init__(self, c, r, display, color=black):\n",
    "        super().__init__(display, color)\n",
    "        self.c = c\n",
    "        self.r = r\n",
    "        self.display.drawcircle(c, r, color)\n",
    "    \n",
    "    def sposta(self, dx, dy):\n",
    "        '''Implementa lo spostamento rigido di un cerchio'''\n",
    "        from operator import add\n",
    "        self.c = tuple(map(add,self.c,(dx,dy)))\n",
    "        self.display.drawcircle(self.c, self.r, self.color)\n",
    "        \n",
    "    def ruota(self, theta):\n",
    "        '''La rotazione non ha effetto (perché non identifichiamo\n",
    "           punti particolari sul cerchio)'''\n",
    "        pass"
   ]
  },
  {
   "cell_type": "code",
   "execution_count": null,
   "metadata": {},
   "outputs": [],
   "source": [
    "c = cerchio((200,200), 50, D)"
   ]
  },
  {
   "cell_type": "code",
   "execution_count": null,
   "metadata": {},
   "outputs": [],
   "source": [
    "c.sposta(100,300)"
   ]
  },
  {
   "cell_type": "code",
   "execution_count": null,
   "metadata": {},
   "outputs": [],
   "source": [
    "c.ruota(1)"
   ]
  },
  {
   "cell_type": "code",
   "execution_count": null,
   "metadata": {},
   "outputs": [],
   "source": [
    "class rettangolo(oggetto_geometrico):\n",
    "    \n",
    "    def __init__(self, p, w, h, display, color=black):\n",
    "        super().__init__(display, color)\n",
    "        self.bottomleft = p\n",
    "        self.w = w\n",
    "        self.h = h\n",
    "        self.display.drawrect(p, w, h, color)\n",
    "    \n",
    "    def sposta(self, dx, dy, disegna=True):\n",
    "        '''Implementa lo spostamento rigido di un rettangolo'''\n",
    "        from operator import add\n",
    "        self.bottomleft = tuple(map(add,self.bottomleft,(dx,dy)))\n",
    "        disegna and self.display.drawrect(self.bottomleft, self.w, self.h, self.color)\n",
    "        \n",
    "    def ruota(self, theta):\n",
    "        from operator import add\n",
    "        assert theta in {math.pi/2, -math.pi/2}\n",
    "        cx = self.bottomleft[0]+self.w/2\n",
    "        cy = self.bottomleft[1]+self.h/2\n",
    "        self.sposta(-cx,-cy, disegna=False)\n",
    "        self.bottomleft = self.ruotaV(*self.bottomleft, theta)\n",
    "        if theta > 0:\n",
    "            shift = (-self.h,0)\n",
    "        else:\n",
    "            shift = (0, -self.w)\n",
    "        self.bottomleft = tuple(map(add,self.bottomleft,shift))\n",
    "        self.w, self.h = self.h, self.w\n",
    "        self.sposta(cx,cy)"
   ]
  },
  {
   "cell_type": "code",
   "execution_count": null,
   "metadata": {},
   "outputs": [],
   "source": [
    "r = rettangolo((1,1), 150, 70, D, color=(124,110,87))"
   ]
  },
  {
   "cell_type": "code",
   "execution_count": null,
   "metadata": {},
   "outputs": [],
   "source": [
    "r.sposta(100,100)"
   ]
  },
  {
   "cell_type": "code",
   "execution_count": null,
   "metadata": {},
   "outputs": [],
   "source": [
    "r.ruota(math.pi/2)"
   ]
  },
  {
   "cell_type": "code",
   "execution_count": null,
   "metadata": {},
   "outputs": [],
   "source": [
    "r.ruota(-math.pi/2)"
   ]
  },
  {
   "cell_type": "code",
   "execution_count": null,
   "metadata": {},
   "outputs": [],
   "source": [
    "D.close()"
   ]
  },
  {
   "cell_type": "markdown",
   "metadata": {},
   "source": [
    "#### Un (relativamente) semplice progetto\n",
    "\n",
    "Modificare la classe mydisplay in modo che supporti contemporaneamente le operazioni su più oggetti geometrici"
   ]
  }
 ],
 "metadata": {
  "kernelspec": {
   "display_name": "Python 3",
   "language": "python",
   "name": "python3"
  },
  "language_info": {
   "codemirror_mode": {
    "name": "ipython",
    "version": 3
   },
   "file_extension": ".py",
   "mimetype": "text/x-python",
   "name": "python",
   "nbconvert_exporter": "python",
   "pygments_lexer": "ipython3",
   "version": "3.7.4+"
  }
 },
 "nbformat": 4,
 "nbformat_minor": 2
}
