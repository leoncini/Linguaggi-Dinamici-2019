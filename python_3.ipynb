{
 "cells": [
  {
   "cell_type": "markdown",
   "metadata": {},
   "source": [
    "## <span style=\"color:red\">Namespace</span>"
   ]
  },
  {
   "cell_type": "markdown",
   "metadata": {},
   "source": [
    "1. In ogni particolare punto del programma un nome può corrispondere a una variabile:\n",
    "    1. <span style=\"font-style: italic; color:blue\">locale</span>\n",
    "    2. <span style=\"font-style: italic; color:blue\">non locale</span>\n",
    "    3. <span style=\"font-style: italic; color:blue\">globale</span>\n",
    "    4. predefinita (<span style=\"font-style: italic; color:blue\">built-in</span>)\n",
    "    5. ... e naturalmente può anche non essere definito\n",
    "4. In ogni particolare punto del programma i nomi locali, globali e predefiniti formano altrettante \"collezioni\" chiamate <span style=\"font-style: italic; color:blue\">namespace</span> (<span style=\"font-style: italic; color:blue\">ambiente</span> è un altro nome utilizzato nella teoria dei linguaggi)\n",
    "5. In Python i namespace sono essi stessi oggetti manipolabili;\n",
    "sono <u>dizionari</u> e come tali possono essere consultati"
   ]
  },
  {
   "cell_type": "markdown",
   "metadata": {},
   "source": [
    "La funzioni _locals()_ e _globals()_ restituiscono rispettivamente i dizionari contenenti i nomi definiti nel namespace locale e in quello globale"
   ]
  },
  {
   "cell_type": "markdown",
   "metadata": {},
   "source": [
    "Quando va in esecuzione l'interprete (al prompt dei comandi o quando viene lanciato uno script) l'ambiente locale e quello globale coincidono"
   ]
  },
  {
   "cell_type": "code",
   "execution_count": null,
   "metadata": {},
   "outputs": [],
   "source": [
    "locals() == globals()"
   ]
  },
  {
   "cell_type": "code",
   "execution_count": null,
   "metadata": {},
   "outputs": [],
   "source": [
    "# Ovviamente all'interno di una funzione locals() non coincide\n",
    "# con globals()\n",
    "def powerof2(z):\n",
    "    res = 2**z\n",
    "    print(locals()==globals())\n",
    "    print(locals())\n",
    "    return res\n",
    "print(powerof2(10))\n",
    "print(locals()==globals())"
   ]
  },
  {
   "cell_type": "markdown",
   "metadata": {},
   "source": [
    "I (soli) nomi definiti nel namespace locale sono restituiti dalla funzione _dir()_"
   ]
  },
  {
   "cell_type": "code",
   "execution_count": null,
   "metadata": {},
   "outputs": [],
   "source": [
    "dir()"
   ]
  },
  {
   "cell_type": "code",
   "execution_count": null,
   "metadata": {},
   "outputs": [],
   "source": [
    "# I nomi locali sono sele chiavi del dizionario locals()\n",
    "sorted(locals().keys())==sorted(dir())"
   ]
  },
  {
   "cell_type": "markdown",
   "metadata": {},
   "source": [
    "Se un namespace è un dizionario, dunque è possibile accedere ai nomi e ai valori come a qualsiasi altro oggetto"
   ]
  },
  {
   "cell_type": "code",
   "execution_count": null,
   "metadata": {},
   "outputs": [],
   "source": [
    "def f(x):\n",
    "    x = 10\n",
    "    print(\"Il valore locale di x è {}\".format(locals()['x']))\n",
    "    print(\"Il valore globale di x è {}\".format(globals()['x']))\n",
    "x = 1\n",
    "f(x)"
   ]
  },
  {
   "cell_type": "markdown",
   "metadata": {},
   "source": [
    "## <span style=\"color:red\">Regole di scopo (scope rules)</span>\n",
    "\n",
    "1. Lo ***scope*** di una (dichiarazione di) variabile sono i punti del programma in cui tale variabile può essere acceduta\n",
    "2. L'interprete Python usa la ***regola LEGB*** per determinare qual è la variabile (e dunque il valore) cui si riferisce un dato nome:\n",
    "    1. Prima il namespace ***locale*** (***L***)\n",
    "    2. Poi i namespace locali alle ***enclosing*** function (***E***)\n",
    "    3. Poi il namespace ***globale*** (***G***)\n",
    "    4. Infine il namespace delle funzioni ***built-in*** (***B***)"
   ]
  },
  {
   "cell_type": "code",
   "execution_count": null,
   "metadata": {},
   "outputs": [],
   "source": [
    "# Un po' di prove per capire meglio\n",
    "def esterna(x):    # Riga 1 Il parametro x è locale alla funzione esterna\n",
    "    a = 5          # Riga 2 Nome locale alla funzione esterna\n",
    "    b = x          # Riga 3 Nome locale alla funzione esterna\n",
    "    print(locals())# Riga 3bis\n",
    "    def interna(): # Riga 4\n",
    "        global a   # Riga 5 a coincide con la variabile di riga 16\n",
    "        nonlocal b # Riga 6 b coincide con la variabile di riga 3\n",
    "        x = a+b    # Riga 7 Nome locale alla funzione interna\n",
    "        a = 2      # Riga 8 Altera il nome globale a\n",
    "        b = 5      # Riga 9 Altera il nome non locale b\n",
    "        return x   # Riga 10\n",
    "    a = interna()  # Riga 11 Modifica la variabile definita a riga 2\n",
    "    print(x)       # Riga 12 Valore del parametro x è immutato\n",
    "    print(a)       # Riga 13 Valore di a (riga 2) modificato a riga 11 \n",
    "    print(b)       # Riga 14 Valore di b (riga 3) modificato a riga 9\n",
    "    y = 3          # Riga 14bis\n",
    "    return abs(a+b)# Riga 15 abs è un nome built-in\n",
    "a = 1              # Riga 16 Nome globale a\n",
    "print(a,esterna(a),a) # Riga \n",
    "sorted(dir()) == sorted(globals().keys())\n",
    "from math import *\n",
    "dir()"
   ]
  },
  {
   "cell_type": "markdown",
   "metadata": {},
   "source": [
    "### Come agiscono le importazioni di moduli sui namespace?"
   ]
  },
  {
   "cell_type": "code",
   "execution_count": null,
   "metadata": {},
   "outputs": [],
   "source": [
    "def dir():\n",
    "    print(\"Hello\")\n",
    "dir()"
   ]
  },
  {
   "cell_type": "code",
   "execution_count": null,
   "metadata": {},
   "outputs": [],
   "source": [
    "# Brevissima digressione sui dizionari\n",
    "D = {1:'uno', 2:'due'}\n",
    "v = D[3] # Key error, perché 3 non è una chiave presente nel dizionario"
   ]
  },
  {
   "cell_type": "code",
   "execution_count": null,
   "metadata": {},
   "outputs": [],
   "source": [
    "# Due soluzioni\n",
    "D = {1:'uno', 2:'due'}\n",
    "if 3 not in D:\n",
    "    print(\"Chiave non presente\")\n",
    "key = 3\n",
    "try:\n",
    "    v = D[key]\n",
    "except KeyError:\n",
    "    v = None\n",
    "print(v)\n",
    "\n",
    "v = D.get(key, None)\n",
    "print(v)"
   ]
  },
  {
   "cell_type": "markdown",
   "metadata": {},
   "source": [
    "La sintassi: \n",
    "\n",
    "<div style=\"text-align: center;\"> <span style=\"font-style:italic; color:blue\">from modulo import nome</span></div>\n",
    "\n",
    "include <span style=\"font-style:italic; color:blue\">nome</span> nel namespace corrente"
   ]
  },
  {
   "cell_type": "code",
   "execution_count": null,
   "metadata": {},
   "outputs": [],
   "source": [
    "print(globals().get('log','non definita'))\n",
    "from math import log\n",
    "print(globals().get('log','non definita'))"
   ]
  },
  {
   "cell_type": "markdown",
   "metadata": {},
   "source": [
    "Se però importiamo un intero modulo, i suoi nomi non vengono aggiunti al namespace corrente"
   ]
  },
  {
   "cell_type": "code",
   "execution_count": null,
   "metadata": {},
   "outputs": [],
   "source": [
    "print(globals().get('log2','non definita'))\n",
    "import math\n",
    "print(globals().get('log2','non definita'))\n",
    "if 'log2' in dir(math):\n",
    "    print(math.log2)\n",
    "else:\n",
    "    print('non definita')"
   ]
  },
  {
   "cell_type": "markdown",
   "metadata": {},
   "source": [
    "### Quindi attenzione:"
   ]
  },
  {
   "cell_type": "code",
   "execution_count": null,
   "metadata": {},
   "outputs": [],
   "source": [
    "import math\n",
    "def fail(x):\n",
    "    return log10(x)\n",
    "print(fail(5))"
   ]
  },
  {
   "cell_type": "code",
   "execution_count": null,
   "metadata": {},
   "outputs": [],
   "source": [
    "import math\n",
    "def success(x):\n",
    "    return math.log10(x)\n",
    "print(success(5))"
   ]
  },
  {
   "cell_type": "markdown",
   "metadata": {},
   "source": [
    "## <span style=\"color:red\">Attributi e loro manipolazione</span>"
   ]
  },
  {
   "cell_type": "markdown",
   "metadata": {},
   "source": [
    "### Gli oggetti Python (***tutti*** gli oggetti Python) possono avere ***attributi***. Gli attributi, come le variabili, sono a loro volta associazioni fra nomi e oggetti.\n",
    "\n",
    "### Gli attributi (insieme ai ***metodi***) caratterizzano un oggetto\n",
    "\n",
    "### La funzione dir() si può applicare anche ad un oggetto e restituisce una lista che elenca, sotto forma di stringhe, tutti i suoi attributi"
   ]
  },
  {
   "cell_type": "code",
   "execution_count": null,
   "metadata": {},
   "outputs": [],
   "source": [
    "# Un \"semplice\" numero intero ha moltissimi attributi\n",
    "print(len(dir(3)))\n",
    "# Ne elenchiamo il sedicesimo ...\n",
    "print(dir(3)[15])\n",
    "# ... i primi 3 ...\n",
    "print(dir(3)[:3])\n",
    "# ... e gli ultimi 5\n",
    "print(dir(3)[-5:])\n",
    "# Sono attributi della classe degli interi\n",
    "dir(3)==dir(int)"
   ]
  },
  {
   "cell_type": "markdown",
   "metadata": {},
   "source": [
    "### ***getattr*** e ***setattr***"
   ]
  },
  {
   "cell_type": "code",
   "execution_count": null,
   "metadata": {},
   "outputs": [],
   "source": [
    "L=[1,2,3]\n",
    "L=list([1,2,3])\n",
    "print(dir(L)[:7])\n",
    "L.__add__\n",
    "[1,2].__add__([3,4])\n",
    "[1]+[2]"
   ]
  },
  {
   "cell_type": "code",
   "execution_count": null,
   "metadata": {},
   "outputs": [],
   "source": [
    "### Due \"modi\" diversi per accedere agli attributi\n",
    "print(L.__add__)\n",
    "print(getattr(L,'__add__'))"
   ]
  },
  {
   "cell_type": "code",
   "execution_count": null,
   "metadata": {},
   "outputs": [],
   "source": [
    "L.__add__([4,5])"
   ]
  },
  {
   "cell_type": "code",
   "execution_count": null,
   "metadata": {},
   "outputs": [],
   "source": [
    "getattr(L,'__add__')([6,7,8])"
   ]
  },
  {
   "cell_type": "code",
   "execution_count": null,
   "metadata": {},
   "outputs": [],
   "source": [
    "L"
   ]
  },
  {
   "cell_type": "markdown",
   "metadata": {},
   "source": [
    "### Gli attributi degli oggetti dei tipi predefiniti in Python sono read-only e non si possono aggiungere attributi nuovi"
   ]
  },
  {
   "cell_type": "code",
   "execution_count": null,
   "metadata": {},
   "outputs": [],
   "source": [
    "def myadd(L,M):\n",
    "    '''Restituisce la concatenazione di L con \n",
    "       gli elementi di M in ordine rovesciato\n",
    "    '''\n",
    "    R = L[:]               # Crea una (lista) copia di L\n",
    "    T = M[:]               # Crea una (lista) copia di M\n",
    "    T.reverse()            # ... la \"rovescia\"\n",
    "    for t in T:            # e ne aggiunge gli elementi uno per uno ad L\n",
    "        R.append(t)        # L viene modificata per side effect\n",
    "    return R"
   ]
  },
  {
   "cell_type": "code",
   "execution_count": null,
   "metadata": {},
   "outputs": [],
   "source": [
    "setattr(list,'__add__',myadd)   # Operazione non permessa"
   ]
  },
  {
   "cell_type": "code",
   "execution_count": null,
   "metadata": {},
   "outputs": [],
   "source": [
    "L = [1,2]\n",
    "setattr(L,'__add__',myadd)   # Operazione non permessa"
   ]
  },
  {
   "cell_type": "markdown",
   "metadata": {},
   "source": [
    "### Si possono però (ovviamente...) modificare/aggiungere attributi a tipi definiti da utente come pure a classi derivate"
   ]
  },
  {
   "cell_type": "code",
   "execution_count": null,
   "metadata": {},
   "outputs": [],
   "source": [
    "class mylist(list):\n",
    "    pass\n",
    "\n",
    "def myadd(self,M):\n",
    "    '''Restituisce la concatenazione di self con \n",
    "       gli elementi di M in ordine rovesciato\n",
    "    '''\n",
    "    R = self[:]            # Crea una (lista) copia di self\n",
    "    T = M[:]               # Crea una (lista) copia di M\n",
    "    T.reverse()            # ... la \"rovescia\"\n",
    "    for t in T:            # e ne aggiunge gli elementi uno ad uno a self\n",
    "        R.append(t)     # uno per uno R         \n",
    "    return mylist(R)\n",
    "\n",
    "setattr(mylist,'__add__',myadd)"
   ]
  },
  {
   "cell_type": "code",
   "execution_count": null,
   "metadata": {},
   "outputs": [],
   "source": [
    "L = mylist([1,2])\n",
    "M = mylist([4,3])\n",
    "print(L.__add__(M))\n",
    "print(L)"
   ]
  },
  {
   "cell_type": "code",
   "execution_count": null,
   "metadata": {},
   "outputs": [],
   "source": [
    "L = L+M                   # Zucchero sintattico; viene chiamato il metodo __add__ di L\n",
    "print(L)\n",
    "print(type(L))"
   ]
  },
  {
   "cell_type": "markdown",
   "metadata": {},
   "source": [
    "### Un'altra struttura di interesse: le tuple "
   ]
  },
  {
   "cell_type": "code",
   "execution_count": null,
   "metadata": {},
   "outputs": [],
   "source": [
    "T = (1,2,3)  # Elenco di elementi racchiussi tra parentesi tonde\n",
    "print(T[1])  # Accesso identico a quello delle liste\n",
    "print(T[1:]) # ... anche per sottoinsiemi\n",
    "B = {(1,2,3),(1,2),(3,4)}\n",
    "print(B)\n",
    "A = {[1,2,3],[1,2],[3,4]}"
   ]
  },
  {
   "cell_type": "code",
   "execution_count": null,
   "metadata": {},
   "outputs": [],
   "source": [
    "# Una differenza \"curiosa\": una tupla di un elemento coincide con l'elemento\n",
    "L = (1)\n",
    "print(L)\n",
    "print(type(L))\n",
    "print(L==1)"
   ]
  },
  {
   "cell_type": "markdown",
   "metadata": {},
   "source": [
    "## <span style=\"color:red\">Grafi, classi derivate, oggetti immutabili e un primo \"progetto\" completo</span>"
   ]
  },
  {
   "cell_type": "markdown",
   "metadata": {},
   "source": [
    "Un grafo può essere rappresentato in molti modi. Una possibilità è di elencare tutti i suoi archi (e desumere i vertici a partire dagli archi, ignorando eventuali vertici isolati). "
   ]
  },
  {
   "cell_type": "markdown",
   "metadata": {},
   "source": [
    "Consideriamo un grafo da utilizzare come esempio e, per aiutarci visivamente, utilizziamo dapprima opportune \"librerie\""
   ]
  },
  {
   "cell_type": "code",
   "execution_count": null,
   "metadata": {},
   "outputs": [],
   "source": [
    "# Prima, per aiutarci visivamente, utilizziamo la classe Graph di networkx\n",
    "from networkx import Graph,draw\n",
    "from networkx.drawing.nx_agraph import graphviz_layout\n",
    "G = Graph()\n",
    "G.add_edge(2,5)\n",
    "G.add_edge(1,3)\n",
    "G.add_edge(5,3)\n",
    "G.add_edge(5,1)\n",
    "G.add_edge(2,1)\n",
    "G.add_edge(3,6)\n",
    "G.add_edge(5,6)\n",
    "G.add_edge(5,7)\n",
    "G.add_edge(2,4)\n",
    "G.add_edge(9,8)\n",
    "G.add_edge(10,8)\n",
    "G.add_edge(9,10)\n",
    "G.add_edge(7,8)"
   ]
  },
  {
   "cell_type": "code",
   "execution_count": null,
   "metadata": {},
   "outputs": [],
   "source": [
    "pos=graphviz_layout(G, prog='dot')\n",
    "draw(G, pos, with_labels=True, node_size=800, node_color='y')"
   ]
  },
  {
   "cell_type": "markdown",
   "metadata": {},
   "source": [
    "### Definiamo ora una \"nostra\" classe graph per rappresentare grafi in cui gli archi sono pesati"
   ]
  },
  {
   "cell_type": "code",
   "execution_count": null,
   "metadata": {},
   "outputs": [],
   "source": [
    "class graph:\n",
    "    '''Versione 1.0: ciò che caratterizza un grafo è la definizione della sottoclasse edge\n",
    "       per la rappresentazione degli archi. Un grafo coinciderà infatti, essenzialmente, con\n",
    "       l'insieme dei suoi archi\n",
    "    '''\n",
    "    class edge:\n",
    "        '''La classe edge definisce un arco pesato. L'arco è rappresentato come \"tupla ordinata\"\n",
    "           degli estremi dell'arco stesso. Tupla e peso sono memorizzati come attributi.\n",
    "        '''\n",
    "        def __init__(self,u,v,weight=0):\n",
    "            '''Se non specificato, il peso è considerato 0. Il grafo non è ordinato\n",
    "               e dunque una tupla (x,y) coincide con la tupla (y,x). Per semplificare\n",
    "               altre operazioni, per l'arco (x,y) memorizzato vale x<y\n",
    "            '''\n",
    "            self.e = (min(u,v),max(u,v))  # Si noti che, con questa \"soluzione\" l'arco vero e proprio\n",
    "            self.w = weight               # (cioè la coppia di nodi) e il peso sono posti allo \"stesso livello\"\n",
    "        \n",
    "        def __lt__(self,other):\n",
    "            '''Un arco e1 è minore di un arco e2 se il peso di e1 è minore oppure se i pesi sono\n",
    "               uguali ma e1 precede lessicograficamente e2\n",
    "            '''\n",
    "            return self.w<other.w or self.w==other.w and self.e<other.e\n",
    "        \n",
    "        def __eq__(self,other):\n",
    "            '''Due archi sono uguali se hanno gli stessi estremi. Non somo cioè ammessi archi con\n",
    "               stessi estremi ma pesi diversi\n",
    "            '''\n",
    "            return self.e[:2]==other.e[:2]\n",
    "        \n",
    "        def __hash__(self):\n",
    "            '''Implementare questa funzione è necessario affinché una classe \"user-defined\" rappresenti\n",
    "               oggetti immutabili. Senza di essa non sarebbe possibile costruire insiemi di archi'''\n",
    "            return hash(self.e)\n",
    "        \n",
    "        def __str__(self):\n",
    "            '''Restituisce una \"rappresentazione esterna\" dell'arco. Questa funzione è usata\n",
    "               automaticamente da print().\n",
    "            '''\n",
    "            return str((self.e,self.w))\n",
    "        \n",
    "    def __init__(self,*args):\n",
    "        '''Un grafo può essere creato specificando un numero arbitrario di tuple (coppie o terne)\n",
    "           costituite dai due estremi che definiscono l'arco e l'eventuale peso\n",
    "           Nodi e archi sono memorizzati in strutture dati set (insieme)\n",
    "        '''\n",
    "        self.edges = set()\n",
    "        self.nodes = set()\n",
    "        for e in args:\n",
    "            self.edges.add(self.edge(*e))\n",
    "            self.nodes.add(e[0])\n",
    "            self.nodes.add(e[1])\n",
    "            \n",
    "    def __str__(self):\n",
    "        '''Restituisce una \"rappresentazione esterna\" del grafo.'''\n",
    "        return str([(edge.e,edge.w) for edge in self.edges])\n",
    "        \n",
    "    def sorted_edges(self):\n",
    "        '''Restituisce la lista ordinata di archi'''\n",
    "        return(sorted(self.edges))\n",
    "    \n",
    "    def add_edge(self,u,v,weight=0):\n",
    "        '''Aggiunge, se non già presente, l'arco (u,v) al grafo.\n",
    "           Aggiorna l'insieme dei vertici, inserendo anche eventuali vertici isolati.\n",
    "        '''\n",
    "        self.edges.add(self.edge(u,v,weight))\n",
    "        self.nodes = self.nodes.union({u,v})\n",
    "        for x in range(1, max(u,v)+1):\n",
    "            self.nodes.add(x)\n",
    "        "
   ]
  },
  {
   "cell_type": "code",
   "execution_count": null,
   "metadata": {},
   "outputs": [],
   "source": [
    "G = graph((1,3),(2,4),(1,3,1.2),(4,1,0.5))"
   ]
  },
  {
   "cell_type": "code",
   "execution_count": null,
   "metadata": {},
   "outputs": [],
   "source": [
    "G = graph((1,3),(2,4),(1,3,1.2),(4,1,0.5))\n",
    "print(G)\n",
    "G.add_edge(1,3,0.1)\n",
    "print(G)\n",
    "G.add_edge(1,2,0.9)\n",
    "print(G)\n",
    "print(G.sorted_edges())\n",
    "for e in G.sorted_edges():\n",
    "    print(e)"
   ]
  },
  {
   "cell_type": "code",
   "execution_count": 13,
   "metadata": {},
   "outputs": [],
   "source": [
    "class graph:\n",
    "    '''Versione 2.0: include una nuova definizione per gli archi ma il resto dei metodi è immutato\n",
    "       (come funzionalità\n",
    "    '''\n",
    "    class edge(tuple):\n",
    "        '''edge ora è sottoclasse di tuple. Un edge è dunque una tupla con in più\n",
    "           l'attributo che memorizza il peso e, come tale, può essere manipolato in modo\n",
    "           standard proprio come una tupla\n",
    "        '''\n",
    "        def __new__(cls, u,v,weight=0):\n",
    "            '''Per la creazione ridefiniamo il costruttore __new__ della supeclasse\n",
    "               passando i due estremi in ordine (prima il minore). Se si ridefinisce __new__\n",
    "               non c'è chiamata automatica a init. L'eventuale chiamata deve essere\n",
    "               esplicitamente fatta dentro __new__ ma ciò, quasi sempre, è inutile. Possiamo\n",
    "               infatti mettere le altre inizializzazioni dentro __new__stessa. Nel nostro caso,\n",
    "               si tratta solo di definire l'attributo che rappresenta il peso\n",
    "            '''\n",
    "            self = super().__new__(cls, (min(u,v), max(u,v)))\n",
    "            self.w = weight\n",
    "            return self\n",
    "        \n",
    "        def __lt__(self,other):\n",
    "            '''Prestare qui attenzione alla differenza rispetto alla versione 1.0.\n",
    "               Siccome gli archi sono tuple (e la definizione \"built-in\" di tupla supporta\n",
    "               il confronto), possiamo direttamente confrontare due archi anziché confrontare i loro\n",
    "               (non più necessari) attributi \"e\" (come nella versione 1.0). Non possiamo però usare\n",
    "               l'operatore < perché questo produrrebbe una ricorsione infinita. Dobbiamo usare\n",
    "               il confronto definito nella superclasse.\n",
    "            '''\n",
    "            return self.w<other.w or self.w==other.w and super().__lt__(other)\n",
    "        \n",
    "    def __init__(self, *args):\n",
    "        '''Identica alla versione 1.0'''\n",
    "        self.__edges = set()\n",
    "        self.__nodes = set()   \n",
    "        for e in args:\n",
    "            self.add_edge(*e)\n",
    "            \n",
    "    def __str__(self):\n",
    "        '''Notare la differenza con la 1.0'''\n",
    "        return str(set([(edge,edge.w) for edge in self.edges]))\n",
    "    \n",
    "    def __edges(self):\n",
    "        '''Identica alla 1.0'''\n",
    "        return(sorted(self.__edges))\n",
    "        \n",
    "    def adj_list(self,u):\n",
    "        '''Returns the sorted list of nodes adjacent to u in self'''\n",
    "        return sorted([e[1] if e[0]==u else e[0] for e in self.edges if u in e])        \n",
    "          \n",
    "    def add_edge(self,u,v,weight=0):\n",
    "        '''Aggiunge, se non già presente, l'arco (u,v) al grafo.\n",
    "           Aggiorna l'insieme dei vertici, inserendo anche eventuali vertici isolati.\n",
    "        '''\n",
    "        self.__edges.add(self.edge(u,v,weight))\n",
    "        self.__nodes = self.__nodes.union({u,v})\n",
    "        for x in range(1, max(u,v)+1):\n",
    "            self.__nodes.add(x)\n",
    "            \n",
    "    def __add_node(self,u):\n",
    "        self.__nodes.add(u)\n",
    "            \n",
    "    def remove_edge(self,u,v):\n",
    "        u,v = min(u,v),max(u,v)\n",
    "        if v in self.adj_list(u):\n",
    "            self.__edges.remove((u,v))\n",
    "            \n",
    "    def update_graph(self,edge_list):\n",
    "        '''Called upon a direct assignment to the edge list of the graph.\n",
    "           It simply create a new graph and copy nodes ad edges to self.\n",
    "           This way, as long as the value assigned is a legal edge list \n",
    "           (possibly with weight) the modified graph is a legal graph.\n",
    "        '''\n",
    "        from copy import copy\n",
    "        g = graph(*edge_list)\n",
    "        self.__edges=copy(g.__edges)\n",
    "        self.__nodes=copy(g.__nodes)\n",
    "            \n",
    "    edges=property(__edges, update_graph)\n",
    "    nodes=property(lambda self: self.__nodes) # nodes can only be read"
   ]
  },
  {
   "cell_type": "code",
   "execution_count": 8,
   "metadata": {},
   "outputs": [
    {
     "name": "stdout",
     "output_type": "stream",
     "text": [
      "{((1, 3), 0), ((1, 4), 0.5), ((2, 4), 0)}\n",
      "{((1, 3), 0), ((1, 4), 0.5), ((2, 4), 0)}\n",
      "{((1, 3), 0), ((1, 2), 0.9), ((1, 4), 0.5), ((2, 4), 0)}\n",
      "[(1, 3), (2, 4), (1, 4), (1, 2)]\n",
      "(1, 3)\n",
      "(2, 4)\n",
      "(1, 4)\n",
      "(1, 2)\n"
     ]
    }
   ],
   "source": [
    "G = graph((1,3),(2,4),(1,3,1.2),(4,1,0.5))\n",
    "print(G)\n",
    "G.add_edge(1,3,0.1)\n",
    "print(G)\n",
    "G.add_edge(1,2,0.9)\n",
    "print(G)\n",
    "print(G.edges)\n",
    "for e in G.edges:\n",
    "    print(e)"
   ]
  },
  {
   "cell_type": "markdown",
   "metadata": {},
   "source": [
    "## Un primo progetto completo: MST su grafo pesato"
   ]
  },
  {
   "cell_type": "markdown",
   "metadata": {},
   "source": [
    "Possiamo ora procedere con il progetto. Ci serve una funzione (ma una classe sarebbe meglio...) per leggere il grafo da file\n",
    "\n",
    "Una semplice rappresentazione esterna prevede che il grafo sia memorizzato come lista di terne, una terna per ogni riga del file:\n",
    "\n",
    "$\\large u_1\\quad v_1\\quad w_1$\n",
    "\n",
    "$\\large u_2\\quad v_2\\quad w_2$\n",
    "\n",
    "$\\large\\ldots$\n",
    "\n",
    "$\\large u_m\\quad v_m\\quad w_m$\n",
    "\n",
    "Il numero di archi del grafo coincide con il numero ***m*** di terne (distinte nei primi due elementi, che rappresentano gli estremi) nel file. Il numero ***n*** di vertici coincide invece con l'insieme degli elementi distinti presenti fra l'insieme degli estremi. Eventuali nodi isolati non sono rappresentati.\n",
    "\n",
    "Ad esempio, il grafo:\n",
    "\n",
    "$\\large 2\\quad  3\\quad  2$\n",
    "\n",
    "$\\large 5\\quad  2\\quad  4$\n",
    "\n",
    "$\\large 3\\quad  4\\quad  1$\n",
    "\n",
    "$\\large 5\\quad  1\\quad  2$\n",
    "\n",
    "$\\large 1\\quad  3\\quad  4$\n",
    "\n",
    "$\\large 7\\quad  2\\quad  4$\n",
    "\n",
    "ha 6 vertici e i seguenti archi: (2,3), (5,2), (3,4), (5,1), (1,3), (7,2). Il vertice 6 è dunque isolato. In questo caso, inoltre, i pesi sono tutti interi e positivi. "
   ]
  },
  {
   "cell_type": "code",
   "execution_count": 9,
   "metadata": {},
   "outputs": [],
   "source": [
    "def readgraph(fn):\n",
    "    '''Legge il grafo da file. Ogni riga deve essere composta da tre numeri:\n",
    "        i primi due rappresentano i nodi (estremi dell'arco) mentre il terzo\n",
    "        rappresenta il peso.'''\n",
    "    G = graph()\n",
    "    with open(fn) as f:\n",
    "        for l in f:                           # l è una riga del file, letta come stringa\n",
    "            tokens = l.strip().split(' ')     # strip() elimina caratteri \"sporchi\" a fine linea; split()\n",
    "                                              # restituisce una lista di token (definiti dal separatore spazio)\n",
    "            u = int(tokens[0])                # Il primo token rappresenta un vertice (deve essere un intero)\n",
    "            v = int(tokens[1])                # Idem per il secondo\n",
    "            w = float(tokens[2])              # Il terzo token rappresenta il peso (deve essere un reale)\n",
    "            G.add_edge(u,v,w)                 # Aggiungiamo l'arco          \n",
    "    return G"
   ]
  },
  {
   "cell_type": "code",
   "execution_count": 10,
   "metadata": {},
   "outputs": [],
   "source": [
    "G = readgraph('graph1.txt')"
   ]
  },
  {
   "cell_type": "code",
   "execution_count": 11,
   "metadata": {},
   "outputs": [
    {
     "name": "stdout",
     "output_type": "stream",
     "text": [
      "{((2, 3), 2.0), ((1, 5), 2.0), ((3, 4), 1.0), ((2, 5), 4.0), ((1, 3), 4.0)}\n"
     ]
    }
   ],
   "source": [
    "print(G)"
   ]
  },
  {
   "cell_type": "code",
   "execution_count": 12,
   "metadata": {},
   "outputs": [
    {
     "name": "stdout",
     "output_type": "stream",
     "text": [
      "(3, 4)\n",
      "(1, 5)\n",
      "(2, 3)\n",
      "(1, 3)\n",
      "(2, 5)\n"
     ]
    }
   ],
   "source": [
    "for e in G.edges:\n",
    "    print(e)"
   ]
  },
  {
   "cell_type": "markdown",
   "metadata": {},
   "source": [
    "## Costruzione di un albero di copertura di costo minimo"
   ]
  },
  {
   "cell_type": "markdown",
   "metadata": {},
   "source": [
    "... nel prossimo notebook"
   ]
  }
 ],
 "metadata": {
  "kernelspec": {
   "display_name": "Python 3",
   "language": "python",
   "name": "python3"
  },
  "language_info": {
   "codemirror_mode": {
    "name": "ipython",
    "version": 3
   },
   "file_extension": ".py",
   "mimetype": "text/x-python",
   "name": "python",
   "nbconvert_exporter": "python",
   "pygments_lexer": "ipython3",
   "version": "3.7.4+"
  }
 },
 "nbformat": 4,
 "nbformat_minor": 2
}
