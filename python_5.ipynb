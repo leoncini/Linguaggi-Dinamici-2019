{
 "cells": [
  {
   "cell_type": "markdown",
   "metadata": {},
   "source": [
    "## <span style=\"color:red\">Decorators</span>"
   ]
  },
  {
   "cell_type": "markdown",
   "metadata": {},
   "source": [
    "Un decorator in Python è una funzione (più in generale si può dire un **oggetto chiamabile**) che viene usato per modificare (decorare) il comportamento di una funzione o di una classe (e dei suoi oggetti).\n",
    "\n",
    "Il decoratore prende in input la funzione (o la classe) e restituisce la funzione (o la classe) modificata\n",
    "\n",
    "Abbiamo già utilizzato questa struttura (senza averla chiamata col nome appropriato) quando abbiamo usato @property, che è un esempio notevole di decoratore\n",
    "\n",
    "Ora vediamo la nozione in modo più approfondito"
   ]
  },
  {
   "cell_type": "markdown",
   "metadata": {},
   "source": [
    "### Ricordiamo dapprima che le funzioni sono first-class object e, a tal proposito, vediamo qualche esempio"
   ]
  },
  {
   "cell_type": "code",
   "execution_count": 25,
   "metadata": {},
   "outputs": [],
   "source": [
    "# Funzione che calcola i numeri di Fibonacci fino all'n-esimo\n",
    "def Fibonacci(n):\n",
    "    f0 = 0\n",
    "    f1 = 1\n",
    "    for _ in range(n-1):\n",
    "      f0, f1 = f1, f0+f1\n",
    "    return f1"
   ]
  },
  {
   "cell_type": "code",
   "execution_count": null,
   "metadata": {},
   "outputs": [],
   "source": [
    "Fibonacci(100)  # L'implementazione è efficiente perché... si tiene lontana \n",
    "                # dalla \"tentazione\" della ricorsione"
   ]
  },
  {
   "cell_type": "markdown",
   "metadata": {},
   "source": [
    "### Una funzione (si badi, non il risultato della chiamata di una funzione) può essere \"assegnata\" ad un nome"
   ]
  },
  {
   "cell_type": "code",
   "execution_count": null,
   "metadata": {},
   "outputs": [],
   "source": [
    "fibo = Fibonacci\n",
    "fibo(100)          # fibo e fibonacci sono la stessa funzione"
   ]
  },
  {
   "cell_type": "markdown",
   "metadata": {},
   "source": [
    "### Una funzione può essere passata come parametro ad un'altra funzione"
   ]
  },
  {
   "cell_type": "code",
   "execution_count": null,
   "metadata": {},
   "outputs": [],
   "source": [
    "def tabulate(sequence, f):           # Type checking (con possibili errori)\n",
    "    return [f(x) for x in sequence]  # solo a run-time, come ben sappiamo"
   ]
  },
  {
   "cell_type": "code",
   "execution_count": null,
   "metadata": {},
   "outputs": [],
   "source": [
    "import math\n",
    "tabulate([x*0.01 for x in range(157)], math.sin)  # Qui tutto OK. Calcola il seno da 0 a pi/2"
   ]
  },
  {
   "cell_type": "code",
   "execution_count": null,
   "metadata": {},
   "outputs": [],
   "source": [
    "tabulate(['foo','bar','baz'],math.sin)  # Qui ovviamente no!"
   ]
  },
  {
   "cell_type": "markdown",
   "metadata": {},
   "source": [
    "### Una funzione può anche essere \"restituita\" come risultato di un'altra funzione"
   ]
  },
  {
   "cell_type": "code",
   "execution_count": null,
   "metadata": {},
   "outputs": [],
   "source": [
    "def maketab(start, step, npoints):\n",
    "    '''Restituisce un \"tabulatore\" in cui sono fissati i punti in cui\n",
    "    la funzione (ogni fuzione) verrà calcolata'''\n",
    "    from math import pi\n",
    "    sequence = [start+pi*i*step for i in range(npoints)] # Il passo è implicitamente espresso come multiplo di pi\n",
    "    def tabulate(f):\n",
    "        return [f(x) for x in sequence]\n",
    "    return tabulate"
   ]
  },
  {
   "cell_type": "code",
   "execution_count": null,
   "metadata": {},
   "outputs": [],
   "source": [
    "calcola = maketab(0,0.25,9) # Da 0 a 2pi con passo pi/4"
   ]
  },
  {
   "cell_type": "code",
   "execution_count": null,
   "metadata": {},
   "outputs": [],
   "source": [
    "calcola(math.sin)   # Calcola il seno da 0 a 2pi con passo pi/4"
   ]
  },
  {
   "cell_type": "code",
   "execution_count": null,
   "metadata": {},
   "outputs": [],
   "source": [
    "calcola(math.cos)  # Calcola il coseno da 0 a 2pi con passo pi/4  "
   ]
  },
  {
   "cell_type": "markdown",
   "metadata": {},
   "source": [
    "#### Tecnicamente *calcola* è un oggetto che si chiama <span style=\"color:red\">closure</span> (cioè <span style=\"color:red\">chiusura</span>) e non semplicamente una funzione"
   ]
  },
  {
   "cell_type": "markdown",
   "metadata": {},
   "source": [
    "Ci chiediamo infatti: da dove *calcola* prende i punti cui applicare la funzione? "
   ]
  },
  {
   "cell_type": "markdown",
   "metadata": {},
   "source": [
    "La risposta sembra ovvia: i punti sono il valore di *sequence*.  un nome locale a *maketab*. "
   ]
  },
  {
   "cell_type": "markdown",
   "metadata": {},
   "source": [
    "Mmmm, ... non così ovvio! Il nome *sequence* è infatti locale per *maketab* ma non locale per *tabulate* (e dunque per *calcola*). "
   ]
  },
  {
   "cell_type": "markdown",
   "metadata": {},
   "source": [
    "Questo vuol forse dire che *maketab* viene comunque (in quache modo) \"chiamata\" quando *calcola* viene invocata? "
   ]
  },
  {
   "cell_type": "code",
   "execution_count": null,
   "metadata": {
    "scrolled": true
   },
   "outputs": [],
   "source": [
    "del(maketab)            # Ora maketab non esiste più\n",
    "calcola(lambda x: x**2) # ... ma calcola funziona egualmente"
   ]
  },
  {
   "cell_type": "markdown",
   "metadata": {},
   "source": [
    "Decisamente no. *maketab* non viene più chiamata? Allora?"
   ]
  },
  {
   "cell_type": "markdown",
   "metadata": {},
   "source": [
    "La risposta sta appunto nel concetto di *chiusura*. Ciò che *maketab* ha restituito è una funzione che \"ricorda\" i valori nello scope (non locale) in cui è stata definita, anche se questi non sono più presenti in memoria. Una *chiusura* è cioè una funzione con un namespace (di nomi non locali) \"attaccato\""
   ]
  },
  {
   "cell_type": "markdown",
   "metadata": {},
   "source": [
    "#### Ancora un esempio"
   ]
  },
  {
   "cell_type": "code",
   "execution_count": null,
   "metadata": {},
   "outputs": [],
   "source": [
    "def makePoly(*coefficients):\n",
    "    def eval(x):\n",
    "        value = 0.0\n",
    "        for c in reversed(coefficients): # coenfficient è non locale per eval\n",
    "            value = value*x + c\n",
    "        return value\n",
    "    return eval"
   ]
  },
  {
   "cell_type": "code",
   "execution_count": null,
   "metadata": {},
   "outputs": [],
   "source": [
    "p = makePoly(1,-2,1)   # x**2-2x+1 = (x-1)**2"
   ]
  },
  {
   "cell_type": "code",
   "execution_count": null,
   "metadata": {},
   "outputs": [],
   "source": [
    "for i in range(5):\n",
    "    print(p(i))"
   ]
  },
  {
   "cell_type": "markdown",
   "metadata": {},
   "source": [
    "### Un <span style=\"color:red\">decoratore</span> mette insieme le due \"costruzioni\": funzione come parametro e funzione come valore di ritorno, introducendo anche una <u>sintassi specifica</u>"
   ]
  },
  {
   "cell_type": "code",
   "execution_count": 12,
   "metadata": {},
   "outputs": [],
   "source": [
    "import math"
   ]
  },
  {
   "cell_type": "code",
   "execution_count": 13,
   "metadata": {},
   "outputs": [],
   "source": [
    "def g(x):\n",
    "    '''g è una semplice funzione che, dato x, stampa x e il valore di sin(x)'''\n",
    "    print(x,'\\t',math.sin(x))"
   ]
  },
  {
   "cell_type": "code",
   "execution_count": 14,
   "metadata": {},
   "outputs": [
    {
     "name": "stdout",
     "output_type": "stream",
     "text": [
      "0.2 \t 0.19866933079506122\n"
     ]
    }
   ],
   "source": [
    "g(0.2)"
   ]
  },
  {
   "cell_type": "markdown",
   "metadata": {},
   "source": [
    "#### Vogliamo ora \"abbellire\" l'output facendo in modo che qualsiasi sia la funzione (di una variabile) la stampa sia preceduta da un'intestazione"
   ]
  },
  {
   "cell_type": "code",
   "execution_count": 15,
   "metadata": {},
   "outputs": [],
   "source": [
    "def decoratore(f):\n",
    "    def decorata(x):\n",
    "        print('x\\t f(x)')\n",
    "        return f(x)\n",
    "    return decorata"
   ]
  },
  {
   "cell_type": "code",
   "execution_count": 16,
   "metadata": {},
   "outputs": [],
   "source": [
    "g = decoratore(g)"
   ]
  },
  {
   "cell_type": "code",
   "execution_count": 20,
   "metadata": {},
   "outputs": [
    {
     "name": "stdout",
     "output_type": "stream",
     "text": [
      "x\t f(x)\n",
      "0.2 \t 0.19866933079506122\n"
     ]
    }
   ],
   "source": [
    "g(0.2)"
   ]
  },
  {
   "cell_type": "markdown",
   "metadata": {},
   "source": [
    "#### Naturalmente non poteva mancare lo \"zucchero sintattico\""
   ]
  },
  {
   "cell_type": "code",
   "execution_count": 11,
   "metadata": {},
   "outputs": [],
   "source": [
    "@decoratore\n",
    "def g(x):\n",
    "    print(x,'\\t',math.sin(x))"
   ]
  },
  {
   "cell_type": "code",
   "execution_count": 8,
   "metadata": {},
   "outputs": [
    {
     "name": "stdout",
     "output_type": "stream",
     "text": [
      "x\t f(x)\n",
      "0.2 \t 0.19866933079506122\n"
     ]
    }
   ],
   "source": [
    "g(0.2)"
   ]
  },
  {
   "cell_type": "code",
   "execution_count": 9,
   "metadata": {},
   "outputs": [],
   "source": [
    "def decoratore(f):\n",
    "    def decorata(*x):\n",
    "        print('x\\t f(x)')\n",
    "        for z in x:\n",
    "            f(z)\n",
    "    return decorata"
   ]
  },
  {
   "cell_type": "code",
   "execution_count": 12,
   "metadata": {},
   "outputs": [
    {
     "name": "stdout",
     "output_type": "stream",
     "text": [
      "x\t f(x)\n",
      "0.01 \t 0.009999833334166664\n",
      "0.02 \t 0.01999866669333308\n",
      "0.03 \t 0.02999550020249566\n"
     ]
    }
   ],
   "source": [
    "g(0.01,0.02,0.03)"
   ]
  },
  {
   "cell_type": "code",
   "execution_count": 14,
   "metadata": {},
   "outputs": [
    {
     "name": "stdout",
     "output_type": "stream",
     "text": [
      "x\t f(x)\n",
      "0.0 \t 0.0\n",
      "0.1 \t 0.09983341664682815\n",
      "0.2 \t 0.19866933079506122\n",
      "0.3 \t 0.29552020666133955\n",
      "0.4 \t 0.3894183423086505\n",
      "0.5 \t 0.479425538604203\n",
      "0.6 \t 0.5646424733950354\n",
      "0.7 \t 0.644217687237691\n",
      "0.8 \t 0.7173560908995228\n",
      "0.9 \t 0.7833269096274834\n"
     ]
    }
   ],
   "source": [
    "g(*[i/10 for i in range(10)])"
   ]
  },
  {
   "cell_type": "markdown",
   "metadata": {},
   "source": [
    "### Tipici casi d'uso dei decoratori"
   ]
  },
  {
   "cell_type": "markdown",
   "metadata": {},
   "source": [
    "La decorazione può utilmente \"occuparsi\" (in particolare, per la chiarezza del codice) dei casi particolari di input che devono essere controllati da un algoritmo."
   ]
  },
  {
   "cell_type": "code",
   "execution_count": 21,
   "metadata": {},
   "outputs": [],
   "source": [
    "def roots2(a,b,c):\n",
    "    from cmath import sqrt\n",
    "    delta = math.sqrt(b**2-4*a*c)\n",
    "    x1 = (-b-delta)/(2*a)\n",
    "    x2 = (-b+delta)/(2*a)\n",
    "    return x1,x2"
   ]
  },
  {
   "cell_type": "code",
   "execution_count": 24,
   "metadata": {},
   "outputs": [
    {
     "data": {
      "text/plain": [
       "1.4142135623730951j"
      ]
     },
     "execution_count": 24,
     "metadata": {},
     "output_type": "execute_result"
    }
   ],
   "source": [
    "from cmath import sqrt\n",
    "sqrt(-2)"
   ]
  },
  {
   "cell_type": "code",
   "execution_count": 25,
   "metadata": {},
   "outputs": [
    {
     "ename": "ZeroDivisionError",
     "evalue": "float division by zero",
     "output_type": "error",
     "traceback": [
      "\u001b[0;31m---------------------------------------------------------------------------\u001b[0m",
      "\u001b[0;31mZeroDivisionError\u001b[0m                         Traceback (most recent call last)",
      "\u001b[0;32m<ipython-input-25-81c3c424f37a>\u001b[0m in \u001b[0;36m<module>\u001b[0;34m\u001b[0m\n\u001b[0;32m----> 1\u001b[0;31m \u001b[0mroots2\u001b[0m\u001b[0;34m(\u001b[0m\u001b[0;36m0\u001b[0m\u001b[0;34m,\u001b[0m\u001b[0;34m-\u001b[0m\u001b[0;36m2\u001b[0m\u001b[0;34m,\u001b[0m\u001b[0;36m1\u001b[0m\u001b[0;34m)\u001b[0m\u001b[0;34m\u001b[0m\u001b[0;34m\u001b[0m\u001b[0m\n\u001b[0m",
      "\u001b[0;32m<ipython-input-21-547dbea2ac62>\u001b[0m in \u001b[0;36mroots2\u001b[0;34m(a, b, c)\u001b[0m\n\u001b[1;32m      2\u001b[0m     \u001b[0;32mfrom\u001b[0m \u001b[0mcmath\u001b[0m \u001b[0;32mimport\u001b[0m \u001b[0msqrt\u001b[0m\u001b[0;34m\u001b[0m\u001b[0;34m\u001b[0m\u001b[0m\n\u001b[1;32m      3\u001b[0m     \u001b[0mdelta\u001b[0m \u001b[0;34m=\u001b[0m \u001b[0mmath\u001b[0m\u001b[0;34m.\u001b[0m\u001b[0msqrt\u001b[0m\u001b[0;34m(\u001b[0m\u001b[0mb\u001b[0m\u001b[0;34m**\u001b[0m\u001b[0;36m2\u001b[0m\u001b[0;34m-\u001b[0m\u001b[0;36m4\u001b[0m\u001b[0;34m*\u001b[0m\u001b[0ma\u001b[0m\u001b[0;34m*\u001b[0m\u001b[0mc\u001b[0m\u001b[0;34m)\u001b[0m\u001b[0;34m\u001b[0m\u001b[0;34m\u001b[0m\u001b[0m\n\u001b[0;32m----> 4\u001b[0;31m     \u001b[0mx1\u001b[0m \u001b[0;34m=\u001b[0m \u001b[0;34m(\u001b[0m\u001b[0;34m-\u001b[0m\u001b[0mb\u001b[0m\u001b[0;34m-\u001b[0m\u001b[0mdelta\u001b[0m\u001b[0;34m)\u001b[0m\u001b[0;34m/\u001b[0m\u001b[0;34m(\u001b[0m\u001b[0;36m2\u001b[0m\u001b[0;34m*\u001b[0m\u001b[0ma\u001b[0m\u001b[0;34m)\u001b[0m\u001b[0;34m\u001b[0m\u001b[0;34m\u001b[0m\u001b[0m\n\u001b[0m\u001b[1;32m      5\u001b[0m     \u001b[0mx2\u001b[0m \u001b[0;34m=\u001b[0m \u001b[0;34m(\u001b[0m\u001b[0;34m-\u001b[0m\u001b[0mb\u001b[0m\u001b[0;34m+\u001b[0m\u001b[0mdelta\u001b[0m\u001b[0;34m)\u001b[0m\u001b[0;34m/\u001b[0m\u001b[0;34m(\u001b[0m\u001b[0;36m2\u001b[0m\u001b[0;34m*\u001b[0m\u001b[0ma\u001b[0m\u001b[0;34m)\u001b[0m\u001b[0;34m\u001b[0m\u001b[0;34m\u001b[0m\u001b[0m\n\u001b[1;32m      6\u001b[0m     \u001b[0;32mreturn\u001b[0m \u001b[0mx1\u001b[0m\u001b[0;34m,\u001b[0m\u001b[0mx2\u001b[0m\u001b[0;34m\u001b[0m\u001b[0;34m\u001b[0m\u001b[0m\n",
      "\u001b[0;31mZeroDivisionError\u001b[0m: float division by zero"
     ]
    }
   ],
   "source": [
    "roots2(0,-2,1)"
   ]
  },
  {
   "cell_type": "code",
   "execution_count": 26,
   "metadata": {},
   "outputs": [],
   "source": [
    "def special_cases(f):\n",
    "    '''Tratta il caso in cui il coefficiente del termine quadratico è nullo'''\n",
    "    def checker(a,b,c):\n",
    "        if a == 0:\n",
    "            assert (b!=0), \"Almeno uno fra a e b deve essere non zero\"\n",
    "            return -c/b\n",
    "        else:\n",
    "            return f(a,b,c)\n",
    "    return checker"
   ]
  },
  {
   "cell_type": "code",
   "execution_count": 27,
   "metadata": {},
   "outputs": [],
   "source": [
    "@special_cases\n",
    "def roots2(a,b,c):\n",
    "    from cmath import sqrt\n",
    "    delta = sqrt(b**2-4*a*c)\n",
    "    x1 = (-b-delta)/(2*a)\n",
    "    x2 = (-b+delta)/(2*a)\n",
    "    return x1,x2"
   ]
  },
  {
   "cell_type": "code",
   "execution_count": 32,
   "metadata": {},
   "outputs": [
    {
     "data": {
      "text/plain": [
       "(-1.4142135623730951j, 1.4142135623730951j)"
      ]
     },
     "execution_count": 32,
     "metadata": {},
     "output_type": "execute_result"
    }
   ],
   "source": [
    "roots2(1,0,2)"
   ]
  },
  {
   "cell_type": "code",
   "execution_count": 31,
   "metadata": {},
   "outputs": [
    {
     "data": {
      "text/plain": [
       "-0.3333333333333333"
      ]
     },
     "execution_count": 31,
     "metadata": {},
     "output_type": "execute_result"
    }
   ],
   "source": [
    "roots2(0,3,1)"
   ]
  },
  {
   "cell_type": "code",
   "execution_count": 33,
   "metadata": {},
   "outputs": [
    {
     "ename": "AssertionError",
     "evalue": "Almeno uno fra a e b deve essere non zero",
     "output_type": "error",
     "traceback": [
      "\u001b[0;31m---------------------------------------------------------------------------\u001b[0m",
      "\u001b[0;31mAssertionError\u001b[0m                            Traceback (most recent call last)",
      "\u001b[0;32m<ipython-input-33-ddc96af3b50b>\u001b[0m in \u001b[0;36m<module>\u001b[0;34m\u001b[0m\n\u001b[0;32m----> 1\u001b[0;31m \u001b[0mroots2\u001b[0m\u001b[0;34m(\u001b[0m\u001b[0;36m0\u001b[0m\u001b[0;34m,\u001b[0m\u001b[0;36m0\u001b[0m\u001b[0;34m,\u001b[0m\u001b[0;36m1\u001b[0m\u001b[0;34m)\u001b[0m\u001b[0;34m\u001b[0m\u001b[0;34m\u001b[0m\u001b[0m\n\u001b[0m",
      "\u001b[0;32m<ipython-input-26-9816d4acbedb>\u001b[0m in \u001b[0;36mchecker\u001b[0;34m(a, b, c)\u001b[0m\n\u001b[1;32m      3\u001b[0m     \u001b[0;32mdef\u001b[0m \u001b[0mchecker\u001b[0m\u001b[0;34m(\u001b[0m\u001b[0ma\u001b[0m\u001b[0;34m,\u001b[0m\u001b[0mb\u001b[0m\u001b[0;34m,\u001b[0m\u001b[0mc\u001b[0m\u001b[0;34m)\u001b[0m\u001b[0;34m:\u001b[0m\u001b[0;34m\u001b[0m\u001b[0;34m\u001b[0m\u001b[0m\n\u001b[1;32m      4\u001b[0m         \u001b[0;32mif\u001b[0m \u001b[0ma\u001b[0m \u001b[0;34m==\u001b[0m \u001b[0;36m0\u001b[0m\u001b[0;34m:\u001b[0m\u001b[0;34m\u001b[0m\u001b[0;34m\u001b[0m\u001b[0m\n\u001b[0;32m----> 5\u001b[0;31m             \u001b[0;32massert\u001b[0m \u001b[0;34m(\u001b[0m\u001b[0mb\u001b[0m\u001b[0;34m!=\u001b[0m\u001b[0;36m0\u001b[0m\u001b[0;34m)\u001b[0m\u001b[0;34m,\u001b[0m \u001b[0;34m\"Almeno uno fra a e b deve essere non zero\"\u001b[0m\u001b[0;34m\u001b[0m\u001b[0;34m\u001b[0m\u001b[0m\n\u001b[0m\u001b[1;32m      6\u001b[0m             \u001b[0;32mreturn\u001b[0m \u001b[0;34m-\u001b[0m\u001b[0mc\u001b[0m\u001b[0;34m/\u001b[0m\u001b[0mb\u001b[0m\u001b[0;34m\u001b[0m\u001b[0;34m\u001b[0m\u001b[0m\n\u001b[1;32m      7\u001b[0m         \u001b[0;32melse\u001b[0m\u001b[0;34m:\u001b[0m\u001b[0;34m\u001b[0m\u001b[0;34m\u001b[0m\u001b[0m\n",
      "\u001b[0;31mAssertionError\u001b[0m: Almeno uno fra a e b deve essere non zero"
     ]
    }
   ],
   "source": [
    "roots2(0,0,1)"
   ]
  },
  {
   "cell_type": "markdown",
   "metadata": {},
   "source": [
    "Un secondo caso di utilizzo è la raccolta di statistiche sull'uso di una funzione (tempo di esecuzione, numero di volte che è stata chiamata, ...)"
   ]
  },
  {
   "cell_type": "code",
   "execution_count": 2,
   "metadata": {},
   "outputs": [],
   "source": [
    "from time import time"
   ]
  },
  {
   "cell_type": "code",
   "execution_count": 23,
   "metadata": {},
   "outputs": [
    {
     "data": {
      "text/plain": [
       "1572260584.2236798"
      ]
     },
     "execution_count": 23,
     "metadata": {},
     "output_type": "execute_result"
    }
   ],
   "source": [
    "time()"
   ]
  },
  {
   "cell_type": "code",
   "execution_count": 15,
   "metadata": {},
   "outputs": [],
   "source": [
    "n = 35"
   ]
  },
  {
   "cell_type": "code",
   "execution_count": 3,
   "metadata": {},
   "outputs": [],
   "source": [
    "def Fibonacci_ric(n):\n",
    "    if n == 0 or n == 1:\n",
    "        return n\n",
    "    return Fibonacci_ric(n-2)+Fibonacci_ric(n-1)"
   ]
  },
  {
   "cell_type": "code",
   "execution_count": 19,
   "metadata": {},
   "outputs": [
    {
     "name": "stdout",
     "output_type": "stream",
     "text": [
      "Tempo di esecuzione di Fibonacci_ric(30): 1949ms\n"
     ]
    }
   ],
   "source": [
    "start_time = int(round(time() * 1000)) #tempo in millisecondi (trascorso a partire dal 1/1/1970\n",
    "Fibonacci_ric(n)\n",
    "stop_time = int(round(time() * 1000))\n",
    "elapsed_time = stop_time-start_time\n",
    "print(\"Tempo di esecuzione di Fibonacci_ric({}): {}ms\".format(n, elapsed_time))"
   ]
  },
  {
   "cell_type": "code",
   "execution_count": 25,
   "metadata": {},
   "outputs": [],
   "source": [
    "def my_timer(f):\n",
    "    from time import time\n",
    "    def timedfun(n):\n",
    "        start_time = int(round(time() * 1000))\n",
    "        res = f(n)\n",
    "        stop_time = int(round(time() * 1000))\n",
    "        timedfun.time = stop_time-start_time\n",
    "        return res\n",
    "    return timedfun\n",
    "\n",
    "@my_timer\n",
    "def Fibonacci_ric(n):\n",
    "    if n == 0 or n == 1:\n",
    "        return n\n",
    "    return Fibonacci_ric(n-2)+Fibonacci_ric(n-1)\n",
    "\n",
    "@my_timer\n",
    "def Fibonacci(n):\n",
    "    f0 = 0\n",
    "    f1 = 1\n",
    "    for _ in range(n-1):\n",
    "      f0, f1 = f1, f0+f1\n",
    "    return f1"
   ]
  },
  {
   "cell_type": "code",
   "execution_count": null,
   "metadata": {},
   "outputs": [],
   "source": [
    "n = 35\n",
    "res = Fibonacci_ric(n)\n",
    "print(\"Tempo di esecuzione di Fibonacci_ric({}): {}ms\".format(n, Fibonacci_ric.time))\n",
    "print(\"F_{}={}\".format(n,res))\n",
    "res = Fibonacci(n)\n",
    "print(\"Tempo di esecuzione di Fibonacci({}): {}ms\".format(n, Fibonacci.time))\n",
    "print(\"F_{}={}\".format(n,res))"
   ]
  },
  {
   "cell_type": "markdown",
   "metadata": {},
   "source": [
    "#### Piccola curiosità su Fibonacci"
   ]
  },
  {
   "cell_type": "code",
   "execution_count": 40,
   "metadata": {},
   "outputs": [
    {
     "name": "stdout",
     "output_type": "stream",
     "text": [
      "n\tRapporto F_n/F_n-1={}\tScarto con phi\n",
      "2\t1.0000000000\t\t-0.382\n",
      "3\t2.0000000000\t\t0.236\n",
      "4\t1.5000000000\t\t-0.0729\n",
      "5\t1.6666666667\t\t0.0301\n",
      "6\t1.6000000000\t\t-0.0111\n",
      "7\t1.6250000000\t\t0.00431\n",
      "8\t1.6153846154\t\t-0.00164\n",
      "9\t1.6190476190\t\t0.000626\n",
      "10\t1.6176470588\t\t-0.000239\n",
      "11\t1.6181818182\t\t9.14e-05\n",
      "12\t1.6179775281\t\t-3.49e-05\n",
      "13\t1.6180555556\t\t1.33e-05\n",
      "14\t1.6180257511\t\t-5.09e-06\n",
      "15\t1.6180371353\t\t1.94e-06\n",
      "16\t1.6180327869\t\t-7.43e-07\n",
      "17\t1.6180344478\t\t2.84e-07\n",
      "18\t1.6180338134\t\t-1.08e-07\n",
      "19\t1.6180340557\t\t4.14e-08\n",
      "20\t1.6180339632\t\t-1.58e-08\n",
      "21\t1.6180339985\t\t6.04e-09\n",
      "22\t1.6180339850\t\t-2.31e-09\n",
      "23\t1.6180339902\t\t8.81e-10\n",
      "24\t1.6180339882\t\t-3.37e-10\n",
      "25\t1.6180339890\t\t1.29e-10\n",
      "26\t1.6180339887\t\t-4.91e-11\n",
      "27\t1.6180339888\t\t1.88e-11\n",
      "28\t1.6180339887\t\t-7.16e-12\n",
      "29\t1.6180339888\t\t2.74e-12\n",
      "30\t1.6180339887\t\t-1.05e-12\n",
      "31\t1.6180339888\t\t3.99e-13\n",
      "32\t1.6180339887\t\t-1.52e-13\n",
      "33\t1.6180339887\t\t5.82e-14\n",
      "34\t1.6180339887\t\t-2.22e-14\n",
      "35\t1.6180339887\t\t8.51e-15\n",
      "36\t1.6180339887\t\t-3.29e-15\n",
      "37\t1.6180339887\t\t1.24e-15\n",
      "38\t1.6180339887\t\t-5.49e-16\n",
      "39\t1.6180339887\t\t1.37e-16\n",
      "40\t1.6180339887\t\t-1.37e-16\n",
      "41\t1.6180339887\t\t0.0\n",
      "42\t1.6180339887\t\t0.0\n",
      "43\t1.6180339887\t\t0.0\n",
      "44\t1.6180339887\t\t0.0\n",
      "45\t1.6180339887\t\t0.0\n",
      "46\t1.6180339887\t\t0.0\n",
      "47\t1.6180339887\t\t0.0\n",
      "48\t1.6180339887\t\t0.0\n",
      "49\t1.6180339887\t\t0.0\n",
      "50\t1.6180339887\t\t0.0\n"
     ]
    }
   ],
   "source": [
    "from math import sqrt\n",
    "phi = (1+sqrt(5))/2    # Phi è il rapporto aureo\n",
    "F0 = Fibonacci(1)\n",
    "print(\"n\\tRapporto F_n/F_n-1={}\\tScarto con phi\")\n",
    "for n in range(2,51):\n",
    "    F1 = Fibonacci(n)\n",
    "    R = F1/F0\n",
    "    F0 = F1\n",
    "    print(\"{0}\\t{1:.10f}\\t\\t{2:.3}\".format(n,R,(R-phi)/phi))"
   ]
  },
  {
   "cell_type": "markdown",
   "metadata": {},
   "source": [
    "#### I risultati mostrano che $F_n$ asintoticamente si comporta come $\\phi^n$ "
   ]
  },
  {
   "cell_type": "markdown",
   "metadata": {},
   "source": [
    "### Tempo di esecuzione di *insertion sort*"
   ]
  },
  {
   "cell_type": "code",
   "execution_count": 41,
   "metadata": {},
   "outputs": [],
   "source": [
    "@my_timer\n",
    "def insSort(A):\n",
    "    n = len(A)\n",
    "    for i in range(1,n):\n",
    "        temp = A[i]\n",
    "        j = i-1\n",
    "        while j>=0 and A[j]>temp:\n",
    "            A[j+1] = A[j]\n",
    "            j = j-1\n",
    "        A[j+1] = temp"
   ]
  },
  {
   "cell_type": "code",
   "execution_count": 42,
   "metadata": {},
   "outputs": [],
   "source": [
    "from random import randint"
   ]
  },
  {
   "cell_type": "code",
   "execution_count": 45,
   "metadata": {},
   "outputs": [],
   "source": [
    "n = 40000\n",
    "A = [randint(1,100) for _ in range(n)]"
   ]
  },
  {
   "cell_type": "code",
   "execution_count": 46,
   "metadata": {},
   "outputs": [
    {
     "name": "stdout",
     "output_type": "stream",
     "text": [
      "Tempo di esecuzione di insSort(A): 37573ms\n"
     ]
    }
   ],
   "source": [
    "insSort(A)\n",
    "print(\"Tempo di esecuzione di insSort(A): {}ms\".format(insSort.time))"
   ]
  },
  {
   "cell_type": "markdown",
   "metadata": {},
   "source": [
    "### Un timer per funzioni con generico numero di parametri"
   ]
  },
  {
   "cell_type": "code",
   "execution_count": 57,
   "metadata": {},
   "outputs": [],
   "source": [
    "def general_timer(f):\n",
    "    def timedfun(*args, **kw):\n",
    "        start_time = int(round(time() * 1000))\n",
    "        res = f(*args, **kw)\n",
    "        stop_time = int(round(time() * 1000))\n",
    "        timedfun.time = stop_time-start_time\n",
    "        return res\n",
    "    return timedfun"
   ]
  },
  {
   "cell_type": "code",
   "execution_count": 50,
   "metadata": {},
   "outputs": [],
   "source": [
    "@general_timer\n",
    "def insSort(A):\n",
    "    n = len(A)\n",
    "    for i in range(1,n):\n",
    "        temp = A[i]\n",
    "        j = i-1\n",
    "        while j>=0 and A[j]>temp:\n",
    "            A[j+1] = A[j]\n",
    "            j = j-1\n",
    "        A[j+1] = temp"
   ]
  },
  {
   "cell_type": "code",
   "execution_count": 53,
   "metadata": {},
   "outputs": [
    {
     "name": "stdout",
     "output_type": "stream",
     "text": [
      "Tempo di esecuzione di insSort(A): 5ms\n"
     ]
    }
   ],
   "source": [
    "insSort(A)\n",
    "print(\"Tempo di esecuzione di insSort(A): {}ms\".format(insSort.time))"
   ]
  },
  {
   "cell_type": "markdown",
   "metadata": {},
   "source": [
    "### Anziché il tempo, si potrebbe voler misurare (ad esempio) il numero di chiamate di una funzione ricorsiva"
   ]
  },
  {
   "cell_type": "code",
   "execution_count": 34,
   "metadata": {},
   "outputs": [],
   "source": [
    "def callcnt(f):\n",
    "    def counter(*args, **kw):\n",
    "        counter.calls += 1\n",
    "        return f(*args, **kw)\n",
    "    return counter"
   ]
  },
  {
   "cell_type": "code",
   "execution_count": 35,
   "metadata": {},
   "outputs": [],
   "source": [
    "@callcnt\n",
    "def Fibonacci_rec(n):\n",
    "    if n == 1 or n == 2:\n",
    "        return 1\n",
    "    return Fibonacci_rec(n-2)+Fibonacci_rec(n-1)"
   ]
  },
  {
   "cell_type": "code",
   "execution_count": 36,
   "metadata": {},
   "outputs": [
    {
     "name": "stdout",
     "output_type": "stream",
     "text": [
      "Il numero C(25) di chiamate ricorsive è 150049\n",
      "Il valore di f(25) è 75025\n",
      "Controllo, C(25) == 2*f(25)-1: True\n"
     ]
    }
   ],
   "source": [
    "n = 25\n",
    "Fibonacci_rec.calls = 0\n",
    "v = Fibonacci_rec(n)\n",
    "print(f\"Il numero C({n}) di chiamate ricorsive è {Fibonacci_rec.calls}\")\n",
    "print(f\"Il valore di f({n}) è {v}\")\n",
    "print(f\"Controllo, C({n}) == 2*f({n})-1: {Fibonacci_rec.calls==2*v-1}\")"
   ]
  },
  {
   "cell_type": "markdown",
   "metadata": {},
   "source": [
    "### Qualche primo elemento di *introspection*"
   ]
  },
  {
   "cell_type": "markdown",
   "metadata": {},
   "source": [
    "#### La <span style=\"color:red\">introspezione</span>  è la capacità di un oggetto di avere, a tempo di esecuzione, conoscenza degli attributi propri e di altri oggetti"
   ]
  },
  {
   "cell_type": "code",
   "execution_count": 41,
   "metadata": {},
   "outputs": [
    {
     "name": "stdout",
     "output_type": "stream",
     "text": [
      "Sto valutando la funzione una_funzione\n"
     ]
    }
   ],
   "source": [
    "def una_funzione(*x):\n",
    "    pass\n",
    "\n",
    "def valuta(f,*x):\n",
    "    print(f\"Sto valutando la funzione {f.__name__}\")\n",
    "    return f(*x)\n",
    "valuta(una_funzione)"
   ]
  },
  {
   "cell_type": "markdown",
   "metadata": {},
   "source": [
    "Con i decoratori di mezzo ci possono però essere problemi"
   ]
  },
  {
   "cell_type": "code",
   "execution_count": 43,
   "metadata": {},
   "outputs": [
    {
     "name": "stdout",
     "output_type": "stream",
     "text": [
      "counter\n"
     ]
    }
   ],
   "source": [
    "print(Fibonacci_rec.__name__)"
   ]
  },
  {
   "cell_type": "code",
   "execution_count": 47,
   "metadata": {},
   "outputs": [],
   "source": [
    "def callcnt(f):\n",
    "    from functools import wraps\n",
    "    @wraps(f)\n",
    "    def counter(*args, **kw):\n",
    "        counter.calls += 1\n",
    "        return f(*args, **kw)\n",
    "    return counter"
   ]
  },
  {
   "cell_type": "code",
   "execution_count": 48,
   "metadata": {},
   "outputs": [],
   "source": [
    "@callcnt\n",
    "def Fibonacci_rec(n):\n",
    "    if n == 1 or n == 2:\n",
    "        return 1\n",
    "    return Fibonacci_rec(n-2)+Fibonacci_rec(n-1)"
   ]
  },
  {
   "cell_type": "code",
   "execution_count": 49,
   "metadata": {},
   "outputs": [
    {
     "name": "stdout",
     "output_type": "stream",
     "text": [
      "Fibonacci_rec\n"
     ]
    }
   ],
   "source": [
    "print(Fibonacci_rec.__name__)"
   ]
  },
  {
   "cell_type": "markdown",
   "metadata": {},
   "source": [
    "#### Per concludere: un utile *template* generale"
   ]
  },
  {
   "cell_type": "code",
   "execution_count": null,
   "metadata": {},
   "outputs": [],
   "source": [
    "def decoratore(f):\n",
    "    from functools import wrap\n",
    "    @wrap(f)\n",
    "    def modificata(*args,**kwars):\n",
    "        # Eventuale codice da eseguire prima di f\n",
    "        ris = f(*args,**kwargs) # Esecuzione di f e memorizzazione del risultato\n",
    "        # Eventuale codice da eseguire dopo f\n",
    "        return ris\n",
    "    return modificata"
   ]
  },
  {
   "cell_type": "markdown",
   "metadata": {},
   "source": [
    "### Digressione. \\__call\\__: un interessante \"metodo magico\""
   ]
  },
  {
   "cell_type": "markdown",
   "metadata": {},
   "source": [
    "Vogliamo implementare un semplice generatore pseudo-casuale, da non utilizzare per scopi crittografici...."
   ]
  },
  {
   "cell_type": "markdown",
   "metadata": {},
   "source": [
    "Il generatore produce una sequenza di numeri $<R_n>$ nell'intervallo \\[0,1), così definiti:\n",
    "\n",
    "$$\\begin{eqnarray*}\n",
    "X_n&=&a\\cdot X_{n-1} \\mathrm{mod}\\ m\\\\\n",
    "R_n&=&\\frac{X_n}{m}\n",
    "\\end{eqnarray*}\n",
    "$$\n",
    "con $n=1,2,\\ldots$, dove $a, m$ e $X_0$ sono opportunamente scelti"
   ]
  },
  {
   "cell_type": "code",
   "execution_count": 52,
   "metadata": {},
   "outputs": [],
   "source": [
    "class myrand:\n",
    "    '''Un semplice generatore pseudo-casuale'''\n",
    "    def __init__(self):\n",
    "        from time import time\n",
    "        self._a = 16807               # a = 16807\n",
    "        self._m = (1 << 31) - 1       # m = 2^31 -1\n",
    "        self._d = 1.0/self._m\n",
    "        self._x = int(time())%self._m # x_0 \"casuale\", dipendente dal tempo\n",
    "        if self._x==0:\n",
    "            self._x = 1               # ... ma non 0\n",
    "        for i in range(10000):  # Facciamo un po' di giri \"a vuoto\" per rendere i numeri\n",
    "                                # (apparentemente) indipendenti dal seme iniziale\n",
    "            self.__call__()\n",
    "    \n",
    "    def __call__(self):\n",
    "        self._x = (self._a*self._x)%self._m\n",
    "        return self._x*self._d"
   ]
  },
  {
   "cell_type": "code",
   "execution_count": 53,
   "metadata": {},
   "outputs": [],
   "source": [
    "r = myrand()"
   ]
  },
  {
   "cell_type": "code",
   "execution_count": 55,
   "metadata": {
    "scrolled": true
   },
   "outputs": [
    {
     "name": "stdout",
     "output_type": "stream",
     "text": [
      "0.41678541918135503\n",
      "0.9125401810335648\n",
      "0.0628226311238588\n",
      "0.8599612986948161\n",
      "0.3695471637740485\n",
      "0.9791815504334781\n",
      "0.10431813546657476\n",
      "0.27490278672189583\n",
      "0.2911364349029662\n",
      "0.1300614141533437\n"
     ]
    }
   ],
   "source": [
    "for _ in range(10):\n",
    "    print(r())   # r() è zucchero sintattico per r.__call__()"
   ]
  },
  {
   "cell_type": "markdown",
   "metadata": {},
   "source": [
    "L'esempio (semplice) illustra come il metodo \\__call\\__ possa essere chiamato col nome stesso della classe; questo ne rende l'uso di comprensione immediata. Si tratta di un  possibile modo per realizzare \"funzioni con stato\"."
   ]
  }
 ],
 "metadata": {
  "kernelspec": {
   "display_name": "Python 3",
   "language": "python",
   "name": "python3"
  },
  "language_info": {
   "codemirror_mode": {
    "name": "ipython",
    "version": 3
   },
   "file_extension": ".py",
   "mimetype": "text/x-python",
   "name": "python",
   "nbconvert_exporter": "python",
   "pygments_lexer": "ipython3",
   "version": "3.7.4+"
  }
 },
 "nbformat": 4,
 "nbformat_minor": 2
}
