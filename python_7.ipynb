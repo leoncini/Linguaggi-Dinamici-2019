{
 "cells": [
  {
   "cell_type": "markdown",
   "metadata": {},
   "source": [
    "## <span style=\"color:red\">Accesso agli attributi e descrittori</span>"
   ]
  },
  {
   "cell_type": "markdown",
   "metadata": {},
   "source": [
    "Un aspetto di Python che è necessario comprendere bene nei dettagli, per apprezzarne la ricchezza e le ampie possibilità di utilizzo, è l'insieme dei \"maccanismi\" di accesso agli attributi degli oggetti. In realtà, si tratta ben più del semplice \"accesso\"; sono mezzi che il linguaggio mette a disposizione per conferire _significato_ agli attributi.\n",
    "\n",
    "Qualcosa abbiamo già visto, ma ora è necessario entrare in maggiori dettagli"
   ]
  },
  {
   "cell_type": "markdown",
   "metadata": {},
   "source": [
    "#### Protocollo standard"
   ]
  },
  {
   "cell_type": "code",
   "execution_count": 1,
   "metadata": {},
   "outputs": [],
   "source": [
    "class father:\n",
    "    \n",
    "    z = \"A class attribute\""
   ]
  },
  {
   "cell_type": "code",
   "execution_count": null,
   "metadata": {},
   "outputs": [],
   "source": [
    "class daughter(father):\n",
    "    \n",
    "    y = \"Another class attribute\"\n",
    "    \n",
    "    def __init__(self, x=''):\n",
    "        self.x = x"
   ]
  },
  {
   "cell_type": "markdown",
   "metadata": {},
   "source": [
    "Quando viene tentato l'accesso ad un attributo _a_ di un oggetto _x_, viene invocato il metodo <em>\\_\\_getattribute\\_\\_</em> di x (che, tipicamente, è definito nella classe <em>object</em>, classe base - diretta o indiretta - di qualsiasi altra classe in Python 3)\n",
    "\n",
    "Il comportamento \"osservabile\" di \\_\\_getattribute\\_\\_ è il seguente\n",
    "\n",
    "1. Se _a_ è una chiave presente nel dizionario x.\\_\\_dict\\_\\_ allora restituisce il corrispondente valore"
   ]
  },
  {
   "cell_type": "code",
   "execution_count": null,
   "metadata": {},
   "outputs": [],
   "source": [
    "d = daughter('Ann')\n",
    "print(d.x)\n",
    "d.__dict__"
   ]
  },
  {
   "cell_type": "markdown",
   "metadata": {},
   "source": [
    "2. Se _a_ è presente nel dizionario della classe o, in caso negativo, di una superclasse, allora restituisce il corrispondente valore"
   ]
  },
  {
   "cell_type": "code",
   "execution_count": null,
   "metadata": {},
   "outputs": [],
   "source": [
    "print(d.y)\n",
    "type(d).__dict__"
   ]
  },
  {
   "cell_type": "code",
   "execution_count": null,
   "metadata": {},
   "outputs": [],
   "source": [
    "print(d.y)\n",
    "father.__dict__"
   ]
  },
  {
   "cell_type": "markdown",
   "metadata": {},
   "source": [
    "3. Se un attributo <u>non viene trovato</u> nel modo sopra esposto e nella classe <u>non è definito</u> il particolare metodo <em>\\_\\_getattr\\_\\_</em> allora solleva un'eccezione (errore di tipo <em>AttributeError</em>)"
   ]
  },
  {
   "cell_type": "code",
   "execution_count": null,
   "metadata": {},
   "outputs": [],
   "source": [
    "d.w"
   ]
  },
  {
   "cell_type": "markdown",
   "metadata": {},
   "source": [
    "4. Se un attributo <u>non viene trovato</u> ma nella classe <u>esiste</u> il metodo <em>\\_\\_getattr\\_\\_</em> allora invoca quest'ultimo (con l'attributo come parametro)"
   ]
  },
  {
   "cell_type": "code",
   "execution_count": 2,
   "metadata": {},
   "outputs": [],
   "source": [
    "class daughter(father):\n",
    "    \n",
    "    y = \"Another class attribute\"\n",
    "    \n",
    "    def __init__(self, x=''):\n",
    "        self.x = x\n",
    "        \n",
    "    def __getattr__(self,e):\n",
    "        print(f\"Attributo {e} non trovato\")\n",
    "        return None"
   ]
  },
  {
   "cell_type": "code",
   "execution_count": 4,
   "metadata": {},
   "outputs": [
    {
     "name": "stdout",
     "output_type": "stream",
     "text": [
      "Attributo w non trovato\n"
     ]
    }
   ],
   "source": [
    "d = daughter('Ann')\n",
    "d.w"
   ]
  },
  {
   "cell_type": "markdown",
   "metadata": {},
   "source": [
    "Non sorprende che, secondo la \"filosofia Python\", quanto esposto può essere modificato ridefinendo proprio il metodo <em>\\_\\_getattribute\\_\\_</em>"
   ]
  },
  {
   "cell_type": "code",
   "execution_count": 5,
   "metadata": {},
   "outputs": [],
   "source": [
    "class esempio1(father):\n",
    "    ''' Semplice classe che illustra il protocollo di accesso\n",
    "        agli attributi mediante il metodo __getattribute__ esplicitamente\n",
    "        riscritto\n",
    "    '''\n",
    "    \n",
    "    y = \"Another class attribute\"\n",
    "    \n",
    "    def __init__(self, x=0):\n",
    "        '''Ogni oggetto ha un solo attributo dinamico'''\n",
    "        self.x = x\n",
    "        \n",
    "    def __getattribute__(self, attr):\n",
    "        '''Esegue l'accesso all'attributo mediante il metodo in object'''\n",
    "        print(f\"Look up dell'attributo {attr}\")\n",
    "        return object.__getattribute__(self, attr)\n",
    "    \n",
    "    def __getattr__(self, attr):\n",
    "        '''Gestisce l'eccezione \"AttributeError\" '''\n",
    "        print(f\"Se l'attributo {attr} non è definito viene chiamata __getattr__\")\n",
    "        return None"
   ]
  },
  {
   "cell_type": "code",
   "execution_count": 6,
   "metadata": {},
   "outputs": [
    {
     "name": "stdout",
     "output_type": "stream",
     "text": [
      "Look up dell'attributo x\n"
     ]
    },
    {
     "data": {
      "text/plain": [
       "0"
      ]
     },
     "execution_count": 6,
     "metadata": {},
     "output_type": "execute_result"
    }
   ],
   "source": [
    "a = esempio1()\n",
    "a.x           # Caso di attributo presente nell'oggetto"
   ]
  },
  {
   "cell_type": "code",
   "execution_count": 8,
   "metadata": {},
   "outputs": [
    {
     "name": "stdout",
     "output_type": "stream",
     "text": [
      "Look up dell'attributo y\n"
     ]
    },
    {
     "data": {
      "text/plain": [
       "'A class variable'"
      ]
     },
     "execution_count": 8,
     "metadata": {},
     "output_type": "execute_result"
    }
   ],
   "source": [
    "a.y          # Caso di attributo presente nella classe"
   ]
  },
  {
   "cell_type": "code",
   "execution_count": 9,
   "metadata": {},
   "outputs": [
    {
     "name": "stdout",
     "output_type": "stream",
     "text": [
      "Look up dell'attributo w\n",
      "Se l'attributo w non è definito viene chiamata __getattr__\n"
     ]
    }
   ],
   "source": [
    "a.w           # Caso di attributo non definito"
   ]
  },
  {
   "cell_type": "markdown",
   "metadata": {},
   "source": [
    "#### Quando lo zucchero non è solo zucchero..."
   ]
  },
  {
   "cell_type": "code",
   "execution_count": 11,
   "metadata": {},
   "outputs": [
    {
     "name": "stdout",
     "output_type": "stream",
     "text": [
      "Look up dell'attributo __getattribute__\n",
      "Look up dell'attributo z\n"
     ]
    },
    {
     "data": {
      "text/plain": [
       "'A class attribute'"
      ]
     },
     "execution_count": 11,
     "metadata": {},
     "output_type": "execute_result"
    }
   ],
   "source": [
    "# Attenzione\n",
    "a.__getattribute__('z') # Chiamata esplicita del metodo; risultato ok perché z esiste"
   ]
  },
  {
   "cell_type": "code",
   "execution_count": 12,
   "metadata": {},
   "outputs": [
    {
     "name": "stdout",
     "output_type": "stream",
     "text": [
      "Look up dell'attributo __getattribute__\n",
      "Look up dell'attributo w\n"
     ]
    },
    {
     "ename": "AttributeError",
     "evalue": "'esempio1' object has no attribute 'w'",
     "output_type": "error",
     "traceback": [
      "\u001b[0;31m---------------------------------------------------------------------------\u001b[0m",
      "\u001b[0;31mAttributeError\u001b[0m                            Traceback (most recent call last)",
      "\u001b[0;32m<ipython-input-12-c8ab41d6654c>\u001b[0m in \u001b[0;36m<module>\u001b[0;34m\u001b[0m\n\u001b[0;32m----> 1\u001b[0;31m \u001b[0ma\u001b[0m\u001b[0;34m.\u001b[0m\u001b[0m__getattribute__\u001b[0m\u001b[0;34m(\u001b[0m\u001b[0;34m'w'\u001b[0m\u001b[0;34m)\u001b[0m \u001b[0;31m# L'eccezione non viene intrappolata perché __getattribute__\u001b[0m\u001b[0;34m\u001b[0m\u001b[0;34m\u001b[0m\u001b[0m\n\u001b[0m\u001b[1;32m      2\u001b[0m                         \u001b[0;31m# non chiama __getattr__\u001b[0m\u001b[0;34m\u001b[0m\u001b[0;34m\u001b[0m\u001b[0;34m\u001b[0m\u001b[0m\n",
      "\u001b[0;32m<ipython-input-5-4a1b248603f6>\u001b[0m in \u001b[0;36m__getattribute__\u001b[0;34m(self, attr)\u001b[0m\n\u001b[1;32m     14\u001b[0m         \u001b[0;34m'''Esegue l'accesso all'attributo mediante il metodo in object'''\u001b[0m\u001b[0;34m\u001b[0m\u001b[0;34m\u001b[0m\u001b[0m\n\u001b[1;32m     15\u001b[0m         \u001b[0mprint\u001b[0m\u001b[0;34m(\u001b[0m\u001b[0;34mf\"Look up dell'attributo {attr}\"\u001b[0m\u001b[0;34m)\u001b[0m\u001b[0;34m\u001b[0m\u001b[0;34m\u001b[0m\u001b[0m\n\u001b[0;32m---> 16\u001b[0;31m         \u001b[0;32mreturn\u001b[0m \u001b[0mobject\u001b[0m\u001b[0;34m.\u001b[0m\u001b[0m__getattribute__\u001b[0m\u001b[0;34m(\u001b[0m\u001b[0mself\u001b[0m\u001b[0;34m,\u001b[0m \u001b[0mattr\u001b[0m\u001b[0;34m)\u001b[0m\u001b[0;34m\u001b[0m\u001b[0;34m\u001b[0m\u001b[0m\n\u001b[0m\u001b[1;32m     17\u001b[0m \u001b[0;34m\u001b[0m\u001b[0m\n\u001b[1;32m     18\u001b[0m     \u001b[0;32mdef\u001b[0m \u001b[0m__getattr__\u001b[0m\u001b[0;34m(\u001b[0m\u001b[0mself\u001b[0m\u001b[0;34m,\u001b[0m \u001b[0mattr\u001b[0m\u001b[0;34m)\u001b[0m\u001b[0;34m:\u001b[0m\u001b[0;34m\u001b[0m\u001b[0;34m\u001b[0m\u001b[0m\n",
      "\u001b[0;31mAttributeError\u001b[0m: 'esempio1' object has no attribute 'w'"
     ]
    }
   ],
   "source": [
    "a.__getattribute__('w') # L'eccezione non viene intrappolata perché __getattribute__\n",
    "                        # non chiama __getattr__"
   ]
  },
  {
   "cell_type": "markdown",
   "metadata": {},
   "source": [
    "a.\\_\\_getattribute\\_\\_('w') non è dunque completamente equivalente a scrivere a.w\n",
    "\n",
    "Nel secondo caso è l'interprete che, quando \\_\\_getattribute\\_\\_ solleva l'eccezione, invoca il metodo di gestione \\_\\_getattr\\_\\_\n",
    "\n",
    "Per avere completa equivalenza, con la riscrittura esplicita di \\_\\_getattribute\\_\\_, bisogna farsi carico di ciò"
   ]
  },
  {
   "cell_type": "code",
   "execution_count": 13,
   "metadata": {},
   "outputs": [],
   "source": [
    "class esempio2(father):\n",
    "    ''' Versione aderente ai punti 1-4 indicati sopra per il comportamento di\n",
    "        __getattribute__\n",
    "    '''\n",
    "    \n",
    "    y = \"Another class attribute\"\n",
    "    \n",
    "    def __init__(self, x = 0):\n",
    "        '''Ogni oggetto ha un solo attributo dinamico'''\n",
    "        self.x = x\n",
    "        \n",
    "    def __getattribute__(self, attr):\n",
    "        ''' Implementa i punti 1-4 del protocollo definito sopra\n",
    "        '''\n",
    "        try:\n",
    "            print(f\"Look up dell'attributo {attr}\")\n",
    "            return object.__getattribute__(self,attr)\n",
    "        except AttributeError:\n",
    "            try:\n",
    "                return object.__getattr__(self,attr)\n",
    "            except AttributeError:\n",
    "                print(f\"L'attributo {attr} e il metodo __getattr__ non sono definiti\")\n",
    "                return None\n",
    "    \n",
    "    def __getattr__(self, attr):\n",
    "        '''Gestisce l'eccezione \"AttributeError\" '''\n",
    "        print(f\"Se l'attributo {attr} non è definito viene chiamata __getattr__\")\n",
    "        return None"
   ]
  },
  {
   "cell_type": "code",
   "execution_count": 14,
   "metadata": {},
   "outputs": [
    {
     "name": "stdout",
     "output_type": "stream",
     "text": [
      "Look up dell'attributo x\n"
     ]
    },
    {
     "data": {
      "text/plain": [
       "0"
      ]
     },
     "execution_count": 14,
     "metadata": {},
     "output_type": "execute_result"
    }
   ],
   "source": [
    "a = esempio2()\n",
    "a.x"
   ]
  },
  {
   "cell_type": "code",
   "execution_count": 15,
   "metadata": {},
   "outputs": [
    {
     "name": "stdout",
     "output_type": "stream",
     "text": [
      "Look up dell'attributo __getattribute__\n",
      "Look up dell'attributo x\n"
     ]
    },
    {
     "data": {
      "text/plain": [
       "0"
      ]
     },
     "execution_count": 15,
     "metadata": {},
     "output_type": "execute_result"
    }
   ],
   "source": [
    "a.__getattribute__('x')"
   ]
  },
  {
   "cell_type": "code",
   "execution_count": 16,
   "metadata": {},
   "outputs": [
    {
     "name": "stdout",
     "output_type": "stream",
     "text": [
      "Look up dell'attributo w\n",
      "L'attributo w e il metodo __getattr__ non sono definiti\n"
     ]
    }
   ],
   "source": [
    "a.w"
   ]
  },
  {
   "cell_type": "code",
   "execution_count": 17,
   "metadata": {},
   "outputs": [
    {
     "name": "stdout",
     "output_type": "stream",
     "text": [
      "Look up dell'attributo __getattribute__\n",
      "Look up dell'attributo w\n",
      "L'attributo w e il metodo __getattr__ non sono definiti\n"
     ]
    }
   ],
   "source": [
    "a.__getattribute__('w')"
   ]
  },
  {
   "cell_type": "markdown",
   "metadata": {},
   "source": [
    "Il corrispondente, per la modifica (o la creazione) di un attributo, del metodo \\_\\_getattribute\\_\\_ non è \\_\\_setattribute\\_\\_ (che non esiste), bensì <em>\\_\\_setattr\\_\\_</em>"
   ]
  },
  {
   "cell_type": "code",
   "execution_count": 18,
   "metadata": {},
   "outputs": [],
   "source": [
    "def __setattr__(self, name, value):\n",
    "    self.__dict__[name] = value\n",
    "    # Il semplice self.name = value provocherebbe ricorsione infinita\n",
    "\n",
    "esempio2.__setattr__=__setattr__"
   ]
  },
  {
   "cell_type": "code",
   "execution_count": 19,
   "metadata": {},
   "outputs": [
    {
     "name": "stdout",
     "output_type": "stream",
     "text": [
      "Look up dell'attributo __class__\n",
      "Look up dell'attributo __class__\n",
      "Look up dell'attributo __class__\n",
      "Look up dell'attributo __class__\n",
      "Look up dell'attributo __class__\n",
      "Look up dell'attributo __class__\n",
      "Look up dell'attributo __dict__\n"
     ]
    }
   ],
   "source": [
    "a = esempio2()"
   ]
  },
  {
   "cell_type": "code",
   "execution_count": 20,
   "metadata": {},
   "outputs": [
    {
     "name": "stdout",
     "output_type": "stream",
     "text": [
      "Look up dell'attributo w\n",
      "L'attributo w e il metodo __getattr__ non sono definiti\n"
     ]
    }
   ],
   "source": [
    "a.w"
   ]
  },
  {
   "cell_type": "code",
   "execution_count": 21,
   "metadata": {},
   "outputs": [
    {
     "name": "stdout",
     "output_type": "stream",
     "text": [
      "Look up dell'attributo __dict__\n"
     ]
    }
   ],
   "source": [
    "a.w = 5"
   ]
  },
  {
   "cell_type": "code",
   "execution_count": 22,
   "metadata": {},
   "outputs": [
    {
     "name": "stdout",
     "output_type": "stream",
     "text": [
      "Look up dell'attributo w\n"
     ]
    },
    {
     "data": {
      "text/plain": [
       "5"
      ]
     },
     "execution_count": 22,
     "metadata": {},
     "output_type": "execute_result"
    }
   ],
   "source": [
    "a.w"
   ]
  },
  {
   "cell_type": "markdown",
   "metadata": {},
   "source": [
    "### Decoratore @property"
   ]
  },
  {
   "cell_type": "markdown",
   "metadata": {},
   "source": [
    "Abbiamo visto che un modo \"pythonico\" di forzare alcuni vincoli sul valore di un certo attributo consiste nel definire tale attributo come _property_. Questo obiettivo può essere ottenuto usando il decoratore _@property_ che è associato a metodi getter e setter\n",
    "\n",
    "Al riguardo, riprendiamo ancora una volta l'esempio della classe per la gestione di un conto corrente"
   ]
  },
  {
   "cell_type": "code",
   "execution_count": null,
   "metadata": {},
   "outputs": [],
   "source": [
    "class CC:\n",
    "    \"\"\"\n",
    "    Classe per la gestione di un c/c:: v2.01\n",
    "    Semplicemente mette in evicenza scritture alternative\n",
    "    per specificare che un dato attributo è in realtò una proprietà\n",
    "    \"\"\"\n",
    "    def __init__(self, deposito_iniziale = 0):\n",
    "        print(\"Apertura conto con {0:.2f} Euro\".format(deposito_iniziale))\n",
    "        self.saldo = deposito_iniziale\n",
    "        \n",
    "    def prelievo(self, importo=0):\n",
    "        # Se importo==0 equivale ad una lettura del saldo\n",
    "        # Per questa ragione prelievo (con importo == 0)\n",
    "        # può essere usato come \"getter\"\n",
    "        if importo>0 and self._saldo-importo>=0:\n",
    "            self._saldo -= importo\n",
    "        return self._saldo\n",
    "    \n",
    "    def __modifica_saldo(self, importo):\n",
    "        # metodo usato come \"setter\"; forza il vincolo\n",
    "        # sulla non negatività dell'importo\n",
    "        if importo>=0:\n",
    "            self._saldo = importo\n",
    "      \n",
    "    def versamento(self, importo):\n",
    "        # versamento non può essere un \"setter\" perché\n",
    "        # modifica il valore sulla base di quello attuale\n",
    "        if importo>0:\n",
    "            self._saldo += importo\n",
    "     \n",
    "    def mostra_saldo(self):\n",
    "        print(\"Il saldo è di {0:.2f} Euro\".format(self.__saldo))\n",
    "    \n",
    "    saldo=property(prelievo, __modifica_saldo) # getter e setter\n",
    "    \n",
    "    # Equivalente\n",
    "    # saldo=property(fget=prelievo, fset=__modifica_saldo)\n",
    "    # e dunque anche\n",
    "    # saldo=property(fset=__modifica_saldo,fget=prelievo)\n",
    "    \n",
    "    # Altra versione\n",
    "    # saldo = property()\n",
    "    # saldo = saldo.getter(prelievo)\n",
    "    # saldo = saldo.setter(__modifica_saldo)"
   ]
  },
  {
   "cell_type": "code",
   "execution_count": null,
   "metadata": {},
   "outputs": [],
   "source": [
    "X = CC(50)"
   ]
  },
  {
   "cell_type": "code",
   "execution_count": null,
   "metadata": {},
   "outputs": [],
   "source": [
    "X.saldo = 100\n",
    "print(X.saldo)"
   ]
  },
  {
   "cell_type": "code",
   "execution_count": null,
   "metadata": {},
   "outputs": [],
   "source": [
    "X.saldo = -10\n",
    "print(X.saldo)"
   ]
  },
  {
   "cell_type": "code",
   "execution_count": null,
   "metadata": {},
   "outputs": [],
   "source": [
    "class CC:\n",
    "    \"\"\"\n",
    "    Classe per la gestione di un c/c:: v2.1\n",
    "    Riorganizza i metodi allo scopo di utilizzare i decoratori\n",
    "    \"\"\"\n",
    "    def __init__(self, deposito_iniziale = 0):\n",
    "        print(\"Apertura conto con {0:.2f} Euro\".format(deposito_iniziale))\n",
    "        self._saldo = deposito_iniziale\n",
    "    \n",
    "    @property\n",
    "    def saldo(self):\n",
    "        return self._saldo\n",
    "    \n",
    "    @saldo.setter\n",
    "    def saldo(self,value):\n",
    "        if value>0:\n",
    "            self._saldo = value\n",
    "    \n",
    "    def versamento(self, importo):\n",
    "        if importo>0:\n",
    "            self.saldo += importo\n",
    "        \n",
    "    def prelievo(self, importo=0):\n",
    "        if importo>0 and self.saldo>=importo:\n",
    "            self.saldo -= importo\n",
    "    \n",
    "    def mostra_saldo(self):\n",
    "        print(\"Il saldo è di {0:.2f} Euro\".format(self._saldo))"
   ]
  },
  {
   "cell_type": "code",
   "execution_count": null,
   "metadata": {},
   "outputs": [],
   "source": [
    "X = CC(100)"
   ]
  },
  {
   "cell_type": "code",
   "execution_count": null,
   "metadata": {},
   "outputs": [],
   "source": [
    "X.saldo = 100\n",
    "X.mostra_saldo()"
   ]
  },
  {
   "cell_type": "code",
   "execution_count": null,
   "metadata": {},
   "outputs": [],
   "source": [
    "X.saldo = -10\n",
    "X.mostra_saldo()"
   ]
  },
  {
   "cell_type": "code",
   "execution_count": null,
   "metadata": {},
   "outputs": [],
   "source": [
    "X.versamento(50)\n",
    "X.mostra_saldo()"
   ]
  },
  {
   "cell_type": "code",
   "execution_count": null,
   "metadata": {},
   "outputs": [],
   "source": [
    "X.prelievo(3)"
   ]
  },
  {
   "cell_type": "markdown",
   "metadata": {},
   "source": [
    "### Descrittori"
   ]
  },
  {
   "cell_type": "markdown",
   "metadata": {},
   "source": [
    "Un descrittore è una classe in cui è presente la definizione di almeno uno\n",
    "dei seguenti _magic method_\n",
    "\n",
    "1. __get__(self, instance, cls)\n",
    "2. __set__(self, instance, value)\n",
    "3. __delete__(self, instance).\n",
    "\n",
    "I descrittori vengono utilizzati per controllare l'accesso agli attributi di altre classi. Sono quindi una generalizzazione delle proprietà\n",
    "\n",
    "Vediamo subito un semplice esempio"
   ]
  },
  {
   "cell_type": "code",
   "execution_count": null,
   "metadata": {},
   "outputs": [],
   "source": [
    "class descr:\n",
    "    \n",
    "    def __init__(self, name=\"attr\", initval=None):\n",
    "        self.name = name\n",
    "        self.val = initval\n",
    "        \n",
    "    def __get__(self, inst, cls):\n",
    "        '''\n",
    "        In questo esempio, inst e cls non sono utilizzati.\n",
    "        inst è l'oggetto in cui il descritore è utilizzato e cls \n",
    "        il suo tipo (classe). Il valore restituito potrebbe dipendere\n",
    "        quindi da altri attributi definiti nell'oggetto in questione.\n",
    "        '''\n",
    "        print(\"__get__ called\")\n",
    "        return self.val\n",
    "    \n",
    "    def __set__(self, inst, val):\n",
    "        '''\n",
    "        Anche in questo caso l'oggetto (inst) non viene utilizzto\n",
    "        '''\n",
    "        print(\"__set__ called\")\n",
    "        if val < 0 or val > 1:\n",
    "            raise ValueError(f\"Value of {self.name} should be in the range [0,1]\")\n",
    "        else:\n",
    "            self.val = val"
   ]
  },
  {
   "cell_type": "code",
   "execution_count": null,
   "metadata": {},
   "outputs": [],
   "source": [
    "class test:\n",
    "    v = descr('probability_value',0.0)"
   ]
  },
  {
   "cell_type": "code",
   "execution_count": null,
   "metadata": {},
   "outputs": [],
   "source": [
    "t = test()\n",
    "t.v = 0.6\n",
    "print(t.v)"
   ]
  },
  {
   "cell_type": "code",
   "execution_count": null,
   "metadata": {},
   "outputs": [],
   "source": [
    "t.v = -1"
   ]
  },
  {
   "cell_type": "markdown",
   "metadata": {},
   "source": [
    "#### Qualcuno nota \"qualcosa di strano\"?\n",
    "\n",
    "Iniziamo a fare qualche \"sondaggio\""
   ]
  },
  {
   "cell_type": "code",
   "execution_count": null,
   "metadata": {},
   "outputs": [],
   "source": [
    "t.__dict__"
   ]
  },
  {
   "cell_type": "code",
   "execution_count": null,
   "metadata": {},
   "outputs": [],
   "source": [
    "type(t).__dict__"
   ]
  },
  {
   "cell_type": "markdown",
   "metadata": {},
   "source": [
    "Effettivamente _v_ è un attributo di classe, ma allora..."
   ]
  },
  {
   "cell_type": "code",
   "execution_count": null,
   "metadata": {},
   "outputs": [],
   "source": [
    "q = test()\n",
    "print(q.v)"
   ]
  },
  {
   "cell_type": "markdown",
   "metadata": {},
   "source": [
    "... c'è un solo valore possibile e dunque una sola \"vera\" istanza per la classe _test_?"
   ]
  },
  {
   "cell_type": "markdown",
   "metadata": {},
   "source": [
    "L'esempio presentato è troppo semplice... Il fatto che un descrittore venga utilizzato come attributo di classe ha diversi vantaggi (ad esempio in termini di efficienza). E non pregiudica la possibilità di utilizzarlo per istanze diverse. Come vedremo subito nell'ultima versione della classe CC"
   ]
  },
  {
   "cell_type": "code",
   "execution_count": null,
   "metadata": {},
   "outputs": [],
   "source": [
    "class balance:\n",
    "    '''Classe il cui uso inteso è di memorizzare il (e operare sul)\n",
    "       saldo di molteplici conti correnti. Poiché implementa i metodi\n",
    "       __get__, __set__ e __delete__, la classe è un descrittore.\n",
    "       La classe utilizza un dizionario (scelta migliorabile) per \n",
    "       memorizzare il saldo di conti correnti diversi. Le chiavi di accesso\n",
    "       sono proprio gli oggetti (della classe CC) che rappresentano\n",
    "       i conti correnti aperti. Il riferimento a tali oggetti è il\n",
    "       parametro instance dei vari metodi. Gli accessi in lettura e scrittura\n",
    "       al descrittore (accessi che vengono effettuati effettuati nei metodi\n",
    "       della classe CC) sono esprimibili in \"pure python\" nel modo seguente,\n",
    "       in cui b è il balance e X e il CC (CC=type(X)):\n",
    "           X.b (lettura)         --> type(X).__dict__['b'].__get(X,type(X))\n",
    "           X.b = 100 (scrittura) --> type(X).__dict__['b'].__set(X,100)\n",
    "    '''\n",
    "    def __init__(self):\n",
    "        self.default = 0\n",
    "        self.balances = {}\n",
    "        \n",
    "    def __get__(self,instance,cls):\n",
    "        '''Usando come chiave l'istanza (di CC) passata come secondo \n",
    "           parametro, il metodo recupera il valore del saldo associato\n",
    "           dal dizionario self.balances\n",
    "        '''\n",
    "        return self.balances.get(instance,self.default)\n",
    "    \n",
    "    def __set__(self, instance, value):\n",
    "        '''Usando come chiave l'istanza (di CC) passata come secondo \n",
    "           parametro, il metodo \"setta\" il saldo corrispondente nel\n",
    "           dizionario self.balances al valore value\n",
    "        '''\n",
    "        if value<-instance.credit:\n",
    "            raise ValueError(\"Superato il valore del fido\")\n",
    "        self.balances[instance] = value\n",
    "        \n",
    "    def __delete__(self,instance):\n",
    "        ''' \n",
    "        Cancella la coppia istanza/valore dal dizionario self.balances\n",
    "        '''\n",
    "        del self.balances[instance]"
   ]
  },
  {
   "cell_type": "code",
   "execution_count": null,
   "metadata": {},
   "outputs": [],
   "source": [
    "class CC:\n",
    "    \"\"\"\n",
    "    Classe per la gestione di un c/c:: v3.0\n",
    "    Utilizza un descrittore per la memorizzazione e la manipolazione dei saldi.\n",
    "    Introduce l'utilizzo del fido\n",
    "    \"\"\"\n",
    "    def __init__(self,initBalance=0,BankCredit=0):\n",
    "        ''' \n",
    "        Apre un conto con assegnato saldo iniziale e dato fido bancario\n",
    "        '''\n",
    "        self.credit = BankCredit\n",
    "        self.b = initBalance\n",
    "        \n",
    "    def deposit(self,value):\n",
    "        ''' \n",
    "        Deposita un valore positivo sul conto\n",
    "        '''\n",
    "        if value>0:\n",
    "            self.b += value\n",
    "            \n",
    "    def withdraw(self, value):\n",
    "        '''\n",
    "        Ritira una data soma dal conto (i controlli sull'eventuale\n",
    "        superamento del fido sono effettuati dal descrittore)\n",
    "        '''\n",
    "        self.b -= value\n",
    "        \n",
    "    def getbalance(self):\n",
    "        '''\n",
    "        Stampa il saldo\n",
    "        '''\n",
    "        print(f\"Current balance is {self.b}\")\n",
    "    \n",
    "    b = balance() # Il saldo è un descrittore"
   ]
  },
  {
   "cell_type": "code",
   "execution_count": null,
   "metadata": {},
   "outputs": [],
   "source": [
    "X = CC()"
   ]
  },
  {
   "cell_type": "code",
   "execution_count": null,
   "metadata": {},
   "outputs": [],
   "source": [
    "X.b"
   ]
  },
  {
   "cell_type": "code",
   "execution_count": null,
   "metadata": {},
   "outputs": [],
   "source": [
    "# X.b = ...\n",
    "type(X).__dict__['b'].__get__(X,type(X))"
   ]
  },
  {
   "cell_type": "code",
   "execution_count": null,
   "metadata": {},
   "outputs": [],
   "source": [
    "# Versione getter esplicito\n",
    "X.getbalance()"
   ]
  },
  {
   "cell_type": "code",
   "execution_count": null,
   "metadata": {},
   "outputs": [],
   "source": [
    "X.deposit(100)\n",
    "X.getbalance()"
   ]
  },
  {
   "cell_type": "code",
   "execution_count": null,
   "metadata": {},
   "outputs": [],
   "source": [
    "X.withdraw(150)"
   ]
  },
  {
   "cell_type": "code",
   "execution_count": null,
   "metadata": {},
   "outputs": [],
   "source": [
    "X.withdraw(50)\n",
    "X.getbalance()"
   ]
  },
  {
   "cell_type": "code",
   "execution_count": null,
   "metadata": {},
   "outputs": [],
   "source": [
    "Y = CC(100,500)\n",
    "Y.withdraw(300)\n",
    "Y.getbalance()\n",
    "X.getbalance()"
   ]
  }
 ],
 "metadata": {
  "kernelspec": {
   "display_name": "Python 3",
   "language": "python",
   "name": "python3"
  },
  "language_info": {
   "codemirror_mode": {
    "name": "ipython",
    "version": 3
   },
   "file_extension": ".py",
   "mimetype": "text/x-python",
   "name": "python",
   "nbconvert_exporter": "python",
   "pygments_lexer": "ipython3",
   "version": "3.7.4+"
  }
 },
 "nbformat": 4,
 "nbformat_minor": 2
}
