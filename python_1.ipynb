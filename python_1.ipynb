{
 "cells": [
  {
   "cell_type": "markdown",
   "metadata": {},
   "source": [
    "## <span style=\"color:red\">Setup</span>\n",
    "\n",
    "* Utilizzeremo Python 3 (significativamente diverso da Python 2)\n",
    "* In classe e in laboratorio Python verrà usato esclusivamente in ambiente Linux\n",
    "* Se non già installato (improbabile):\n",
    "```shell\n",
    "sudo apt install python3\n",
    "```\n",
    "* Per semplici esercizi \"interattivi\" conviene utilizzare IPython (Interactive Python), un interprete di comandi che permette di lavorare con più linguaggi (in particolare, si possono eseguire comandi di shell) e che supporta anche un'interfaccia browser-based (si veda poco oltre)\n",
    "```shell\n",
    "sudo apt install ipython3\n",
    "```\n",
    "* Per l'installazione dei pacchetti Python è (talvolta) possibile utilizzare sia il package manager di Linux (es. apt e derivati) sia il sistema proprio di Python, cioè pip/pip3 (package installer for Python)\n",
    "* In molti casi è preferibile utilizzare pip (nel nostro caso pip3), che però va prima installato\n",
    "```shell\n",
    "sudo apt install python3-pip\n",
    "```\n",
    "<span style=\"color:blue\">Verificare il nome dei pacchetti nella propria distribuzione</span>\n",
    "* Per pulizia, conviene tuttavia lavorare in ambiente virtuale:\n",
    "```shell\n",
    "sudo apt install python3-virtualenv\n",
    "cd\n",
    "mkdir venvs\n",
    "cd venvs\n",
    "virtualenv LD\n",
    "source LD/bin/activate\n",
    "(LD) python -V\n",
    "Python 3.7.4+\n",
    "(LD) deactivate\n",
    "```\n",
    "* In questo preciso momento stiamo usando <span style=\"font-style: italic; color:blue\">jupyther notebook</span>, un'applicazione web cui accennavamo sopra. Oltre alla shell IPython, jupyther notebook fornisce supporto alla scrittura di testo, di espressioni matematiche e grafici. Vengono interpretati, fra gli altri, un semplice linguaggio di marcatura (Markdown),  HTML e Latex\n",
    "```shell\n",
    "source LD/bin/activate\n",
    "(LD) pip3 install jupyter\n",
    "(LD) jupyter-notebook\n",
    "ctrl-C\n",
    "(LD) \n",
    "```\n",
    "* Per lo svilupo di codice Python sono ovviamente disponibili diversi ambienti (IDE). In questo insegnamento utilizzeremo <span style=\"font-style: italic; color:blue\">Spyder</span>, di semplice utilizzo e molto bene integrato con gli altri strumenti\n",
    "```shell\n",
    "(LD) pip3 install spyder\n",
    "```\n",
    "\n",
    "* È possibile che si debba anche eseguire:\n",
    "```shell\n",
    "(LD) ln -s LD/bin/spyder3 LD/bin/spyder\n",
    "```\n",
    "per evitare di dover invocare \"spyder3'' esplicitamente\n",
    "\n",
    "* A chi proprio desideri utilizzare Windows o Mac, consigliamo di installare la piattaforma <span style=\"font-style: italic; color:blue\">Anaconda</span> (che include IPython, jupyther notebook e spyder). Chiaramente Anaconda è anche disponibile in ambiente Linux\n",
    "\n",
    "* Poco oltre vedremo anche come eseguire programmi Python invocandoli da shell"
   ]
  },
  {
   "cell_type": "code",
   "execution_count": null,
   "metadata": {},
   "outputs": [],
   "source": [
    "print(3)"
   ]
  },
  {
   "cell_type": "markdown",
   "metadata": {},
   "source": [
    "## <span style=\"color:red\">Language basics: differenze con Java</span>\n",
    "\n",
    "#### Utilizziamo Java, linguaggio introdotto al secondo anno di corso, come riferimento per discutere le caratteristiche fondamentali dei linguaggi dinamici\n",
    "\n",
    "* File\n",
    "    * Java: se un file contiene una (e al più una) classe pubblica, allora il nome del file deve coincidere con quello della classe. Altre eventuali classi devo essere non pubbliche\n",
    "    * Python: un file può contenere un numero arbitrario di classi, eventualmente nessuna\n",
    "\n",
    "* Esecuzione di un programma\n",
    "    * Java: richiede una classe con il metodo statico e pubblico *main*\n",
    "    * Python: il codice viene eseguito in sequenza a partire dall'inizio del file. L'eventuale presenza di una funzione main() non riveste alcun ruolo specifico predefinito\n",
    "\n",
    "* *Controllo dei tipi*. Java ha un controllo statico. Questo vuol dire che ogni variable (o funzione) deve essere dichiarata con un tipo. In Python il controllo è dinamico e le variabili in sé non hanno tipo nel senso che possono essere legate a oggetti di tipo diverso in punti diversi del programma\n",
    "    * Java\n",
    "```java\n",
    "int x;\n",
    "x = 1;\n",
    "String s = \"Hello world!\";\n",
    "x = s; // error: incompatible types: String cannot be converted to int\n",
    "```\n",
    "    * Python\n",
    "```python\n",
    "x = 1\n",
    "s = \"Hello world!\"\n",
    "x = s  # OK\n",
    "```\n",
    "\n",
    "* Tipi di dato *primitivi*. In Java le stringhe sono oggetti e (anche) per questo non sono considerate un tipo di dato primitivo. In Python questa non può essere la distinzione perché ogni elemento, di qualsiasi tipo, è un oggetto\n",
    "    * Java\n",
    "```java\n",
    "int i = 0;               // Numeri interi \n",
    "float f = 3.14f;         // Numeri in virgola mobile\n",
    "boolean b = true;        // Valori logici (booleani)\n",
    "char c = 'J';            // Caratteri su un dato alfabeto\n",
    "```\n",
    "    * Python\n",
    "```python\n",
    "i = 0                    # Numeri interi\n",
    "f = 3.14                 # Numeri in virgola mobile\n",
    "b = True                 # Valori logici\n",
    "s = \"Hello world!\"       # Stringhe\n",
    "```\n",
    "\n",
    "* *Assegnamenti particolari*\n",
    "    * Java\n",
    "    ```java\n",
    "x = y = 0;  // Assegnamenti concatenati\n",
    "x += 1;     // Assegnamenti con operatore\n",
    "x--;        // Incrementi e decrementi posticipati e anticipati (rispetto all'utilizzo del valore)\n",
    "++x;\n",
    "```    \n",
    "    * Python\n",
    "```python\n",
    "x = y = 0;   # Assegnamenti concatenati\n",
    "x += 1;      # Assegnamenti con operatore\n",
    "x,y = 3, 2*y # Assegnamenti simultanei\n",
    "x,y = y,x    # Questo assegnamento simultaneo scambia il valore di x e y\n",
    "```\n",
    "\n",
    "* *Operatori*\n",
    "    * Java\n",
    "    ```java\n",
    "+, -, *, /, %         // aritmetici\n",
    "<, <=, ==, >, >=, !=  // relazionali\n",
    "&&, ||, !             // logici\n",
    "```\n",
    "    * Python\n",
    "    ```python\n",
    "+, -, *, /, %, **     # aritmetici\n",
    "<, <=, ==, >, >=, !=  # relazionali\n",
    "and, or, not          # logici\n",
    "```\n",
    "\n",
    "* Comando *condizionale* \n",
    "    * Java\n",
    "    \n",
    "   ~~~java\n",
    "if (x<0)\n",
    "        s = -1;\n",
    "~~~\n",
    "```java\n",
    "if (x<0) \n",
    "        s = -1;\n",
    "else\n",
    "        s = 1;\n",
    "```\n",
    "```java\n",
    "if (x<0)\n",
    "        s = -1;\n",
    "else if (x>0)\n",
    "        s = 1;\n",
    "else\n",
    "        s = 0;\n",
    "```\n",
    "    * Python\n",
    "    ```python\n",
    "if x<0:\n",
    "        s = -1\n",
    "```\n",
    "    ```python\n",
    "if x<0:\n",
    "        s = -1\n",
    "else:\n",
    "        s = 1\n",
    "```\n",
    "```python\n",
    "if x<0:\n",
    "        s = -1\n",
    "elif x>0:\n",
    "        s = 1\n",
    "else:\n",
    "        s = 0\n",
    "```\n",
    "\n",
    "* Espressione condizionale\n",
    "    * Java\n",
    "    ```java\n",
    "x<0 ? -1 : 1\n",
    "    ```\n",
    "    * Python\n",
    "    ```python\n",
    "-1 if x<0 else 1\n",
    "```\n",
    "\n",
    "* Blocco di comandi (o *compound command)\n",
    "\n",
    "    * In Java è racchiuso fra parentesi graffe { }. \n",
    "```java\n",
    "if (print_on) {\n",
    "        System.out.print(\"Hello \");\n",
    "        System.out.println(\"World!\");\n",
    "}\n",
    "```\n",
    "    * In Python è individuato da uno <u>stesso livello di indent</u>\n",
    "```python\n",
    "if print_on:\n",
    "        print(\"Hello\",end=' ')\n",
    "        print(\"World!\")\n",
    "```"
   ]
  },
  {
   "cell_type": "code",
   "execution_count": null,
   "metadata": {},
   "outputs": [],
   "source": [
    "# Il seguente codice calcola le radici dell'equazione di secondo grado ax^2+bx+c=0\n",
    "from math import sqrt\n",
    "a = 1\n",
    "b = 1\n",
    "c = -2\n",
    "assert a != 0\n",
    "if b != 0:\n",
    "        if c == 0:\n",
    "            print(\"x1 = \",-b/a)\n",
    "            print(\"x2 = 0\")\n",
    "        else:\n",
    "            d = b**2-4*a*c\n",
    "            if d>0:\n",
    "                s = sqrt(d)\n",
    "                print(\"x1 = \",(-b-s)/(2*a))\n",
    "                print(\"x2 = \",(-b+s)/(2*a))\n",
    "            elif d == 0:\n",
    "                print(\"x1 = x2 =\",-b/2*a)\n",
    "            else:\n",
    "                s = sqrt(-d)\n",
    "                print(\"x1 =\",-b/2*a,\"-\",abs(s/(2*a)),\"\\bi\")\n",
    "                print(\"x2 =\",-b/2*a,\"+\",abs(s/(2*a)),\"\\bi\")\n",
    "else:\n",
    "    if c == 0:\n",
    "        print(\"x1 = x2 = 0\")\n",
    "    elif c>0:\n",
    "        print(\"x1 =\",-sqrt(abs(c/a)),\"\\bi\")\n",
    "        print(\"x2 =\",sqrt(abs(c/a)),\"\\bi\")\n",
    "    else:\n",
    "        print(\"x1 =\",-sqrt(abs(c/a)))\n",
    "        print(\"x2 =\",sqrt(abs(c/a)))"
   ]
  },
  {
   "cell_type": "markdown",
   "metadata": {},
   "source": [
    "* *Funzioni* e *definizione* di funzioni. \n",
    "    * Java: le funzioni esistono e sono definibili solo nel contesto di una classe; esistono cioè solo come *metodi*. Funzioni che non restituiscono valori sono a tutti gli effetti dei _comandi_\n",
    "    * Python: le funzioni possono invece esistere <u>anche</u> indipendentemente, come nei classici linguaggi procedurali. In Python una funzione restituisce sempre un valore. Se non è presente l'istruzione *return*, viene restituito *None*"
   ]
  },
  {
   "cell_type": "code",
   "execution_count": null,
   "metadata": {
    "scrolled": true
   },
   "outputs": [],
   "source": [
    "############################################\n",
    "# Primo esempio di definizione di funzione #\n",
    "############################################\n",
    "from math import sqrt\n",
    "def deg2eqnsolver(a,b,c):\n",
    "    '''Input: i coefficienti a, b e c che rappresentano l'equazione \n",
    "       ax^2+bx+c=0\n",
    "       dove è richiesto che a sia non nullo\n",
    "       Output: la coppia (x1,x2) delle radici dell'equazione. x1 e x2 possono essere\n",
    "       numeri complessi; in tal caso ciascuno di essi è a sua volta una coppia composta\n",
    "       rispettivamente da parte reale e parte immaginaria.\n",
    "    '''\n",
    "    assert a != 0\n",
    "    if b != 0:\n",
    "        if c == 0:\n",
    "            return -b/a, 0\n",
    "        else:\n",
    "            d = b**2-4*a*c\n",
    "            if d>0:\n",
    "                s = sqrt(d)\n",
    "                return (-b-s)/(2*a), (-b+s)/(2*a)\n",
    "            elif d == 0:\n",
    "                return -b/2*a,-b/2*a\n",
    "            else:\n",
    "                s = sqrt(-d)\n",
    "                return (-b/2*a,-abs(s/(2*a))),(-b/2*a,abs(s/(2*a)))\n",
    "    else:\n",
    "        if c == 0:\n",
    "            return 0,0\n",
    "        elif c>0:\n",
    "            return (0,-sqrt(abs(c/a))),(0,sqrt(abs(c/a)))\n",
    "        else:\n",
    "            return -sqrt(abs(c/a)),sqrt(abs(c/a))\n",
    "#a,b,c = [float(c) for c in input(\"Insert the coefficients a, b, and c: \").split()]\n",
    "#x1, x2 = deg2eqnsolver(a,b,c)\n",
    "#print('x1 =',x1,', x2 =',x2)\n",
    "deg2eqnsolver(3,-1,4)"
   ]
  },
  {
   "cell_type": "code",
   "execution_count": null,
   "metadata": {},
   "outputs": [],
   "source": [
    "print(type(deg2eqnsolver))\n",
    "print(deg2eqnsolver.__doc__)"
   ]
  },
  {
   "cell_type": "markdown",
   "metadata": {},
   "source": [
    "## <span style=\"color:red\">Esecuzione dalla linea di comando</span>\n",
    "* Il seguente frammento di codice Python può essere utilizzato come \"template\"  per script generici che possono utilizzare (sia per gli identificatori che all'interno delle stringhe) caratteri utf-8"
   ]
  },
  {
   "cell_type": "code",
   "execution_count": null,
   "metadata": {},
   "outputs": [],
   "source": [
    "#!/usr/bin/env python3\n",
    "# -*- coding: utf-8 -*-\n",
    "\n",
    "from math import sqrt\n",
    "def deg2eqnsolver(a,b,c):\n",
    "    '''Input: i coefficienti a, b e c che rappresentano l'equazione \n",
    "       ax^2+bx+c=0\n",
    "       dove è richiesto che a sia non nullo\n",
    "       Output: la coppia (x1,x2) delle radici dell'equazione. x1 e x2 possono essere\n",
    "       numeri complessi; in tal caso ciascuno di essi è a sua volta una coppia composta\n",
    "       rispettivamente da parte reale e parte immaginaria.\n",
    "    '''\n",
    "    assert a != 0\n",
    "    if b != 0:\n",
    "        if c == 0:\n",
    "            return -b/a, 0\n",
    "        else:\n",
    "            d = b**2-4*a*c\n",
    "            if d>0:\n",
    "                s = sqrt(d)\n",
    "                return (-b-s)/(2*a), (-b+s)/(2*a)\n",
    "            elif d == 0:\n",
    "                return -b/2*a,-b/2*a\n",
    "            else:\n",
    "                s = sqrt(-d)\n",
    "                return (-b/2*a,-abs(s/(2*a))),(-b/2*a,abs(s/(2*a)))\n",
    "    else:\n",
    "        if c == 0:\n",
    "            return 0,0\n",
    "        elif c>0:\n",
    "            return (0,-sqrt(abs(c/a))),(0,sqrt(abs(c/a)))\n",
    "        else:\n",
    "            return -sqrt(abs(c/a)),sqrt(abs(c/a))\n",
    "\n",
    "if __name__=='__main__':\n",
    "    a,b,c = [float(c) for c in input(\"Insert the coefficients a, b, and c: \").split()]\n",
    "    x1, x2 = deg2eqnsolver(a,b,c)\n",
    "    print('x1 =',x1,', x2 =',x2) "
   ]
  },
  {
   "cell_type": "markdown",
   "metadata": {},
   "source": [
    "* Lo script (che supponiamo memorizzato in un file di nome <span style=\"font-style: italic; color:blue\">eqnsolver.py</span>) può essere eseguito come \"argomento\" dell'interprete\n",
    "\n",
    "```shell\n",
    "(LD) python eqnsolver.py\n",
    "```\n",
    "&nbsp; &nbsp; &nbsp; &nbsp; oppure direttamente come comando, dopo averlo reso eseguibile\n",
    "\n",
    "```shell\n",
    "(LD) chmod u+x eqnsolver.py\n",
    "(LD) ./eqnsolver.py\n",
    "```"
   ]
  },
  {
   "cell_type": "markdown",
   "metadata": {},
   "source": [
    "## <span style=\"color:red\">Liste e dizionari</span> \n",
    "### (solo un primo assaggio)"
   ]
  },
  {
   "cell_type": "code",
   "execution_count": null,
   "metadata": {},
   "outputs": [],
   "source": [
    "L1 = [1.5,  2, 'a', False]  # Gli elementi di una lista possono essere di tipo diverso\n",
    "L2 = [[1,2],'foo',L1]       # Gli elementi di una lista possono essere strutture complesse\n",
    "def f(x):\n",
    "    return x+1\n",
    "L3 = [1,f]                  # Gli elementi possono anche essere funzioni\n",
    "print(L3[1](0))                    # Accesso con indice\n",
    "L3.append(2)                # ... ma sono dinamiche\n",
    "print(L3)\n",
    "L4 = []\n",
    "L5 = list()"
   ]
  },
  {
   "cell_type": "code",
   "execution_count": null,
   "metadata": {},
   "outputs": [],
   "source": [
    "D1 = {'a': 1, 'b': 2}        # Dizionario (tabella hash)\n",
    "D2 = {}                      # Dizionario vuoto\n",
    "D3 = dict()                  # Dizionario vuoto\n",
    "print(D1['a'])               # Accesso con chiave\n",
    "D1['c']=3                    # Inserimento di un nuovo elemento\n",
    "print(D1)\n",
    "print(D1.keys())             # Accesso alla \"sequenza\" di tutte le chiavi nel dizionario\n",
    "print(D1.values())           # Accesso alla \"sequenza\" di tutti i calori nel dizionario\n",
    "list(D1.keys())"
   ]
  },
  {
   "cell_type": "markdown",
   "metadata": {},
   "source": [
    "## <span style=\"color:red\">Iterabili e iteratori</span>"
   ]
  },
  {
   "cell_type": "markdown",
   "metadata": {},
   "source": [
    "### Esempio\n",
    "Il seguente codice Java conta il numero di vocali non accentate in una stringa\n",
    "\n",
    "```java\n",
    "String S = \"Debian GNU Linux\";\n",
    "int countVowels = 0;\n",
    "for (int i=0; i<S.length(); i++) \n",
    "     if (\"aeiou\".contains(Character.toString(Character.toLowerCase(S.charAt(i)))))\n",
    "        countVowels += 1;\n",
    "System.out.println(countVowels);\n",
    "```\n",
    "\n",
    "In Python esiste l'istruzione *for* ma questa itera esplicitamente sugli elementi di una lista, o di un qualche altro contenitore, anziché su una sequenza di numeri.\n",
    "\n",
    "```python\n",
    "S = \"Debian GNU Linux\"\n",
    "countVowels = 0\n",
    "for c in S.lower():\n",
    "    if c in \"aeiou\":\n",
    "        countVowels += 1\n",
    "print(countVowels)\n",
    "```\n",
    "\n"
   ]
  },
  {
   "cell_type": "markdown",
   "metadata": {},
   "source": [
    "Python rende esplicita le nozioni di oggetto <span style=\"font-style: italic; color:blue\">iterabile</span> e di <span style=\"font-style: italic; color:blue\">iteratore</span>\n",
    "\n",
    "Un <span style=\"font-style: italic; color:blue\">iterabile</span> è una struttura su cui si può *iterare*, ovvero accedere a tutti gli elementi in ordine. Un iterabile è, in altri termini, un contenitore ordinato di \"oggetti\", nel quale cioè esiste un primo oggetto contenuto, un secondo oggetto contenuto e così via. Attenzione però che il contenitore può anche essere *virtuale*; questo succede se gli oggetti possono essere generati al momento in cui la struttura viene percorsa. L'esempio più evidente, che vedremo subito, è il <span style=\"font-style: italic; color:blue\">range</span>. Contenitori espliciti sono invece le stringhe (come appena visto) e le liste.\n",
    "\n",
    "<span style=\"font-style: italic; color:blue\">iteratore</span> è la *controparte computazionale* dell'iterabile; è cioè l'oggetto che permette di percorrere la struttura, restituendo uno dei suoi elementi alla volta. Il costrutto for è proprio un'implementazione elegante, ma non l'unica, di un iteratore. \n",
    "\n",
    "### Forma generale\n",
    "```python\n",
    "for x in <iterabile>:\n",
    "    <do something with x>\n",
    "    ```"
   ]
  },
  {
   "cell_type": "markdown",
   "metadata": {},
   "source": [
    "### Un secondo esempio: generare 10 numeri (uniformemente) a caso nell'intervallo [1,10) (e memorizzarli \"da qualche parte\")\n",
    "\n",
    "x = a+(b-a)*r"
   ]
  },
  {
   "cell_type": "markdown",
   "metadata": {},
   "source": [
    "* Java\n",
    "```java\n",
    "import java.lang.Math;\n",
    "...\n",
    "float A = new float[10];\n",
    "for (int j=0; j<10; j++) \n",
    "       A[j] = 1+9*Math.random();\n",
    "```\n",
    "\n",
    "   o anche\n",
    "```java\n",
    "   float A = new float[10];\n",
    "   int j = 0;\n",
    "   while (j<10) {\n",
    "       A[j] = 1+9*Math.random();\n",
    "       j += 1;\n",
    "   }\n",
    "```\n",
    "\n",
    "\n",
    "* In Python possiamo \"tradurre\" quasi letteralmente quest'ultima porzione di codice (a parte le dichiarazioni di tipo)\n",
    "\n",
    "```python\n",
    "from random import random\n",
    "A = [0,1,2,3,4,5,6,7,8,9]\n",
    "j = 0\n",
    "while j<10:\n",
    "    A[j] = 1+9*random()\n",
    "    j += 1\n",
    "```\n",
    "   che però non è una soluzione *pythonic*. In un crescendo volto ad utilizzare le peculiarità\n",
    "    del linguaggio, scriveremo invece\n",
    "\n",
    "```python\n",
    "from random import random\n",
    "A = []\n",
    "for _ in range(10):\n",
    "    A.append(1+9*random())\n",
    "```\n",
    "\n",
    "    e ancora meglio:\n",
    "```python\n",
    "from random import random\n",
    "A = [1+9*random() for _ in range(10)] \n",
    "```\n",
    "\n",
    "   Questa costruzione si chiama <span style=\"font-style: italic; color:blue\">list comprehension</span>. Un altro esempio di tale costruzione possiamo applicarlo al problema, già visto, del conteggio delle vocali in una stringa\n",
    "   \n",
    "```python\n",
    "S = \"Debian GNU Linux\"\n",
    "print(sum([S.lower().count(x) for x in \"aeiou\"]))\n",
    "```"
   ]
  },
  {
   "cell_type": "markdown",
   "metadata": {},
   "source": [
    "### Entriamo ora un pò più nei dettagli di iterabili e iteratori"
   ]
  },
  {
   "cell_type": "code",
   "execution_count": null,
   "metadata": {},
   "outputs": [],
   "source": [
    "# Verifichiamo che range(10) è effettivamente iterabile \n",
    "from collections.abc import Iterable\n",
    "if isinstance(range(10),Iterable):    # Questo non è il modo più sicuro di fare la verifica\n",
    "    print(\"Iterabile\")\n",
    "else:\n",
    "    print(\"Non iterabile\")\n",
    "\n",
    "# Alternativa \n",
    "try:\n",
    "    hasattr(1,'__iter__')     # __iter__ è un metodo che caratterizza oggetti iterabili\n",
    "    print(\"Iterabile\")\n",
    "except TypeError:\n",
    "    print(\"Non iterabile\")"
   ]
  },
  {
   "cell_type": "code",
   "execution_count": null,
   "metadata": {},
   "outputs": [],
   "source": [
    "n=int(input())\n",
    "N = range(n)\n",
    "I = iter(N)\n",
    "while True:\n",
    "    try:\n",
    "        print(next(I))\n",
    "    except StopIteration:\n",
    "        break\n",
    "\n",
    "for i in range(n):\n",
    "    print(i)"
   ]
  },
  {
   "cell_type": "markdown",
   "metadata": {},
   "source": [
    "Il secondo modo di fare la verifica è particolarmente istruttivo. Se un oggetto ha l'attributo (in questo caso se implementa il metodo) \\_\\_iter\\_\\_, allora <u>è un iterabile</u>. Il metodo \\_\\_iter\\_\\_  restituisce un (oggetto) iteratore che \"sa come visitare\" l'iterabile"
   ]
  },
  {
   "cell_type": "code",
   "execution_count": null,
   "metadata": {},
   "outputs": [],
   "source": [
    "I = range(3).__iter__()\n",
    "print(type(I))"
   ]
  },
  {
   "cell_type": "markdown",
   "metadata": {},
   "source": [
    "Per effettuare la visita, l'iteratore dispone del metodo \\_\\_next\\_\\_"
   ]
  },
  {
   "cell_type": "code",
   "execution_count": null,
   "metadata": {},
   "outputs": [],
   "source": [
    "print(I.__next__())\n",
    "print(I.__next__())\n",
    "print(I.__next__())"
   ]
  },
  {
   "cell_type": "markdown",
   "metadata": {},
   "source": [
    "Poiché l'iterabile era composto di 3 elementi, ad una eventuale ulteriore invocazione di \\_\\_next\\_\\_ si verifica un errore:"
   ]
  },
  {
   "cell_type": "code",
   "execution_count": null,
   "metadata": {},
   "outputs": [],
   "source": [
    "print(I.__next__())"
   ]
  },
  {
   "cell_type": "markdown",
   "metadata": {},
   "source": [
    "### Nota di sintassi\n",
    "La scritture precedenti sono un pò pesanti. Python provvede adeguato \"zucchero sintattico\" per cui, se *T* è un iterabile, è possibile scrivere:\n",
    "```python\n",
    "I = iter(T)\n",
    "```\n",
    "anziché\n",
    "```python\n",
    "I = T.__iter__()\n",
    "```\n",
    "e, analogamente, se *I* è un iteratore,\n",
    "\n",
    "```python\n",
    "E = next(I)\n",
    "```\n",
    "anziché\n",
    "```python\n",
    "E = I.__next__()\n",
    "```"
   ]
  },
  {
   "cell_type": "markdown",
   "metadata": {},
   "source": [
    "Come la mettiamo però con l'errore StopIteration? Chiaramente bisogna \"intrappolarlo\"."
   ]
  },
  {
   "cell_type": "code",
   "execution_count": null,
   "metadata": {},
   "outputs": [],
   "source": [
    "n = int(input(\"Enter the number of iterations:\"))\n",
    "I = iter(range(n))\n",
    "while True:\n",
    "    try:\n",
    "        print(next(I))\n",
    "    except StopIteration:\n",
    "        break"
   ]
  },
  {
   "cell_type": "code",
   "execution_count": null,
   "metadata": {},
   "outputs": [],
   "source": [
    "n = int(input(\"Enter the number of iterations:\"))\n",
    "for i in range(n):\n",
    "    print(i)"
   ]
  },
  {
   "cell_type": "markdown",
   "metadata": {},
   "source": [
    "Il costrutto <span style=\"color:blue\">for</span> \"nasconde\" tutto questo procedimento esplicito ed è naturale utilizzarlo al suo posto. Ciononostante è utile capire \"che cosa c'è sotto\" e possiamo pensare che il codice precedente (incluso l'intrappolamento dell'errore) sia l'implementazione di:\n",
    "```python\n",
    "n = int(input(\"Enter the number of iterations:\"))\n",
    "for i in range(n):\n",
    "    print(i)\n",
    "    ```"
   ]
  },
  {
   "cell_type": "code",
   "execution_count": null,
   "metadata": {},
   "outputs": [],
   "source": [
    "# Stesso esempio con un differente iterabile\n",
    "# Prima la soluzione, elegante e con l'iteratore implicito\n",
    "for c in ['a', 'b', 'c', 'd']:\n",
    "    print(c)\n",
    "# Poi quella con iteratore esplicito\n",
    "L = ['a', 'b', 'c', 'd'] # La lista è un iterabile, quindi ...\n",
    "I = iter(L)\n",
    "while True:\n",
    "    try:\n",
    "        print(next(I))\n",
    "    except StopIteration:\n",
    "        break"
   ]
  },
  {
   "cell_type": "markdown",
   "metadata": {},
   "source": [
    "Dopo aver introdotto le classi in Python vedremo come possono essere definiti nuovi iterabili con corrispondenti iteratori"
   ]
  },
  {
   "cell_type": "markdown",
   "metadata": {},
   "source": [
    "## <span style=\"color:red\">Classi e oggetti (1)</span>"
   ]
  },
  {
   "cell_type": "markdown",
   "metadata": {},
   "source": [
    "* In Python (da un certo punto in poi e in particolare in Python 3) tutti i tipi, inlcusi i tipi primitivi come <span style=\"color:blue\">int</span> e <span style=\"color:blue\">bool</span>, sono classi e <u>ogni oggetto è un'istanza di una classe</u>. \n",
    "* Questo implica, ad esempio, che una classe può ereditare anche da un tipo primitivo\n",
    "* Tutte le \"entità\" manipolabili nel linguaggio, dai semplici numeri alle funzioni e alle classi stesse, sono <span style=\"color:blue\">oggetti</span>, cioè istanze di una classe. La classe cui appartengono le classi è <span style=\"color:blue\">type</span>. Quest'ultima è anche un'istanza di se stessa.\n",
    "* In generale, la filosofia di Python (e la conseguente implementazione) è che tutti gli oggetti sono <span style=\"font-style: italic; color:blue\">first-class object</span>\n",
    "* Con le parole di Guido Van Rossum, questo significa che: \"all objects that can be named in the language (e.g., integers, strings, functions, classes, modules, methods, and so on) must have equal status. That is, they can be assigned to variables, placed in lists, stored in dictionaries, passed as arguments, and so forth.\" The History of Python (blog), February 27, 2009"
   ]
  },
  {
   "cell_type": "code",
   "execution_count": null,
   "metadata": {},
   "outputs": [],
   "source": [
    "print(type(3))\n",
    "print(type('pippo'))\n",
    "print(type([1,2,3]))\n",
    "def f():\n",
    "    print(\"Hello world\")\n",
    "print(type(f))\n",
    "class c:\n",
    "    pass\n",
    "print(type(c))\n",
    "print(type(type))\n",
    "print(type(None))"
   ]
  },
  {
   "cell_type": "markdown",
   "metadata": {},
   "source": [
    "### Un esempio di lavoro\n",
    "\n",
    "* Java\n",
    "```java\n",
    "public class counter {\n",
    "    private int val;\n",
    "    \n",
    "    public counter(int val) {\n",
    "        /* A freshly created counter will always start at 0 */\n",
    "        this.val = val;\n",
    "    }\n",
    "    \n",
    "    /* All the above could be replaced by: \n",
    "       private int val = 0;\n",
    "    */\n",
    "\n",
    "    public int getval() {\n",
    "        /* Return the value of the counter */\n",
    "        return val;\n",
    "    }\n",
    "\n",
    "    public void inc() {\n",
    "        /* Increment the counter */ \n",
    "        val += 1;\n",
    "    }\n",
    "\n",
    "    public void reset(int val) {\n",
    "        /* Set the counter to a given value */\n",
    "        this.val = val;\n",
    "    }\n",
    "}\n",
    "```\n",
    "\n",
    "* Python \n",
    "```python\n",
    "class counter:\n",
    "    '''A class that implements a simple counter'''\n",
    "    def __init__(self, initval=0):\n",
    "        '''A freshly created counter will always start at 0'''\n",
    "        self.val = initval\n",
    "        \n",
    "    def getval(self):\n",
    "        '''Return the value of the counter'''\n",
    "        return self.val\n",
    "    \n",
    "    def inc(self):\n",
    "        '''Increment the counter'''\n",
    "        self.val += 1\n",
    "        \n",
    "    def reset(self,start=0):\n",
    "        '''Set the counter value back to 0 by default'''\n",
    "        self.val = start\n",
    "        ```"
   ]
  },
  {
   "cell_type": "markdown",
   "metadata": {},
   "source": [
    "## Prime differenze importanti\n",
    "* Python non conosce tutte le \"articolate\" distinzioni relative allo *scope* di classi, metodi e attributi. <u>Tutto è pubblico</u>, anche se vi sono convenzioni stabilmente utilizzate riguardo la nomenclatura da utilizzare per differenziare l'uso <u>inteso</u> di un elemento del programma \n",
    "* In Python gli attributi di un oggetto della classe sono definiti dentro il metodo __init__. Questa è in realtà una convenzione (molto stabile) nel senso che potrebbero essere definiti anche altrove (cosa che però rientrerebbe nel cosiddetto *cattivo uso* del linguaggio, oltreché fonte di probabili erorri). L'osservazione fondamentale è comunque che gli attributi di un oggetto <u>non sono dichiarati fuori da (e prime de) i metodi</u>\n",
    "* &Egrave; possibile definire attributi al di fuori di un metodo. Questi coincidono con le <u>variabili statiche</u> di Java\n",
    "* Poiché ogni cosa in Python è un oggetto, possiamo anche propriamente dire che tali attributi sono in realtà attributi della classe e come tali acessibili\n",
    "* I metodi definiti all'interno di una classe che devono accedere agli attributi degli oggetti di quella classe, hanno sempre un primo parametro (convenzionalmente indicato con <span style=\"color:blue\">self</span>) che, in fase di chiamata viene legato all'oggetto particolare. In questo gioca la stessa funzione <span style=\"color:blue\">this</span> di Java"
   ]
  },
  {
   "cell_type": "code",
   "execution_count": null,
   "metadata": {},
   "outputs": [],
   "source": [
    "class counter:\n",
    "    '''A class that implements a simple counter'''\n",
    "    def __init__(self):\n",
    "        '''A freshly created counter will always start at 0'''\n",
    "        self.val = 0\n",
    "    \n",
    "    def getval(self):\n",
    "        print(counter.pippo)\n",
    "        '''Return the value of the counter'''\n",
    "        return self.val\n",
    "\n",
    "    def inc(self):\n",
    "        '''Increment the counter'''\n",
    "        self.val += 1\n",
    "\n",
    "    def reset(self,start=0):\n",
    "        '''Set the counter value back to 0 by default'''\n",
    "        self.val = start"
   ]
  },
  {
   "cell_type": "code",
   "execution_count": null,
   "metadata": {},
   "outputs": [],
   "source": [
    "c = counter()      # Viene creato e inizializzato un (oggetto di tipo) contatore\n",
    "c.inc()            # Come in Java c verrebbe \"legato\" (bound) a this, in Python viene legato a self\n",
    "counter.inc(c)     # Equivalente al precedente ma rende esplicito il legame\n",
    "print(c.getval())\n",
    "c.reset()          # Reset del contatore al valore 0\n",
    "c.reset(start=2)         # Reset del contatore al valore 2\n",
    "counter.reset(c,2) # Reset del contatore al valore 1\n",
    "print(c.getval())\n",
    "print(counter.__doc__) # __doc__ è un class attribute con significato speciale (il suo valore è la docstring)\n",
    "# Poiché le funzioni sono oggetti, anch'esse possono avere attributi\n",
    "print(type(counter.inc))\n",
    "print(counter.inc.__doc__)\n",
    "print(c.__doc__)   # Come in Java, le variabili statiche sono accessibili anche dalle istanze\n",
    "print(counter.getval.__doc__)"
   ]
  },
  {
   "cell_type": "markdown",
   "metadata": {},
   "source": [
    "### Però ATTENZIONE!"
   ]
  },
  {
   "cell_type": "code",
   "execution_count": null,
   "metadata": {},
   "outputs": [],
   "source": [
    "c = counter()\n",
    "print(c.__doc__)\n",
    "print(counter.__doc__)\n",
    "c.__doc__ = \"A class that implements a not-so-simple counter\"\n",
    "print(c.__doc__)\n",
    "print(counter.__doc__)\n",
    "c2 = counter()\n",
    "print(c2.__doc__)\n",
    "d = counter()\n",
    "def dec(self):\n",
    "    self.val -= 1\n",
    "counter.dec = dec\n",
    "hasattr(counter,'dec')\n",
    "counter.dec(c)\n",
    "c.dec()\n",
    "print(c.val)"
   ]
  },
  {
   "cell_type": "code",
   "execution_count": null,
   "metadata": {},
   "outputs": [],
   "source": [
    "### Altre \"azioni\" impensabili in Java ma naturalmente conseguenti dall'approccio \"everything is first-class\""
   ]
  },
  {
   "cell_type": "code",
   "execution_count": null,
   "metadata": {
    "scrolled": true
   },
   "outputs": [],
   "source": [
    "c = counter()\n",
    "try:\n",
    "    print(c.step)\n",
    "except AttributeError:\n",
    "    print(\"counter class does not have a step property\")\n",
    "try:\n",
    "    s = c.step\n",
    "except AttributeError:\n",
    "    s = counter.step = 2\n",
    "print(s)\n",
    "c2 = counter()\n",
    "print(c2.step)"
   ]
  },
  {
   "cell_type": "code",
   "execution_count": null,
   "metadata": {},
   "outputs": [],
   "source": [
    "def inc(self):\n",
    "    self.val += self.step"
   ]
  },
  {
   "cell_type": "code",
   "execution_count": null,
   "metadata": {},
   "outputs": [],
   "source": [
    "c.val"
   ]
  },
  {
   "cell_type": "code",
   "execution_count": null,
   "metadata": {},
   "outputs": [],
   "source": [
    "c = counter()\n",
    "print(c.val)\n",
    "c.inc()\n",
    "print(c.val)\n",
    "c.inc()\n",
    "print(c.val)\n",
    "if not hasattr(c,'step'):\n",
    "    counter.step = 2\n",
    "counter.inc = inc\n",
    "print(c.val)\n",
    "c.inc()\n",
    "print(c.val)\n",
    "c.inc()\n",
    "print(c.val)"
   ]
  },
  {
   "cell_type": "markdown",
   "metadata": {},
   "source": [
    "## <span style=\"color:red\">Alcune \"naming convention\"</span> (si veda PEP - Python Enhancement Proposal - 8)"
   ]
  },
  {
   "cell_type": "markdown",
   "metadata": {},
   "source": [
    "* _single_leading_underscore (es. _x). Indicatore \"debole\" di uso riservato all'interno di un modulo (file con codice Python). \n",
    "* \\__double_leading_underscore (es. \\__x). Un attributo così chiamato può sempre essere acceduto ma attraverso una scrittura \"complicata\", nota come *name mangling*: \\__x nella classe A diviene _A__x.\n",
    "* \\__double_leading_and_trailing_underscore__ (es. \\__x__). Hanno un significato speciale; conosciamo già \\__init__ e \\__doc__. Il programmatore non dovrebbe mai \"inventare\" nomi di questo tipo."
   ]
  },
  {
   "cell_type": "code",
   "execution_count": null,
   "metadata": {},
   "outputs": [],
   "source": [
    "class Foo:\n",
    "    var = 10\n",
    "    __var = 0\n",
    "    def __init__(self):\n",
    "        self.__attr = 5\n",
    "    def getval(self):\n",
    "        return var\n",
    "\n",
    "var = 34\n",
    "x = Foo()\n",
    "print(x.var)\n",
    "try:\n",
    "    print(x.__var)\n",
    "except AttributeError:\n",
    "    print(\"There is no attribute named '__var'\")\n",
    "print(x._Foo__var) # Name mangling\n",
    "print(x._Foo__attr)\n",
    "print(x.getval())"
   ]
  },
  {
   "cell_type": "code",
   "execution_count": null,
   "metadata": {},
   "outputs": [],
   "source": [
    "# Prestare ancora attenzione\n",
    "y = Foo()  # definiamo un'altra istanza di Foo\n",
    "x.var = 17 # In Java questo modificherebbe la variabile statica var di Foo ...\n",
    "print(y.var) # ... ma non in Python"
   ]
  },
  {
   "cell_type": "code",
   "execution_count": null,
   "metadata": {},
   "outputs": [],
   "source": [
    "x = Foo()\n",
    "print(x.var)\n",
    "Foo.var = 5\n",
    "print(x.var)\n",
    "y = Foo()\n",
    "print(x.var)"
   ]
  },
  {
   "cell_type": "markdown",
   "metadata": {},
   "source": [
    "### &Egrave; possibile forzare un certo grado di \"information hiding\"?"
   ]
  },
  {
   "cell_type": "code",
   "execution_count": null,
   "metadata": {},
   "outputs": [],
   "source": [
    "class CC:\n",
    "    \"\"\"\n",
    "    Classe per la gestione di un c/c: v1.0 \n",
    "    \"\"\"\n",
    "    \n",
    "    def __init__(self, deposito_iniziale = 0):\n",
    "        print(\"Apertura conto con {0:.2f} Euro\".format(deposito_iniziale))\n",
    "        self.saldo_disponibile = deposito_iniziale\n",
    "        self.saldo()\n",
    "        \n",
    "    def versamento(self, importo):\n",
    "        self.saldo_disponibile += importo\n",
    "        self.saldo()\n",
    "        \n",
    "    def prelievo(self, importo):\n",
    "        self.saldo_disponibile -= importo\n",
    "        self.saldo()\n",
    "        \n",
    "    def saldo(self):\n",
    "        print(\"La disponibilità è di {0:.2f} Euro\".format(self.saldo_disponibile))"
   ]
  },
  {
   "cell_type": "markdown",
   "metadata": {},
   "source": [
    "### La classe ci permette di aprire conti ed eseguire le operazione base di versamento, prelevamento e richiesta del saldo"
   ]
  },
  {
   "cell_type": "code",
   "execution_count": null,
   "metadata": {},
   "outputs": [],
   "source": [
    "X=CC(100)"
   ]
  },
  {
   "cell_type": "code",
   "execution_count": null,
   "metadata": {},
   "outputs": [],
   "source": [
    "X.versamento(50)"
   ]
  },
  {
   "cell_type": "code",
   "execution_count": null,
   "metadata": {},
   "outputs": [],
   "source": [
    "X.prelievo(30)"
   ]
  },
  {
   "cell_type": "code",
   "execution_count": null,
   "metadata": {},
   "outputs": [],
   "source": [
    "X.saldo()"
   ]
  },
  {
   "cell_type": "markdown",
   "metadata": {},
   "source": [
    "### Sappiamo però che in Python gli attributi di un oggetto sono però direttamente accessibili"
   ]
  },
  {
   "cell_type": "code",
   "execution_count": null,
   "metadata": {},
   "outputs": [],
   "source": [
    "X.saldo_disponibile -= 50\n",
    "print(X.saldo_disponibile)\n",
    "X.saldo_disponibile = -1000\n",
    "print(X.saldo_disponibile)"
   ]
  },
  {
   "cell_type": "markdown",
   "metadata": {},
   "source": [
    "### Possiamo usare attributi che iniziano con il doppio underscore. Sono sempre attributi pubblici, ma il cui accesso (come abbiamo sottolineato) è reso \"complicato\" al solo scopo di evitare errori accidentali. La versione 1.1 usa un tale attributo."
   ]
  },
  {
   "cell_type": "code",
   "execution_count": null,
   "metadata": {},
   "outputs": [],
   "source": [
    "class CC:\n",
    "    \"\"\"\n",
    "    Classe per la gestione di un c/c: v1.1 \"\"\"\n",
    "\n",
    "    def __init__(self, deposito_iniziale = 0):\n",
    "        print(\"Apertura conto con {0:.2f} Euro\".format(deposito_iniziale))\n",
    "        self.__saldo_disponibile = deposito_iniziale\n",
    "        self.saldo()\n",
    "        \n",
    "    def versamento(self, importo):\n",
    "        print(\"Versamento di {0:.2f} Euro\".format(importo))\n",
    "        self.__saldo_disponibile += importo\n",
    "        self.saldo()\n",
    "        \n",
    "    def prelievo(self, importo):\n",
    "        print(\"Prelievo di {0:.2f} Euro\".format(importo))\n",
    "        self.__saldo_disponibile -= importo\n",
    "        self.saldo()\n",
    "        \n",
    "    def saldo(self):\n",
    "        print(\"La disponibilità è di {0:.2f} Euro\".format(self.__saldo_disponibile))"
   ]
  },
  {
   "cell_type": "markdown",
   "metadata": {},
   "source": [
    "### Un accesso diretto in lettura all'attributo provoca errore"
   ]
  },
  {
   "cell_type": "code",
   "execution_count": null,
   "metadata": {},
   "outputs": [],
   "source": [
    "print(X.__saldo_disponibile)"
   ]
  },
  {
   "cell_type": "markdown",
   "metadata": {},
   "source": [
    "### mentre, chiaramente, l'accesso con i \"metodi\" della classe è OK"
   ]
  },
  {
   "cell_type": "code",
   "execution_count": null,
   "metadata": {},
   "outputs": [],
   "source": [
    "X=CC(100)\n",
    "X.versamento(50)\n",
    "X.prelievo(50)"
   ]
  },
  {
   "cell_type": "markdown",
   "metadata": {},
   "source": [
    "### L'uso dell'attributo \\__saldo protegge anche da errori in scrittura, banali ma non improbabili"
   ]
  },
  {
   "cell_type": "code",
   "execution_count": null,
   "metadata": {},
   "outputs": [],
   "source": [
    "X.__saldo_disponibile = -1000\n",
    "X.saldo()                     # Il saldo rimane invariato\n",
    "print(X.__saldo_disponibile)  # ma è stata definita una nuova variabile (non usata nella gestione del CC)"
   ]
  },
  {
   "cell_type": "markdown",
   "metadata": {},
   "source": [
    "### Il saldo rimane inalterato perché (come sappiamo) l'assegnamento semplicemente introduce un diverso attributo per il solo oggetto X, attributo che non coincide con quello definito internamente"
   ]
  },
  {
   "cell_type": "markdown",
   "metadata": {},
   "source": [
    "### Non abbiamo effettuato un vero incapsulamento dei dati perché sappiamo che comunque tutti gli attributi sono accessibili"
   ]
  },
  {
   "cell_type": "code",
   "execution_count": null,
   "metadata": {},
   "outputs": [],
   "source": [
    "X._CC__saldo_disponibile = 1000000\n",
    "X.saldo() "
   ]
  },
  {
   "cell_type": "markdown",
   "metadata": {},
   "source": [
    "### Qualcosa si può comunque fare, restando nella prospettiva \"aperta\" di Python\n",
    "### Vedremo nel prossimo notebook"
   ]
  }
 ],
 "metadata": {
  "kernelspec": {
   "display_name": "Python 3",
   "language": "python",
   "name": "python3"
  },
  "language_info": {
   "codemirror_mode": {
    "name": "ipython",
    "version": 3
   },
   "file_extension": ".py",
   "mimetype": "text/x-python",
   "name": "python",
   "nbconvert_exporter": "python",
   "pygments_lexer": "ipython3",
   "version": "3.7.4+"
  }
 },
 "nbformat": 4,
 "nbformat_minor": 2
}
