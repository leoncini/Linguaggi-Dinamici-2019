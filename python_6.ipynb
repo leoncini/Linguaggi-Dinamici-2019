{
 "cells": [
  {
   "cell_type": "markdown",
   "metadata": {},
   "source": [
    "## <span style=\"color:red\">Class (as) decorators</span>"
   ]
  },
  {
   "cell_type": "markdown",
   "metadata": {},
   "source": [
    "Come abbiamo visto, la presenza del metodo \\__call\\__ nella classe ne rende gli oggetti \"callable\". In quanto tali, essi possono essere utilizzabili come decoratori. "
   ]
  },
  {
   "cell_type": "markdown",
   "metadata": {},
   "source": [
    "Come (utile) esempio per descrivere questi decoratori consideriamo il problema di generare numeri (pseudo)casuali la cui funzione di (densità) di probabilità sia un'esponenziale negativa:\n",
    "$$\n",
    "f(x;\\lambda) = \\left\\{\\begin{matrix}\n",
    "\\lambda e^{-\\lambda x} & x \\ge 0, \\\\\n",
    "0 & x < 0.\n",
    "\\end{matrix}\\right.\n",
    "$$\n",
    "dove $\\lambda>0$ è un parametro che può essere interpretato come *intensità* (di un fenomeno) o *frequenza* (di un evento)."
   ]
  },
  {
   "cell_type": "markdown",
   "metadata": {},
   "source": [
    "L'esponenziale negativa è una distribuzione **fondamentale** in esperimenti di simulazione al computer."
   ]
  },
  {
   "cell_type": "markdown",
   "metadata": {},
   "source": [
    "La funzione di distribuzione di probabilità dell'esponenziale negativa di parametro $\\lambda$ è $F(x;\\lambda)=1-e^{-\\lambda x}$ e si può dimostrare che, se $\\{r_n\\}$ è una sequenza di numeri casuali uniformemente distribuiti in $[0,1)$ allora $\\{F^{-1}(r_n)\\}$ è una sequenza distribuita con esponenziale negativa. Risulta poi facilmente:\n",
    "$$F^{-1}(r) = -\\frac{\\ln(1-r)}{\\lambda}$$"
   ]
  },
  {
   "cell_type": "markdown",
   "metadata": {},
   "source": [
    "Scriviamo ora una classe Python che implementi un generatore di numeri distribuiti con esponenziale negativa"
   ]
  },
  {
   "cell_type": "code",
   "execution_count": null,
   "metadata": {},
   "outputs": [],
   "source": [
    "from math import log\n",
    "class negexp:\n",
    "    '''Classe che implementa un generatore uniforme che produce\n",
    "       numeri distribuiti con esponenziale negativa (detti anche,\n",
    "       con terminologia inglese, \"negative exponential deviate\") di\n",
    "       parametro lambda assegnato.'''\n",
    "    \n",
    "    def __init__(self, LAMBDA):\n",
    "        '''LAMBDA (scritto maiuscolo perché la \n",
    "           forma minuscola è una parola riservata di Python)\n",
    "           è il parametro della distribuzione .'''\n",
    "        self._lambda = LAMBDA\n",
    "\n",
    "    def __call__(self, fn):\n",
    "        '''fn è il generatore uniforme'''\n",
    "        def decorated():\n",
    "            r = fn()\n",
    "            return -log(1.0-r)/self._lambda\n",
    "        return decorated"
   ]
  },
  {
   "cell_type": "markdown",
   "metadata": {},
   "source": [
    "Possiamo usare il generatore uniforme \"standard\" di Python..."
   ]
  },
  {
   "cell_type": "code",
   "execution_count": null,
   "metadata": {},
   "outputs": [],
   "source": [
    "from random import random"
   ]
  },
  {
   "cell_type": "code",
   "execution_count": null,
   "metadata": {},
   "outputs": [],
   "source": [
    "@negexp(0.5)\n",
    "def schedule():\n",
    "    return random()"
   ]
  },
  {
   "cell_type": "code",
   "execution_count": null,
   "metadata": {},
   "outputs": [],
   "source": [
    "schedule() # z.s. per negexp(0.5).__call__(random)()"
   ]
  },
  {
   "cell_type": "raw",
   "metadata": {},
   "source": [
    "... come pure un qualsiasi generatore opportunamente definito"
   ]
  },
  {
   "cell_type": "code",
   "execution_count": null,
   "metadata": {},
   "outputs": [],
   "source": [
    "class myrand:\n",
    "    '''Un semplice generatore pseudo-casuale'''\n",
    "    def __init__(self):\n",
    "        from time import time\n",
    "        self._a = 16807               # a = 16807\n",
    "        self._m = (1 << 31) - 1       # m = 2^31 -1\n",
    "        self._d = 1.0/self._m\n",
    "        self._x = int(time())%self._m # x_0 \"casuale\", dipendente dal tempo\n",
    "        if self._x==0:\n",
    "            self._x = 1               # ... ma non 0\n",
    "        for i in range(10000):  # Facciamo un po' di giri \"a vuoto\" per rendere i numeri\n",
    "                                # (apparentemente) indipendenti dal seme iniziale\n",
    "            self.__call__()\n",
    "    \n",
    "    def __call__(self):\n",
    "        self._x = (self._a*self._x)%self._m\n",
    "        return self._x*self._d\n",
    "    \n",
    "r = myrand()"
   ]
  },
  {
   "cell_type": "code",
   "execution_count": null,
   "metadata": {},
   "outputs": [],
   "source": [
    "LAMBDA = 0.2\n",
    "@negexp(LAMBDA)\n",
    "def schedule():\n",
    "    return r()"
   ]
  },
  {
   "cell_type": "code",
   "execution_count": null,
   "metadata": {},
   "outputs": [],
   "source": [
    "r()"
   ]
  },
  {
   "cell_type": "markdown",
   "metadata": {},
   "source": [
    "Facciamo una piccola verifica. Per t (tempo) sufficientemente grande, vediamo quandi eventi vengono \"schedulati\" nelle prossime t \"unità di misura\" (millisecondi, secondi, ore, ...)"
   ]
  },
  {
   "cell_type": "code",
   "execution_count": null,
   "metadata": {},
   "outputs": [],
   "source": [
    "# Consideriamo t unità di tempo (con t crescente)\n",
    "for i in range(1,9):\n",
    "    t = 10**i\n",
    "    count = s = 0\n",
    "    while s<t:\n",
    "        s += schedule()\n",
    "        count += 1\n",
    "    print(f'10^{i}\\t',count/t)  # Il secondo valore, al crescere di t, deve avvicinarsi a LAMBDA"
   ]
  },
  {
   "cell_type": "markdown",
   "metadata": {},
   "source": [
    "### Decorare una classe"
   ]
  },
  {
   "cell_type": "markdown",
   "metadata": {},
   "source": [
    "Finora abbiamo visto l'uso di una classe per decorare una funzione. Esiste però anche la possibilità di <u>decorare una classe</u>. "
   ]
  },
  {
   "cell_type": "markdown",
   "metadata": {},
   "source": [
    "Ci sono in realtà due modi diversi per decorare classi: il primo è di decorare i suoi (o solo alcuni) metodi; il secondo consiste invece nel decorare l'intera classe."
   ]
  },
  {
   "cell_type": "markdown",
   "metadata": {},
   "source": [
    "#### Decoratori built-in per metodi"
   ]
  },
  {
   "cell_type": "markdown",
   "metadata": {},
   "source": [
    "1. @property. Abbiamo già visto questo decoratore: esso viene utilizzato per specializzare l'accesso in lettura e scrittura a particolari attributi della classe\n",
    "2. @classmethod. Un metodo decorato in questo modo non viene invocato sulle istanze di una classe. Esso viene piuttosto utilizzato per creare istanze \"specializzate\" di oggetti della classe. Un esempio è illustrato di seguito\n",
    "3. @staticmethod. Un metodo statico può essere chiamato utilizzando sia la classe sia un oggetto della classe perché in realtà è legato alla classe solo per il fatto di essere parte del suo namespace. Un tipico esempio solo i metodi di una \"libreria\" matematica"
   ]
  },
  {
   "cell_type": "code",
   "execution_count": null,
   "metadata": {},
   "outputs": [],
   "source": [
    "from math import log\n",
    "class negexp:\n",
    "    '''Classe che implementa un generatore uniforme che produce\n",
    "       numeri distribuiti con esponenziale negativa (detti anche,\n",
    "       con terminologia inglese, \"negative exponential deviate\") di\n",
    "       parametro lambda assegnato.'''\n",
    "    \n",
    "    def __init__(self, LAMBDA):\n",
    "        '''LAMBDA (scritto maiuscolo perché la \n",
    "           forma minuscola è una parola riservata di Python)\n",
    "           è il parametro della distribuzione .'''\n",
    "        self._lambda = LAMBDA\n",
    "        \n",
    "    @classmethod\n",
    "    def unitfreq(cls):\n",
    "        return cls(1.0) \n",
    "\n",
    "    def __call__(self, fn):\n",
    "        '''fn è il generatore uniforme'''\n",
    "        #self.rand = fn\n",
    "        def decorated():\n",
    "            #r = self.rand()\n",
    "            r = fn()\n",
    "            return -log(1.0-r)/self._lambda\n",
    "        return decorated"
   ]
  },
  {
   "cell_type": "code",
   "execution_count": null,
   "metadata": {},
   "outputs": [],
   "source": [
    "from random import random\n",
    "@negexp.unitfreq()\n",
    "def schedule():\n",
    "    return random()"
   ]
  },
  {
   "cell_type": "code",
   "execution_count": null,
   "metadata": {},
   "outputs": [],
   "source": [
    "# Ripetiamo il \"controllo\"\n",
    "for i in range(1,9):\n",
    "    t = 10**i\n",
    "    count = s = 0\n",
    "    while s<t:\n",
    "        s += schedule()\n",
    "        count += 1\n",
    "    print(f'10^{i}\\t',count/t)  # Il secondo valore deve avvicinarsi a 1 per t crescente"
   ]
  },
  {
   "cell_type": "markdown",
   "metadata": {},
   "source": [
    "#### Decoratori \"user-defined\" per metodi\n",
    "Naturalmente si possono utilizzare anche decoratori che non siano built-in"
   ]
  },
  {
   "cell_type": "code",
   "execution_count": null,
   "metadata": {},
   "outputs": [],
   "source": [
    "class look_and_say_seq:\n",
    "    '''Restituisce un iterabile per la sequenza dei primi n numeri\n",
    "       della c.d. serie \"look-and-say\" (o \"look-and-read\").\n",
    "       I primi 6 tali numeri sono: 1, 11, 21, 1211, 111221, 312211\n",
    "    '''\n",
    "    def __init__(self,n):\n",
    "        if n==0:\n",
    "            self._stop = True\n",
    "        else:\n",
    "            self._stop = False\n",
    "        self._next = '1'\n",
    "        self._count = n\n",
    "        \n",
    "    def __iter__(self):\n",
    "        return self\n",
    "    \n",
    "    def __next__(self):\n",
    "        if self._stop:\n",
    "            raise StopIteration\n",
    "        nextval = self._next[:]\n",
    "        self._next = ''\n",
    "        i = j = 0\n",
    "        l = len(nextval)\n",
    "        while j<l:\n",
    "            f = nextval[i]\n",
    "            while j<l and nextval[j]==f:\n",
    "                j += 1\n",
    "            self._next += f'{j-i}{f}'\n",
    "            i = j\n",
    "        self._count -= 1\n",
    "        self._stop = self._count == 0\n",
    "        return int(nextval)"
   ]
  },
  {
   "cell_type": "code",
   "execution_count": null,
   "metadata": {},
   "outputs": [],
   "source": [
    "L = look_and_say_seq(10)"
   ]
  },
  {
   "cell_type": "code",
   "execution_count": null,
   "metadata": {},
   "outputs": [],
   "source": [
    "for s in look_and_say_seq(15):\n",
    "    print(s)"
   ]
  },
  {
   "cell_type": "code",
   "execution_count": null,
   "metadata": {},
   "outputs": [],
   "source": [
    "def my_timer(f):\n",
    "    from time import time\n",
    "    def timedfun(n):\n",
    "        start_time = time()\n",
    "        res = f(n)\n",
    "        stop_time = time()\n",
    "        elapsed_time = round((stop_time-start_time)*1000000)\n",
    "        print(f\"Elapsed time: {elapsed_time}\\u03bcs\")\n",
    "        return res\n",
    "    return timedfun"
   ]
  },
  {
   "cell_type": "code",
   "execution_count": null,
   "metadata": {},
   "outputs": [],
   "source": [
    "class look_and_say_seq:\n",
    "    '''Restituisce un iterabile per la sequenza dei primi n numeri\n",
    "       della c.d. serie \"look-and-say\" (o \"look-and-read\").\n",
    "       I primi 6 tali numeri sono: 1, 11, 21, 1211, 111221, 312211\n",
    "    '''\n",
    "    def __init__(self,n):\n",
    "        if n==0:\n",
    "            self._stop = True\n",
    "        else:\n",
    "            self._stop = False\n",
    "        self._next = '1'\n",
    "        self._count = n\n",
    "        \n",
    "    def __iter__(self):\n",
    "        return self\n",
    "    \n",
    "    @my_timer\n",
    "    def __next__(self):\n",
    "        if self._stop:\n",
    "            raise StopIteration\n",
    "        nextval = self._next[:]\n",
    "        self._next = ''\n",
    "        i = j = 0\n",
    "        l = len(nextval)\n",
    "        while j<l:\n",
    "            f = nextval[i]\n",
    "            while j<l and nextval[j]==f:\n",
    "                j += 1\n",
    "            self._next += f'{j-i}{f}'\n",
    "            i = j\n",
    "        self._count -= 1\n",
    "        self._stop = self._count == 0\n",
    "        return int(nextval)"
   ]
  },
  {
   "cell_type": "code",
   "execution_count": null,
   "metadata": {},
   "outputs": [],
   "source": [
    "for s in look_and_say_seq(20):\n",
    "    print(s)"
   ]
  },
  {
   "cell_type": "markdown",
   "metadata": {},
   "source": [
    "#### Decorazione di un'intera classe"
   ]
  },
  {
   "cell_type": "markdown",
   "metadata": {},
   "source": [
    "Vediamo un esempio semplice, senza alcun rilievo applicativo"
   ]
  },
  {
   "cell_type": "code",
   "execution_count": null,
   "metadata": {},
   "outputs": [],
   "source": [
    "def classdec(cls):\n",
    "    '''In questo caso, il nuovo metodo è \"inserito\" direttamente nella classe'''\n",
    "    def newmethod(self, x):\n",
    "        print(f\"newmethod printing {x}\")\n",
    "    cls.newmethod = newmethod \n",
    "    return cls\n",
    "\n",
    "@classdec\n",
    "class A:\n",
    "    def __init__(self):\n",
    "        print(f\"Initializing class {self.__class__}\")\n",
    "    def oldmethod(self,x):\n",
    "        print(f\"oldmethod printing {x}\")"
   ]
  },
  {
   "cell_type": "code",
   "execution_count": null,
   "metadata": {},
   "outputs": [],
   "source": [
    "a = A()\n",
    "a.oldmethod('foo')\n",
    "a.newmethod('fie')"
   ]
  },
  {
   "cell_type": "code",
   "execution_count": null,
   "metadata": {},
   "outputs": [],
   "source": [
    "def classdec(cls):\n",
    "    '''In questo secondo caso la decorazione avviene invece \n",
    "       sostituendo la classe originale con una sottoclasse\n",
    "       che \"ospita\" il nuovo metodo'''\n",
    "    class subcls(cls):\n",
    "        def newmethod(self, x):\n",
    "            print(f\"newmethod printing {x}\")\n",
    "    return subcls\n",
    "\n",
    "@classdec\n",
    "class B:\n",
    "    def __init__(self):\n",
    "        print(f\"Initializing class {self.__class__}\")\n",
    "    def oldmethod(self,x):\n",
    "        print(f\"oldmethod printing {x}\")"
   ]
  },
  {
   "cell_type": "code",
   "execution_count": null,
   "metadata": {},
   "outputs": [],
   "source": [
    "b = B()\n",
    "b.oldmethod('foo')\n",
    "b.newmethod('fie')"
   ]
  },
  {
   "cell_type": "code",
   "execution_count": null,
   "metadata": {},
   "outputs": [],
   "source": []
  }
 ],
 "metadata": {
  "kernelspec": {
   "display_name": "Python 3",
   "language": "python",
   "name": "python3"
  },
  "language_info": {
   "codemirror_mode": {
    "name": "ipython",
    "version": 3
   },
   "file_extension": ".py",
   "mimetype": "text/x-python",
   "name": "python",
   "nbconvert_exporter": "python",
   "pygments_lexer": "ipython3",
   "version": "3.7.4+"
  }
 },
 "nbformat": 4,
 "nbformat_minor": 2
}
