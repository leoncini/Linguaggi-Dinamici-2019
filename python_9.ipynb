{
 "cells": [
  {
   "cell_type": "markdown",
   "metadata": {},
   "source": [
    "## <span style=\"color:red\">Metaprogramming in Python</span>"
   ]
  },
  {
   "cell_type": "markdown",
   "metadata": {},
   "source": [
    "Con questo termine (<em>metaprogramming</em>) si intende la possibilità che un programma ha di \"manipolare\" (cioè cambiare, adattare) se stesso a tempo di esecuzione. \n",
    "Abbiamo già visto qualcosa in tal senso, ma in questo notebook vogliamo mettere meglio a fuoco il concetto"
   ]
  },
  {
   "cell_type": "markdown",
   "metadata": {},
   "source": [
    "#### Un primo esempio, utilizzando solo meccanismi già presi in considerazione"
   ]
  },
  {
   "cell_type": "code",
   "execution_count": null,
   "metadata": {},
   "outputs": [],
   "source": [
    "def a_method(self,*args,**kwargs):\n",
    "    '''Una funzione, che potrebbe diventare un metodo di una qualche classe...'''\n",
    "    print(\"A do-nothing implementation\")\n",
    "    return True\n",
    "\n",
    "# La seguente porzione di codice è il più semplice esempio di possibili situazioni\n",
    "# in cui le funzionalità complete (in questo caso, come vedremo) di una classe\n",
    "# devono o possono solo essere decise a tempo di esecuzione, in quanto dipendenti\n",
    "# da informazioni fornite dall'utente (o presenti in file di configurazione).\n",
    "\n",
    "answer = input(\"The class must contain a_method? (Y/n): \")\n",
    "if not answer or answer.upper()=='Y':\n",
    "    include = True\n",
    "else:\n",
    "    include = False\n",
    "    \n",
    "def customize(cls):\n",
    "    '''Customization function'''\n",
    "    if include:\n",
    "        cls.another_method = a_method\n",
    "    return cls"
   ]
  },
  {
   "cell_type": "code",
   "execution_count": null,
   "metadata": {},
   "outputs": [],
   "source": [
    "# Alla luce di quanto presentato sopra potremmo ad esempio scrivere\n",
    "@customize\n",
    "class a_class:\n",
    "    pass"
   ]
  },
  {
   "cell_type": "code",
   "execution_count": null,
   "metadata": {},
   "outputs": [],
   "source": [
    "a = a_class()\n",
    "a.another_method()"
   ]
  },
  {
   "cell_type": "markdown",
   "metadata": {},
   "source": [
    "### Verso le metaclassi"
   ]
  },
  {
   "cell_type": "markdown",
   "metadata": {},
   "source": [
    "In Python3 (come più volte ricordato) è stata portata a completezza l'unificazione dei tipi definiti da utente e dei \"tipi primitivi\"\n",
    "\n",
    "1. Ogni oggetto è istanza di una qualche classe\n",
    "2. Ogni entità manipolabile nel linguaggio è un oggetto\n",
    "3. Quindi anche le classi sono oggetti\n",
    "4. Ne consegue che, per ogni oggetto x, sarà sempre vero che type(x)==x.\\_\\_class\\_\\_ (laddove la seconda scrittura si può impiegare)"
   ]
  },
  {
   "cell_type": "code",
   "execution_count": null,
   "metadata": {},
   "outputs": [],
   "source": [
    "type(int)==int.__class__"
   ]
  },
  {
   "cell_type": "code",
   "execution_count": null,
   "metadata": {},
   "outputs": [],
   "source": []
  },
  {
   "cell_type": "code",
   "execution_count": null,
   "metadata": {},
   "outputs": [],
   "source": [
    "class foo:\n",
    "    pass\n",
    "type(foo) == foo.__class__"
   ]
  },
  {
   "cell_type": "code",
   "execution_count": null,
   "metadata": {},
   "outputs": [],
   "source": [
    "x = foo()\n",
    "type(x) == x.__class__"
   ]
  },
  {
   "cell_type": "code",
   "execution_count": null,
   "metadata": {},
   "outputs": [],
   "source": [
    "type((3,3)) == (3,3).__class__"
   ]
  },
  {
   "cell_type": "code",
   "execution_count": null,
   "metadata": {},
   "outputs": [],
   "source": [
    "type({'A':1, 'B':2}) == {'A':1, 'B':2}.__class__"
   ]
  },
  {
   "cell_type": "code",
   "execution_count": null,
   "metadata": {},
   "outputs": [],
   "source": [
    "# Ma...\n",
    "type(3) == 3.__class__"
   ]
  },
  {
   "cell_type": "code",
   "execution_count": null,
   "metadata": {},
   "outputs": [],
   "source": [
    "# Se x è istanza di una class X, allora è chiaro che ...\n",
    "type(x)"
   ]
  },
  {
   "cell_type": "markdown",
   "metadata": {},
   "source": [
    "__Attenzione__: la \"forma\" del precedente output è dovuta a ipython (cioè, al fatto che ipython \"intercetta\" l'output dell'interprete python e, talvolta, lo elabora). Se \"by-passiamo\" ipython mediante stampa dell'output, vediamo il risultato che ci darebbe l'interprete"
   ]
  },
  {
   "cell_type": "code",
   "execution_count": null,
   "metadata": {},
   "outputs": [],
   "source": [
    "print(type(x))"
   ]
  },
  {
   "cell_type": "markdown",
   "metadata": {},
   "source": [
    "Dato che anche le classi sono oggetti, ci chiediamo ora quale sia il <u>tipo di una classe</u>"
   ]
  },
  {
   "cell_type": "code",
   "execution_count": null,
   "metadata": {},
   "outputs": [],
   "source": [
    "print(type(foo))"
   ]
  },
  {
   "cell_type": "markdown",
   "metadata": {},
   "source": [
    "__type__ è il tipo di ogni classe (attenzione anche qui a non confondere il concetto di tipo di una classe con quello di superclassi di una classe)"
   ]
  },
  {
   "cell_type": "markdown",
   "metadata": {},
   "source": [
    "type è (naturalmente) anch'esso una classe il cui tipo è type stesso"
   ]
  },
  {
   "cell_type": "code",
   "execution_count": null,
   "metadata": {},
   "outputs": [],
   "source": [
    "type(type)"
   ]
  },
  {
   "cell_type": "markdown",
   "metadata": {},
   "source": [
    "__Una logica deduzione__. Se:\n",
    "\n",
    "1. type è una classe\n",
    "2. le istanze di type sono classi\n",
    "\n",
    "allora la scrittura \n",
    "\n",
    "type() \n",
    "\n",
    "dovrebbe essere consentita e, come risultato, produrre una classe! \n",
    "\n",
    "E in effetti lo è, ma quale classe produce? Con quale nome?\n",
    "\n",
    "Per rispondere in modo semplice, possiamo dire che type (in quanto classe) possiederà un metodo un metodo __init__; questo accetta tre parametri: nome della classe, superclassi e un dizionario che \"confluirà\" poi nel \\_\\_dict\\_\\_ della classe "
   ]
  },
  {
   "cell_type": "markdown",
   "metadata": {},
   "source": [
    "#### Esempio 1"
   ]
  },
  {
   "cell_type": "code",
   "execution_count": null,
   "metadata": {},
   "outputs": [],
   "source": [
    "d = {'A':1, 'B':2}\n",
    "T1 = type('X',(),d)"
   ]
  },
  {
   "cell_type": "code",
   "execution_count": null,
   "metadata": {},
   "outputs": [],
   "source": [
    "T1.__dict__"
   ]
  },
  {
   "cell_type": "code",
   "execution_count": null,
   "metadata": {},
   "outputs": [],
   "source": [
    "x = T1()"
   ]
  },
  {
   "cell_type": "code",
   "execution_count": null,
   "metadata": {},
   "outputs": [],
   "source": [
    "x.A"
   ]
  },
  {
   "cell_type": "code",
   "execution_count": null,
   "metadata": {},
   "outputs": [],
   "source": [
    "x.B"
   ]
  },
  {
   "cell_type": "code",
   "execution_count": null,
   "metadata": {},
   "outputs": [],
   "source": [
    "type(x)"
   ]
  },
  {
   "cell_type": "markdown",
   "metadata": {},
   "source": [
    "#### Esempio 2"
   ]
  },
  {
   "cell_type": "code",
   "execution_count": null,
   "metadata": {},
   "outputs": [],
   "source": [
    "def myinit(self,a,b):\n",
    "    self.a = a\n",
    "    self.b = b\n",
    "\n",
    "T2 = type('Y', (), {'__init__': myinit})"
   ]
  },
  {
   "cell_type": "code",
   "execution_count": null,
   "metadata": {},
   "outputs": [],
   "source": [
    "y = T2('pippo', 'pluto')"
   ]
  },
  {
   "cell_type": "code",
   "execution_count": null,
   "metadata": {},
   "outputs": [],
   "source": [
    "y.a"
   ]
  },
  {
   "cell_type": "markdown",
   "metadata": {},
   "source": [
    "#### Esempio 3"
   ]
  },
  {
   "cell_type": "code",
   "execution_count": null,
   "metadata": {},
   "outputs": [],
   "source": [
    "def mynew(cls,t,w=0):\n",
    "    self = cls.__bases__[0].__new__(cls,t) #cls.__bases__[0] equivale a super()\n",
    "    self.w = w\n",
    "    return self"
   ]
  },
  {
   "cell_type": "code",
   "execution_count": null,
   "metadata": {},
   "outputs": [],
   "source": [
    "T3 = type('mytuple',(tuple,),dict(__new__= mynew))"
   ]
  },
  {
   "cell_type": "code",
   "execution_count": null,
   "metadata": {},
   "outputs": [],
   "source": [
    "z = T3((1,2),2)"
   ]
  },
  {
   "cell_type": "code",
   "execution_count": null,
   "metadata": {},
   "outputs": [],
   "source": [
    "z"
   ]
  },
  {
   "cell_type": "code",
   "execution_count": null,
   "metadata": {},
   "outputs": [],
   "source": [
    "z.w"
   ]
  },
  {
   "cell_type": "code",
   "execution_count": null,
   "metadata": {},
   "outputs": [],
   "source": [
    "type(z)"
   ]
  },
  {
   "cell_type": "markdown",
   "metadata": {},
   "source": [
    "## Metaclassi"
   ]
  },
  {
   "cell_type": "markdown",
   "metadata": {},
   "source": [
    "Detto in parole semplici, le metaclassi sono il meccanismo mediante il quale è possibile \"customizzare\" l'istanziazione di una classe.\n",
    "\n",
    "Una classe è un'istanza di type che, abbiamo visto, è istanza di se stessa. Dunque type è una __metaclasse__ e sono metaclassi tutte le classi che ereditano da type"
   ]
  },
  {
   "cell_type": "code",
   "execution_count": null,
   "metadata": {},
   "outputs": [],
   "source": [
    "class una_metaclasse(type):\n",
    "    def __init__(cls, name, bases, dictionary):\n",
    "        '''Inizializzazione che prevede solo stampe, per capire\n",
    "           quando viene eseguita'''\n",
    "        print(cls)\n",
    "        print(name)\n",
    "        print(bases)\n",
    "        print(dictionary)\n",
    "    foo = 0 #Ci servirà dopo...."
   ]
  },
  {
   "cell_type": "markdown",
   "metadata": {},
   "source": [
    "Possiamo fare in modo che il tipo di una classe sia una metaclasse diversa da type utilizzando la seguente sintassi"
   ]
  },
  {
   "cell_type": "markdown",
   "metadata": {},
   "source": [
    "```python\n",
    "class NOMECLASSE(ELENCO_SUPERCLASSI,metaclass=NOMEMETACLASSE):\n",
    "    CORPODELLACLASSE\n",
    "```"
   ]
  },
  {
   "cell_type": "markdown",
   "metadata": {},
   "source": [
    "Esempio"
   ]
  },
  {
   "cell_type": "code",
   "execution_count": null,
   "metadata": {},
   "outputs": [],
   "source": [
    "class S:\n",
    "    foo = 10\n",
    "\n",
    "class X(S,metaclass=una_metaclasse):\n",
    "    pass"
   ]
  },
  {
   "cell_type": "markdown",
   "metadata": {},
   "source": [
    "Che cosa è successo?\n",
    "\n",
    "Quando viene creata una classe (in questo caso X) il cui tipo è una metaclasse diversa da type:\n",
    "\n",
    "1. vengono chiamati i metodi \\_\\_new\\_\\_ e \\_\\_init\\_\\_ della metaclasse\n",
    "2. poichè (naturalmente) valgono i meccanismi di ereditarietà e la metaclasse eredita da type, se la metaclasse non definisce uno di tali metodi allora viene chiamato il metodo corrispondente di type \n",
    "\n",
    "Nel nostro caso una_metaclasse definisce \\_\\_init\\_\\_ ma non \\_\\_new\\_\\_ quindi è stato prima chiamato il metodo \\_\\_new\\_\\_ di type e poi il metodo \\_\\_init\\_\\_ di una_metaclasse"
   ]
  },
  {
   "cell_type": "markdown",
   "metadata": {},
   "source": [
    "Naturalmente possiamo anche scrivere il metodo \\_\\_new\\_\\_"
   ]
  },
  {
   "cell_type": "code",
   "execution_count": null,
   "metadata": {},
   "outputs": [],
   "source": [
    "class una_metaclasse(type):\n",
    "    def __new__(cls, name, bases, dictionary):\n",
    "        '''In questa versione \"intercettiamo\" __new__ e chiamiamo esplicitamente\n",
    "           la __new__ di type'''\n",
    "        print(cls)\n",
    "        print(name)\n",
    "        print(bases)\n",
    "        print(dictionary)\n",
    "        return type.__new__(cls, name, bases, dictionary)\n",
    "    foo = 10\n",
    "        \n",
    "class X(S, metaclass=una_metaclasse):\n",
    "    '''X eredita da tuple ma il suo tipo è una_metaclasse'''\n",
    "    foo = 5\n",
    "    pass"
   ]
  },
  {
   "cell_type": "code",
   "execution_count": null,
   "metadata": {},
   "outputs": [],
   "source": [
    "Qualche esercizio per capire se abbiamo capito..."
   ]
  },
  {
   "cell_type": "code",
   "execution_count": null,
   "metadata": {},
   "outputs": [],
   "source": [
    "x = X()\n",
    "# Quali saranno i valori stampati dai seguenti comandi?\n",
    "print(x.foo)\n",
    "print(type(x).foo)\n",
    "print(type(X).foo)\n",
    "print(type(type(x)).foo)"
   ]
  },
  {
   "cell_type": "markdown",
   "metadata": {},
   "source": [
    "Continua...."
   ]
  }
 ],
 "metadata": {
  "kernelspec": {
   "display_name": "Python 3",
   "language": "python",
   "name": "python3"
  },
  "language_info": {
   "codemirror_mode": {
    "name": "ipython",
    "version": 3
   },
   "file_extension": ".py",
   "mimetype": "text/x-python",
   "name": "python",
   "nbconvert_exporter": "python",
   "pygments_lexer": "ipython3",
   "version": "3.7.4+"
  }
 },
 "nbformat": 4,
 "nbformat_minor": 2
}
