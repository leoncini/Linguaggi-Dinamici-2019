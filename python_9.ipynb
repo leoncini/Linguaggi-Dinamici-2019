{
 "cells": [
  {
   "cell_type": "markdown",
   "metadata": {},
   "source": [
    "## <span style=\"color:red\">Metaprogramming in Python</span>"
   ]
  },
  {
   "cell_type": "markdown",
   "metadata": {},
   "source": [
    "Con questo termine (<em>metaprogramming</em>) si intende la possibilità che un programma ha di \"manipolare\" (cioè cambiare, adattare) se stesso a tempo di esecuzione. \n",
    "Abbiamo già visto qualcosa in tal senso, ma in questo notebook vogliamo mettere meglio a fuoco il concetto"
   ]
  },
  {
   "cell_type": "code",
   "execution_count": null,
   "metadata": {},
   "outputs": [],
   "source": [
    "def a_method(self,*args,**kwargs):\n",
    "    '''Una funzione, che potrebbe diventare un metodo di una qualche classe...'''\n",
    "    print(\"A do-nothing implementation\")\n",
    "    return True"
   ]
  },
  {
   "cell_type": "markdown",
   "metadata": {},
   "source": [
    "#### Un primo esempio, utilizzando solo meccanismi già presi in considerazione"
   ]
  },
  {
   "cell_type": "code",
   "execution_count": null,
   "metadata": {},
   "outputs": [],
   "source": [
    "def customize(cls):\n",
    "    '''Customization function'''\n",
    "    if include:\n",
    "        cls.another_method = a_method\n",
    "    return cls"
   ]
  },
  {
   "cell_type": "code",
   "execution_count": null,
   "metadata": {},
   "outputs": [],
   "source": [
    "# La seguente porzione di codice è il più semplice esempio di possibili situazioni\n",
    "# in cui le funzionalità complete (in questo caso, come vedremo) di una classe\n",
    "# devono o possono solo essere decise a tempo di esecuzione, in quanto dipendenti\n",
    "# da informazioni fornite dall'utente (o presenti in file di configurazione).\n",
    "\n",
    "answer = input(\"The class must contain a_method? (Y/n): \")\n",
    "if not answer or answer.upper()=='Y':\n",
    "    include = True\n",
    "else:\n",
    "    include = False"
   ]
  },
  {
   "cell_type": "code",
   "execution_count": null,
   "metadata": {},
   "outputs": [],
   "source": [
    "# Alla luce di quanto presentato sopra potremmo ad esempio scrivere\n",
    "@customize\n",
    "class a_class:\n",
    "    pass"
   ]
  },
  {
   "cell_type": "code",
   "execution_count": null,
   "metadata": {},
   "outputs": [],
   "source": [
    "a = a_class()\n",
    "a.another_method()"
   ]
  },
  {
   "cell_type": "markdown",
   "metadata": {},
   "source": [
    "### Verso le metaclassi"
   ]
  },
  {
   "cell_type": "markdown",
   "metadata": {},
   "source": [
    "In Python3 (come più volte ricordato) è stata portata a completezza l'unificazione dei tipi definiti da utente e dei \"tipi primitivi\"\n",
    "\n",
    "1. Ogni oggetto è istanza di una qualche classe\n",
    "2. Ogni entità manipolabile nel linguaggio è un oggetto\n",
    "3. Quindi anche le classi sono oggetti\n",
    "4. Ne consegue che, per ogni oggetto x, sarà sempre vero che type(x)==x.\\_\\_class\\_\\_ (laddove la seconda scrittura si può impiegare)"
   ]
  },
  {
   "cell_type": "code",
   "execution_count": null,
   "metadata": {},
   "outputs": [],
   "source": [
    "type(int)==int.__class__"
   ]
  },
  {
   "cell_type": "code",
   "execution_count": null,
   "metadata": {},
   "outputs": [],
   "source": []
  },
  {
   "cell_type": "code",
   "execution_count": null,
   "metadata": {},
   "outputs": [],
   "source": [
    "class foo:\n",
    "    pass\n",
    "type(foo) == foo.__class__"
   ]
  },
  {
   "cell_type": "code",
   "execution_count": null,
   "metadata": {},
   "outputs": [],
   "source": [
    "x = foo()\n",
    "type(x) == x.__class__"
   ]
  },
  {
   "cell_type": "code",
   "execution_count": null,
   "metadata": {},
   "outputs": [],
   "source": [
    "type((3,3))"
   ]
  },
  {
   "cell_type": "code",
   "execution_count": null,
   "metadata": {},
   "outputs": [],
   "source": [
    "type({'A':1, 'B':2}) == {'A':1, 'B':2}.__class__"
   ]
  },
  {
   "cell_type": "code",
   "execution_count": null,
   "metadata": {},
   "outputs": [],
   "source": [
    "# Ma...\n",
    "type(3) == 3.__class__"
   ]
  },
  {
   "cell_type": "code",
   "execution_count": null,
   "metadata": {},
   "outputs": [],
   "source": [
    "# Se x è istanza di una class X, allora è chiaro che ...\n",
    "type(3)"
   ]
  },
  {
   "cell_type": "markdown",
   "metadata": {},
   "source": [
    "__Attenzione__: la \"forma\" del precedente output è dovuta a ipython (cioè, al fatto che ipython \"intercetta\" l'output dell'interprete python e, talvolta, lo elabora). Se \"by-passiamo\" ipython mediante stampa dell'output, vediamo il risultato che ci darebbe l'interprete"
   ]
  },
  {
   "cell_type": "code",
   "execution_count": null,
   "metadata": {},
   "outputs": [],
   "source": [
    "print(type(3))"
   ]
  },
  {
   "cell_type": "markdown",
   "metadata": {},
   "source": [
    "Dato che anche le classi sono oggetti, ci chiediamo ora quale sia il <u>tipo di una classe</u>"
   ]
  },
  {
   "cell_type": "code",
   "execution_count": null,
   "metadata": {},
   "outputs": [],
   "source": [
    "print(type(foo))"
   ]
  },
  {
   "cell_type": "markdown",
   "metadata": {},
   "source": [
    "__type__ è il tipo di ogni classe (attenzione anche qui a non confondere il concetto di tipo di una classe con quello di superclassi di una classe)"
   ]
  },
  {
   "cell_type": "markdown",
   "metadata": {},
   "source": [
    "type è (naturalmente) anch'esso una classe il cui tipo è type stesso"
   ]
  },
  {
   "cell_type": "code",
   "execution_count": null,
   "metadata": {},
   "outputs": [],
   "source": [
    "type(type)"
   ]
  },
  {
   "cell_type": "markdown",
   "metadata": {},
   "source": [
    "__Una logica deduzione__. Se:\n",
    "\n",
    "1. type è una classe\n",
    "2. le istanze di type sono classi\n",
    "\n",
    "allora la scrittura \n",
    "\n",
    "type() \n",
    "\n",
    "dovrebbe essere consentita e, come risultato, produrre una classe! \n",
    "\n",
    "E in effetti lo è, ma quale classe produce? Con quale nome?\n",
    "\n",
    "Per rispondere in modo semplice, possiamo dire che type (in quanto classe) possiederà un metodo un metodo __init__; questo accetta tre parametri: nome della classe, superclassi e un dizionario che \"confluirà\" poi nel \\_\\_dict\\_\\_ della classe "
   ]
  },
  {
   "cell_type": "markdown",
   "metadata": {},
   "source": [
    "#### Esempio 1\n",
    "\n",
    "In questo esempio viene istanziata la classe _type_ in modo che essa produca una classe, di nome _X_, con due attributi di classe, _A_ e _B_. "
   ]
  },
  {
   "cell_type": "code",
   "execution_count": null,
   "metadata": {},
   "outputs": [],
   "source": [
    "d = {'A':1, 'B':2}\n",
    "T1 = type('X',(),d)"
   ]
  },
  {
   "cell_type": "markdown",
   "metadata": {},
   "source": [
    "La due precedenti righe sono equivalenti alla seguente definizione"
   ]
  },
  {
   "cell_type": "code",
   "execution_count": null,
   "metadata": {},
   "outputs": [],
   "source": [
    "class X:\n",
    "    A = 1\n",
    "    B = 1"
   ]
  },
  {
   "cell_type": "markdown",
   "metadata": {},
   "source": [
    "La differenza sostanziale è che questa seconda è \"statica\", deve cioè essere scritta nel codice de programma. La prima invece è dinamica: sia il nome sia il dizionario possono essere il risultato di computazioni (quindi determinati a run-time).\n",
    "Una differenza, peraltro di poco rilievo, è che per istanziare oggetti di tipo _X_ nel primo caso si deve scrivere\n",
    "```python\n",
    "x = T1()\n",
    "```\n",
    "mentre nel caso statico si usa la ben nota scrittura\n",
    "```python\n",
    "x = X()\n",
    "```"
   ]
  },
  {
   "cell_type": "markdown",
   "metadata": {},
   "source": [
    "Qualche verifica..."
   ]
  },
  {
   "cell_type": "code",
   "execution_count": null,
   "metadata": {},
   "outputs": [],
   "source": [
    "T1.__dict__"
   ]
  },
  {
   "cell_type": "code",
   "execution_count": null,
   "metadata": {},
   "outputs": [],
   "source": [
    "x = T1()"
   ]
  },
  {
   "cell_type": "code",
   "execution_count": null,
   "metadata": {},
   "outputs": [],
   "source": [
    "x.A"
   ]
  },
  {
   "cell_type": "code",
   "execution_count": null,
   "metadata": {},
   "outputs": [],
   "source": [
    "y = T1()"
   ]
  },
  {
   "cell_type": "code",
   "execution_count": null,
   "metadata": {},
   "outputs": [],
   "source": [
    "y.A"
   ]
  },
  {
   "cell_type": "code",
   "execution_count": null,
   "metadata": {},
   "outputs": [],
   "source": [
    "type(x)"
   ]
  },
  {
   "cell_type": "code",
   "execution_count": null,
   "metadata": {},
   "outputs": [],
   "source": [
    "T1.A = 2"
   ]
  },
  {
   "cell_type": "code",
   "execution_count": null,
   "metadata": {},
   "outputs": [],
   "source": [
    "x.A"
   ]
  },
  {
   "cell_type": "code",
   "execution_count": null,
   "metadata": {},
   "outputs": [],
   "source": [
    "y.A"
   ]
  },
  {
   "cell_type": "markdown",
   "metadata": {},
   "source": [
    "#### Esempio 2\n",
    "Nell'esempio precedente _A_ e _B_ sono attributi di classe, come si evince anche dalle ultime \"verifiche\". Se vogliamo che ogni oggetto di _X_ abbia proprie variabili dinamiche (e vogliamo farlo secondo le regole di stile di Python) dobbiamo realizzare qualcosa di equivalente a:"
   ]
  },
  {
   "cell_type": "code",
   "execution_count": null,
   "metadata": {},
   "outputs": [],
   "source": [
    "class X:\n",
    "    def __init__(self,a,b):\n",
    "        self.A = a\n",
    "        self.B = b"
   ]
  },
  {
   "cell_type": "markdown",
   "metadata": {},
   "source": [
    "Dobbiamo quindi inserire una funzione \\_\\_init\\_\\_  nel dizionario iniziale di _X_"
   ]
  },
  {
   "cell_type": "code",
   "execution_count": null,
   "metadata": {},
   "outputs": [],
   "source": [
    "def myinit(self,a,b):\n",
    "    self.A = a\n",
    "    self.B = b\n",
    "\n",
    "T2 = type('X', (), {'__init__': myinit})"
   ]
  },
  {
   "cell_type": "code",
   "execution_count": null,
   "metadata": {},
   "outputs": [],
   "source": [
    "x = T2(1,2)"
   ]
  },
  {
   "cell_type": "code",
   "execution_count": null,
   "metadata": {},
   "outputs": [],
   "source": [
    "x.A"
   ]
  },
  {
   "cell_type": "code",
   "execution_count": null,
   "metadata": {},
   "outputs": [],
   "source": [
    "y = T2(3,4)"
   ]
  },
  {
   "cell_type": "code",
   "execution_count": null,
   "metadata": {},
   "outputs": [],
   "source": [
    "print(x.A)\n",
    "print(y.A)"
   ]
  },
  {
   "cell_type": "markdown",
   "metadata": {},
   "source": [
    "#### Esempio 3\n",
    "\n",
    "Vogliamo ora utilizzare anche il secondo parametro id _type_. Questo primo esempio è molto semplice"
   ]
  },
  {
   "cell_type": "code",
   "execution_count": null,
   "metadata": {},
   "outputs": [],
   "source": [
    "class A:\n",
    "    def __init__(self,x):\n",
    "        self.x = x\n",
    "\n",
    "Z = type('sum',(A,),{'y':1})"
   ]
  },
  {
   "cell_type": "code",
   "execution_count": null,
   "metadata": {},
   "outputs": [],
   "source": [
    "print(A.__bases__) # __bases__ è un attributo il cui valore è la tupla con le superclassi\n",
    "print(Z.y)\n",
    "print(Z.__bases__)  "
   ]
  },
  {
   "cell_type": "markdown",
   "metadata": {},
   "source": [
    "#### Esempio 4\n",
    "\n",
    "Questo è un caso leggermente più complesso che però coincide (usando il modello \"dinamico\") con qualcosa che abbiamo già visto; pricisamente la definizione degli archi (<em>edge</em>) di un grafo pesato. A suo tempo scrivemmo:"
   ]
  },
  {
   "cell_type": "code",
   "execution_count": null,
   "metadata": {},
   "outputs": [],
   "source": [
    "class edge(tuple):\n",
    "    def __new__(cls,t,w=0):\n",
    "        self = super().__new__(cls,t)\n",
    "        self.w = w\n",
    "        return self"
   ]
  },
  {
   "cell_type": "code",
   "execution_count": null,
   "metadata": {},
   "outputs": [],
   "source": [
    "e = edge((1,2),3)"
   ]
  },
  {
   "cell_type": "code",
   "execution_count": null,
   "metadata": {},
   "outputs": [],
   "source": [
    "print(f\"Il peso dell'arco {e} è {e.w}\")"
   ]
  },
  {
   "cell_type": "markdown",
   "metadata": {},
   "source": [
    "Passiamo al contesto dinamico."
   ]
  },
  {
   "cell_type": "code",
   "execution_count": null,
   "metadata": {},
   "outputs": [],
   "source": [
    "def mynew(cls,t,w=0):\n",
    "    self = cls.__bases__[0].__new__(cls,t) #cls.__bases__[0] è la prima superclasse di cls\n",
    "    self.w = w\n",
    "    return self"
   ]
  },
  {
   "cell_type": "code",
   "execution_count": null,
   "metadata": {},
   "outputs": [],
   "source": [
    "T3 = type('edge',(tuple,),dict(__new__= mynew))"
   ]
  },
  {
   "cell_type": "code",
   "execution_count": null,
   "metadata": {},
   "outputs": [],
   "source": [
    "T3.__bases__[0]"
   ]
  },
  {
   "cell_type": "code",
   "execution_count": null,
   "metadata": {},
   "outputs": [],
   "source": [
    "z = T3((1,2),2)"
   ]
  },
  {
   "cell_type": "code",
   "execution_count": null,
   "metadata": {},
   "outputs": [],
   "source": [
    "print(f\"Il peso dell'arco {z} è {z.w}\")"
   ]
  },
  {
   "cell_type": "code",
   "execution_count": null,
   "metadata": {},
   "outputs": [],
   "source": [
    "type(z)"
   ]
  },
  {
   "cell_type": "markdown",
   "metadata": {},
   "source": [
    "## Metaclassi"
   ]
  },
  {
   "cell_type": "markdown",
   "metadata": {},
   "source": [
    "Detto in parole semplici, le metaclassi sono il meccanismo mediante il quale è possibile \"customizzare\" l'istanziazione di una classe.\n",
    "\n",
    "Una classe è un'istanza di type che, abbiamo visto, è istanza di se stessa. Dunque type è una __metaclasse__ e sono metaclassi tutte le classi che ereditano da type"
   ]
  },
  {
   "cell_type": "code",
   "execution_count": 1,
   "metadata": {},
   "outputs": [],
   "source": [
    "class una_metaclasse(type):\n",
    "    def __init__(cls, name, bases, dictionary):\n",
    "        '''Inizializzazione che esegue solo alcune stampe, che ci permettono di capire\n",
    "           quando viene eseguito il codice e i parametri passati'''\n",
    "        print(cls)\n",
    "        print(name)\n",
    "        print(bases)\n",
    "        print(dictionary)\n",
    "    foo = 0 #Ci servirà dopo...."
   ]
  },
  {
   "cell_type": "markdown",
   "metadata": {},
   "source": [
    "Possiamo fare in modo che il tipo di una classe sia una metaclasse diversa da type utilizzando la seguente sintassi"
   ]
  },
  {
   "cell_type": "markdown",
   "metadata": {},
   "source": [
    "```python\n",
    "class NOMECLASSE(ELENCO_SUPERCLASSI,metaclass=NOMEMETACLASSE):\n",
    "    CORPODELLACLASSE\n",
    "```"
   ]
  },
  {
   "cell_type": "markdown",
   "metadata": {},
   "source": [
    "Esempio"
   ]
  },
  {
   "cell_type": "code",
   "execution_count": 2,
   "metadata": {},
   "outputs": [
    {
     "name": "stdout",
     "output_type": "stream",
     "text": [
      "<class '__main__.X'>\n",
      "X\n",
      "(<class '__main__.S'>,)\n",
      "{'__module__': '__main__', '__qualname__': 'X'}\n"
     ]
    }
   ],
   "source": [
    "class S:\n",
    "    foo = 10\n",
    "\n",
    "class X(S,metaclass=una_metaclasse):\n",
    "    pass"
   ]
  },
  {
   "cell_type": "markdown",
   "metadata": {},
   "source": [
    "Che cosa è successo?\n",
    "\n",
    "Quando viene creata una classe (in questo caso X) il cui tipo è una metaclasse diversa da type:\n",
    "\n",
    "1. vengono chiamati i metodi \\_\\_new\\_\\_ e \\_\\_init\\_\\_ della metaclasse\n",
    "2. poichè (naturalmente) valgono i meccanismi di ereditarietà e la metaclasse eredita da type, se la metaclasse non definisce uno di tali metodi allora viene chiamato il metodo corrispondente di type \n",
    "\n",
    "Nel nostro caso _una_metaclasse_ definisce \\_\\_init\\_\\_ ma non \\_\\_new\\_\\_ quindi è stato prima chiamato il metodo \\_\\_new\\_\\_ di type e poi il metodo \\_\\_init\\_\\_ di una_metaclasse"
   ]
  },
  {
   "cell_type": "markdown",
   "metadata": {},
   "source": [
    "Naturalmente possiamo anche scrivere il metodo \\_\\_new\\_\\_"
   ]
  },
  {
   "cell_type": "code",
   "execution_count": null,
   "metadata": {},
   "outputs": [],
   "source": [
    "class una_metaclasse(type):\n",
    "    def __new__(cls, name, bases, dictionary):\n",
    "        '''In questa versione \"intercettiamo\" __new__ e chiamiamo esplicitamente\n",
    "           la __new__ di type'''\n",
    "        print(cls)\n",
    "        print(name)\n",
    "        print(bases)\n",
    "        print(dictionary)\n",
    "        return type.__new__(cls, name, bases, dictionary)\n",
    "    foo = 10\n",
    "        \n",
    "class X(S, metaclass=una_metaclasse):\n",
    "    '''X eredita da tuple ma il suo tipo è una_metaclasse'''\n",
    "    foo = 5\n",
    "    pass"
   ]
  },
  {
   "cell_type": "markdown",
   "metadata": {},
   "source": [
    "Qualche esercizio per capire se abbiamo capito..."
   ]
  },
  {
   "cell_type": "code",
   "execution_count": null,
   "metadata": {},
   "outputs": [],
   "source": [
    "x = X()\n",
    "# Quali saranno i valori stampati dai seguenti comandi?\n",
    "print(x.foo)\n",
    "print(type(x).foo)\n",
    "print(type(X).foo)\n",
    "print(type(type(x)).foo)"
   ]
  },
  {
   "cell_type": "markdown",
   "metadata": {},
   "source": [
    "#### Ritorniamo ora all'esempio iniziale di \"customizzazione\""
   ]
  },
  {
   "cell_type": "code",
   "execution_count": null,
   "metadata": {},
   "outputs": [],
   "source": [
    "def a_method(self,*args,**kwargs):\n",
    "    '''Una funzione, che potrebbe diventare un metodo di una qualche classe...'''\n",
    "    print(\"A do-nothing implementation\")\n",
    "    return True"
   ]
  },
  {
   "cell_type": "code",
   "execution_count": null,
   "metadata": {},
   "outputs": [],
   "source": [
    "class customize(type):\n",
    "    def __init__(cls, clsname, superclasses, attributedict):\n",
    "        answer = input(\"The class must contain a_method? (Y/n): \")\n",
    "        if not answer or answer.upper()=='Y':\n",
    "            include = True\n",
    "        else:\n",
    "            include = False\n",
    "        if include:\n",
    "            cls.another_method = a_method"
   ]
  },
  {
   "cell_type": "code",
   "execution_count": null,
   "metadata": {},
   "outputs": [],
   "source": [
    "class a_class(metaclass=customize):\n",
    "    pass"
   ]
  },
  {
   "cell_type": "code",
   "execution_count": null,
   "metadata": {},
   "outputs": [],
   "source": [
    "an_object = a_class()"
   ]
  },
  {
   "cell_type": "code",
   "execution_count": null,
   "metadata": {},
   "outputs": [],
   "source": [
    "an_object.another_method()"
   ]
  },
  {
   "cell_type": "markdown",
   "metadata": {},
   "source": [
    "#### Un use-case interessante delle metaclassi: \n",
    "\n",
    "classi che ammettono solo un <u>numero fissato</u> di oggetti"
   ]
  },
  {
   "cell_type": "code",
   "execution_count": null,
   "metadata": {},
   "outputs": [],
   "source": [
    "class finiteobjects(type):\n",
    "    _objects = []\n",
    "    _n = 3\n",
    "    def __call__(cls, *args, **kwargs):\n",
    "        if len(cls._objects)<cls._n:\n",
    "            obj = super(finiteobjects,cls).__call__(*args, **kwargs)\n",
    "            cls._objects.append(obj)\n",
    "            return obj"
   ]
  },
  {
   "cell_type": "code",
   "execution_count": null,
   "metadata": {},
   "outputs": [],
   "source": [
    "class finiteobjectsclass(metaclass=finiteobjects):\n",
    "    pass"
   ]
  },
  {
   "cell_type": "code",
   "execution_count": null,
   "metadata": {},
   "outputs": [],
   "source": [
    "x  = finiteobjectsclass()"
   ]
  },
  {
   "cell_type": "code",
   "execution_count": null,
   "metadata": {},
   "outputs": [],
   "source": [
    "y  = finiteobjectsclass()"
   ]
  },
  {
   "cell_type": "code",
   "execution_count": null,
   "metadata": {},
   "outputs": [],
   "source": [
    "z  = finiteobjectsclass()"
   ]
  },
  {
   "cell_type": "code",
   "execution_count": null,
   "metadata": {},
   "outputs": [],
   "source": [
    "x"
   ]
  },
  {
   "cell_type": "code",
   "execution_count": null,
   "metadata": {},
   "outputs": [],
   "source": [
    "y"
   ]
  },
  {
   "cell_type": "code",
   "execution_count": null,
   "metadata": {},
   "outputs": [],
   "source": [
    "z"
   ]
  },
  {
   "cell_type": "code",
   "execution_count": null,
   "metadata": {},
   "outputs": [],
   "source": []
  }
 ],
 "metadata": {
  "kernelspec": {
   "display_name": "Python 3",
   "language": "python",
   "name": "python3"
  },
  "language_info": {
   "codemirror_mode": {
    "name": "ipython",
    "version": 3
   },
   "file_extension": ".py",
   "mimetype": "text/x-python",
   "name": "python",
   "nbconvert_exporter": "python",
   "pygments_lexer": "ipython3",
   "version": "3.7.4+"
  }
 },
 "nbformat": 4,
 "nbformat_minor": 2
}
