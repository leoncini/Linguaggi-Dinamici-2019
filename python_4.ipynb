{
 "cells": [
  {
   "cell_type": "markdown",
   "metadata": {},
   "source": [
    "## <span style=\"color:red\">Costruzione di una foresta di copertura di costo minimo</span>"
   ]
  },
  {
   "cell_type": "markdown",
   "metadata": {},
   "source": [
    "### La classe completa, inclusi metodi per la visualizzazione e l'animazione dell'algoritmo"
   ]
  },
  {
   "cell_type": "code",
   "execution_count": null,
   "metadata": {},
   "outputs": [],
   "source": [
    "from pygraphviz import AGraph\n",
    "\n",
    "class graph:\n",
    "    '''Versione 3.0: include una nuova definizione per gli archi ma il resto dei metodi è immutato\n",
    "       (come funzionalità\n",
    "    '''\n",
    "    class edge(tuple):\n",
    "        '''edge ora è sottoclasse di tuple. Un edge è dunque una tupla con in più\n",
    "           l'attributo che memorizza il peso e, come tale, può essere manipolato in modo\n",
    "           standard proprio come una tupla\n",
    "        '''\n",
    "        def __new__(cls, u,v,weight=0):\n",
    "            '''Per la creazione ridefiniamo il costruttore __new__ della supeclasse\n",
    "               passando i due estremi in ordine (prima il minore). Se si ridefinisce __new__\n",
    "               non c'è chiamata automatica a init. L'eventuale chiamata deve essere\n",
    "               esplicitamente fatta dentro __new__ ma ciò, quasi sempre, è inutile. Possiamo\n",
    "               infatti mettere le altre inizializzazioni dentro __new__stessa. Nel nostro caso,\n",
    "               si tratta solo di definire l'attributo che rappresenta il peso\n",
    "            '''\n",
    "            self = super().__new__(cls, (min(u,v), max(u,v)))\n",
    "            self.w = weight\n",
    "            return self\n",
    "        \n",
    "        def __lt__(self,other):\n",
    "            '''Prestare qui attenzione alla differenza rispetto alla versione 1.0.\n",
    "               Siccome gli archi sono tuple (e la definizione \"built-in\" di tupla supporta\n",
    "               il confronto), possiamo direttamente confrontare due archi anziché confrontare i loro\n",
    "               (non più necessari) attributi \"e\" (come nella versione 1.0). Non possiamo però usare\n",
    "               l'operatore < perché questo produrrebbe una ricorsione infinita. Dobbiamo usare\n",
    "               il confronto definito nella superclasse.\n",
    "            '''\n",
    "            return self.w<other.w or self.w==other.w and super().__lt__(other)\n",
    "        \n",
    "    def __init__(self, *args):\n",
    "        '''Identica alla versione 1.0'''\n",
    "        self.__edges = set()\n",
    "        self.__nodes = set()   \n",
    "        for e in args:\n",
    "            self.add_edge(*e)\n",
    "            \n",
    "    def __str__(self):\n",
    "        '''Notare la differenza con la 1.0'''\n",
    "        s = self.to_string()\n",
    "        return \"Weighted graph \"+s[s.find('{'):]\n",
    "    \n",
    "    def __edges(self):\n",
    "        '''Identica alla 1.0'''\n",
    "        return(sorted(self.__edges))\n",
    "        \n",
    "    def __explore(self,v):\n",
    "        '''Returns the set of nodes reachable from v in self'''\n",
    "        R = {v}\n",
    "        for u in self.adj_list(v):\n",
    "            if not self.__visited[u]:\n",
    "                self.__visited[u] = True\n",
    "                R = R.union(self.__explore(u))\n",
    "        return R\n",
    "        \n",
    "    def adj_list(self,u):\n",
    "        '''Returns the sorted list of nodes adjacent to u in self'''\n",
    "        return sorted([e[1] if e[0]==u else e[0] for e in self.edges if u in e])        \n",
    "          \n",
    "    def add_edge(self,u,v,weight=0):\n",
    "        '''Aggiunge, se non già presente, l'arco (u,v) al grafo.\n",
    "           Aggiorna l'insieme dei vertici, inserendo anche eventuali vertici isolati.\n",
    "        '''\n",
    "        ee = self.edge(u,v,weight)\n",
    "        \n",
    "        self.__edges.add(self.edge(u,v,weight))\n",
    "        self.__nodes = self.__nodes.union({u,v})\n",
    "        for x in range(1, max(u,v)+1):\n",
    "            self.__nodes.add(x)\n",
    "            \n",
    "    def remove_edge(self,u,v):\n",
    "        '''Interface function to remove an edge'''\n",
    "        u,v = min(u,v),max(u,v)\n",
    "        if v in self.adj_list(u):\n",
    "            self.__edges.remove((u,v))\n",
    "            \n",
    "    def __add_node(self,u):\n",
    "        '''Class users are not supposed to explicitly add nodes'''\n",
    "        self.__nodes.add(u)\n",
    "                   \n",
    "    def update_graph(self,edge_list):\n",
    "        '''Called upon a direct assignment to the edge list of the graph.\n",
    "           It simply create a new graph and copy nodes ad edges to self.\n",
    "           This way, as long as the value assigned is a legal edge list \n",
    "           (possibly with weight) the modified graph is a legal graph.\n",
    "        '''\n",
    "        from copy import copy\n",
    "        g = graph(*edge_list)\n",
    "        self.__edges=copy(g.__edges)\n",
    "        self.__nodes=copy(g.__nodes)\n",
    "        \n",
    "    def connected(self,u,v):\n",
    "        '''Returns True iff u is connected to v in self''' \n",
    "        if u in self.nodes and v in self.nodes:\n",
    "            self.__visited = [False]*(len(self.nodes)+1)\n",
    "            return v in self.__explore(u)\n",
    "        return False\n",
    "    \n",
    "    def __highlight(self,G,E,color):\n",
    "        '''\n",
    "        G is the string repr. of a pygraphviz graph, \n",
    "        E is a set of edges to be highlighted,\n",
    "        color is the name of a known (by graphviz) color\n",
    "        '''\n",
    "        for e in E:\n",
    "            i = G.find(str(e[0])+' -- '+str(e[1]))\n",
    "            j = G.find('[label='+str(e.w),i)\n",
    "            k = len('[label='+str(e.w))\n",
    "            l = G.find(']',j+k)\n",
    "            G = G[:j+k]+',style=bold,color='+color+G[l:]\n",
    "        return G\n",
    "    \n",
    "    def draw(self,highlight=[],color='Red',fn=\"a_graph\"):\n",
    "        '''Draws the self graph in the fn.pdf file'''\n",
    "        S = self.to_string()\n",
    "        if highlight:\n",
    "            S = self.__highlight(S,highlight,color)\n",
    "        X = AGraph().from_string(S)\n",
    "        X.draw(fn+'.pdf',prog='dot',args='-Grankdir=LR')\n",
    "        \n",
    "    def to_string(self):\n",
    "        '''Return a graphviz string representation of self'''\n",
    "        s = 'strict graph \"\" {'\n",
    "        for e in self.edges:\n",
    "            s += '\\n\\t'+str(e[0])+' -- '+str(e[1])+'\\t['+\\\n",
    "                 'label='+str(e.w)+'];'\n",
    "        s += '\\n}\\n'\n",
    "        return s\n",
    "    \n",
    "    def MSF(self):\n",
    "        '''Computes a minimum spanning forest of self graph'''\n",
    "        T = graph()\n",
    "        for u in self.nodes:\n",
    "            T.__add_node(u)\n",
    "        for e in self.edges:\n",
    "            if not T.connected(e[0],e[1]):\n",
    "                T.add_edge(*e,e.w)\n",
    "        return T\n",
    "    \n",
    "    def animated_MSF(self,fn='mst_animated',pause=5):\n",
    "        '''Computes a minimum spanning forest of self graph.\n",
    "           Animated algorihtm. After method invocation,\n",
    "           open the fn.pdf file with a viewer that updates the view\n",
    "           upon file changes (e.g. evince)'''\n",
    "        from time import sleep\n",
    "        T = graph()\n",
    "        for u in self.nodes:\n",
    "            T.__add_node(u)\n",
    "        S = self.to_string()\n",
    "        S = self.__highlight(S,self.edges,'Black')\n",
    "        X = AGraph().from_string(S)\n",
    "        X.draw(fn+'.pdf',prog='dot',args='-Grankdir=LR')\n",
    "        sleep(15)\n",
    "        for e in self.edges:\n",
    "            S = self.__highlight(S,[e],'Blue')\n",
    "            X = AGraph().from_string(S)\n",
    "            X.draw(fn+'.pdf',prog='dot',args='-Grankdir=LR')\n",
    "            sleep(pause)\n",
    "            if not T.connected(e[0],e[1]):\n",
    "                S = self.__highlight(S,[e],'Green')\n",
    "                T.add_edge(*e,e.w)\n",
    "            else:\n",
    "                S = self.__highlight(S,[e],'Red')\n",
    "            X = AGraph().from_string(S)\n",
    "            X.draw(fn+'.pdf',prog='dot',args='-Grankdir=LR')\n",
    "            sleep(pause)\n",
    "        return T\n",
    "            \n",
    "    edges=property(__edges, update_graph)\n",
    "    nodes=property(lambda self: self.__nodes) # nodes can only be read"
   ]
  },
  {
   "cell_type": "markdown",
   "metadata": {},
   "source": [
    "### Lettura da file e costruzione di un grafo pesato (per comodità riportiano la definizione di readgraph"
   ]
  },
  {
   "cell_type": "code",
   "execution_count": null,
   "metadata": {},
   "outputs": [],
   "source": [
    "def readgraph(fn):\n",
    "    '''Legge il grafo da file. Ogni riga deve essere composta da tre numeri:\n",
    "        i primi due rappresentano i nodi (estremi dell'arco) mentre il terzo\n",
    "        rappresenta il peso.'''\n",
    "    G = graph()\n",
    "    with open(fn) as f:\n",
    "        for l in f:                           # l è una riga del file, letta come stringa\n",
    "            tokens = l.strip().split(' ')     # strip() elimina caratteri \"sporchi\" a fine linea; split()\n",
    "                                              # restituisce una lista di token (definiti dal separatore spazio)\n",
    "            u = int(tokens[0])                # Il primo token rappresenta un vertice (deve essere un intero)\n",
    "            v = int(tokens[1])                # Idem per il secondo\n",
    "            w = float(tokens[2])              # Il terzo token rappresenta il peso (deve essere un reale)\n",
    "            G.add_edge(u,v,w)                 # Aggiungiamo l'arco          \n",
    "    return G\n",
    "\n",
    "G = readgraph('graph2.txt')"
   ]
  },
  {
   "cell_type": "markdown",
   "metadata": {},
   "source": [
    "### Costruzione della \"foresta\""
   ]
  },
  {
   "cell_type": "code",
   "execution_count": null,
   "metadata": {},
   "outputs": [],
   "source": [
    "F = G.MSF()"
   ]
  },
  {
   "cell_type": "code",
   "execution_count": null,
   "metadata": {},
   "outputs": [],
   "source": [
    "G.edges"
   ]
  },
  {
   "cell_type": "code",
   "execution_count": null,
   "metadata": {},
   "outputs": [],
   "source": [
    "F.edges"
   ]
  },
  {
   "cell_type": "markdown",
   "metadata": {},
   "source": [
    "### Visualizzazione e animazione (parti non spiegate a lezione)"
   ]
  },
  {
   "cell_type": "code",
   "execution_count": null,
   "metadata": {},
   "outputs": [],
   "source": [
    "G.draw(fn='graph2')"
   ]
  },
  {
   "cell_type": "code",
   "execution_count": null,
   "metadata": {},
   "outputs": [],
   "source": [
    "G.draw(fn='graph2',highlight=F.edges,color='Blue')"
   ]
  },
  {
   "cell_type": "code",
   "execution_count": null,
   "metadata": {},
   "outputs": [],
   "source": [
    "F = G.animated_MSF(fn='graph2')"
   ]
  },
  {
   "cell_type": "code",
   "execution_count": null,
   "metadata": {},
   "outputs": [],
   "source": []
  }
 ],
 "metadata": {
  "kernelspec": {
   "display_name": "Python 3",
   "language": "python",
   "name": "python3"
  },
  "language_info": {
   "codemirror_mode": {
    "name": "ipython",
    "version": 3
   },
   "file_extension": ".py",
   "mimetype": "text/x-python",
   "name": "python",
   "nbconvert_exporter": "python",
   "pygments_lexer": "ipython3",
   "version": "3.7.4+"
  }
 },
 "nbformat": 4,
 "nbformat_minor": 2
}
