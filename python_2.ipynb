{
 "cells": [
  {
   "cell_type": "markdown",
   "metadata": {},
   "source": [
    "### Obiettivi:\n",
    "1. Inserire controlli per evitare modifiche palesemente errate (tipo versare somme negative)\n",
    "2. Rendere difficile la modifica diretta accidentale ...\n",
    "3. ... ma consentire ad un \"client\" che, utilizzando la versione 1.0, accedeva direttamente al saldo di continuare a funzionare correttamente senza necessità di modifiche e/o ricompilazioni"
   ]
  },
  {
   "cell_type": "markdown",
   "metadata": {},
   "source": [
    "### Getter e setter\n",
    "Un __getter__ (da \"get\") è semplicemente un metodo che restituisce il valore di un attributo\n",
    "\n",
    "Un __setter__ (da \"set\") è un metodo che assegna un valore ad un attributo"
   ]
  },
  {
   "cell_type": "code",
   "execution_count": null,
   "metadata": {},
   "outputs": [],
   "source": [
    "class CC:\n",
    "    \"\"\"\n",
    "    Classe per la gestione di un c/c:: v2.0 \n",
    "    \"\"\"\n",
    "    def __init__(self, deposito_iniziale = 0):\n",
    "        print(\"Apertura conto con {0:.2f} Euro\".format(deposito_iniziale))\n",
    "        self.saldo = deposito_iniziale\n",
    "        \n",
    "    def prelievo(self, importo=0):\n",
    "        # Se importo==0 equivale ad una lettura del saldo\n",
    "        # Per questa ragione prelievo (con importo == 0)\n",
    "        # può essere usato come \"getter\"\n",
    "        if importo>0 and self.__saldo-importo>=0:\n",
    "            self.__saldo -= importo\n",
    "        return self.__saldo\n",
    "    \n",
    "    def __modifica_saldo(self, importo):\n",
    "        # metodo usato come \"getter\"; forza il vincolo\n",
    "        # sulla non negatività dell'importo\n",
    "        if importo>=0:\n",
    "            self.__saldo = importo\n",
    "      \n",
    "    def versamento(self, importo):\n",
    "        # versamento non può essere un \"setter\" perché\n",
    "        # modifica il valore sulla base di quello attuale\n",
    "        if importo>0:\n",
    "            self.__saldo += importo\n",
    "     \n",
    "    def mostra_saldo(self):\n",
    "        print(\"Il saldo è di {0:.2f} Euro\".format(self.__saldo))\n",
    "    \n",
    "    saldo=property(prelievo, __modifica_saldo) # getter e setter"
   ]
  },
  {
   "cell_type": "code",
   "execution_count": null,
   "metadata": {},
   "outputs": [],
   "source": [
    "X=CC(200)"
   ]
  },
  {
   "cell_type": "code",
   "execution_count": null,
   "metadata": {},
   "outputs": [],
   "source": [
    "X.saldo"
   ]
  },
  {
   "cell_type": "code",
   "execution_count": null,
   "metadata": {},
   "outputs": [],
   "source": [
    "X.saldo = 100\n",
    "X.mostra_saldo()"
   ]
  },
  {
   "cell_type": "code",
   "execution_count": null,
   "metadata": {},
   "outputs": [],
   "source": [
    "X.saldo += 250   # cfr con X.modifica_saldo(X.recupera_saldo()+50)\n",
    "X.mostra_saldo()"
   ]
  },
  {
   "cell_type": "code",
   "execution_count": null,
   "metadata": {},
   "outputs": [],
   "source": [
    "# Il \"setter\" consente di implementare qualche controllo\n",
    "X.saldo = X.saldo-1000\n",
    "X.mostra_saldo()"
   ]
  },
  {
   "cell_type": "code",
   "execution_count": null,
   "metadata": {},
   "outputs": [],
   "source": [
    "# Se si preferisce uno stile più da \"software engineering\",\n",
    "# ci sono naturalmente i metodi\n",
    "X.versamento(100)\n",
    "X.mostra_saldo()"
   ]
  },
  {
   "cell_type": "code",
   "execution_count": null,
   "metadata": {},
   "outputs": [],
   "source": [
    "X.versamento(-100)\n",
    "X.mostra_saldo()"
   ]
  },
  {
   "cell_type": "code",
   "execution_count": null,
   "metadata": {},
   "outputs": [],
   "source": [
    "X.prelievo(250)\n",
    "X.mostra_saldo()"
   ]
  },
  {
   "cell_type": "code",
   "execution_count": null,
   "metadata": {},
   "outputs": [],
   "source": [
    "X.prelievo(300)\n",
    "X.mostra_saldo()"
   ]
  },
  {
   "cell_type": "code",
   "execution_count": null,
   "metadata": {},
   "outputs": [],
   "source": []
  }
 ],
 "metadata": {
  "kernelspec": {
   "display_name": "Python 3",
   "language": "python",
   "name": "python3"
  },
  "language_info": {
   "codemirror_mode": {
    "name": "ipython",
    "version": 3
   },
   "file_extension": ".py",
   "mimetype": "text/x-python",
   "name": "python",
   "nbconvert_exporter": "python",
   "pygments_lexer": "ipython3",
   "version": "3.7.4+"
  }
 },
 "nbformat": 4,
 "nbformat_minor": 2
}
