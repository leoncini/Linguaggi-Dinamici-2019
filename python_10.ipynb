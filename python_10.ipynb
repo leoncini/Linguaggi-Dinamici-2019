{
 "cells": [
  {
   "cell_type": "markdown",
   "metadata": {},
   "source": [
    "## <span style=\"color:red\">Elementi di programmazione funzionale in Python</span>"
   ]
  },
  {
   "cell_type": "markdown",
   "metadata": {},
   "source": [
    "In un linguaggio puramente funzionale i programmi sono costituiti solo da un insieme di funzioni (e il \"main program\" è semplicemente una chiamata di funzione ...) prive di stato interno. Un esempio notevole di linguaggio puramente funzionale è il \"glorioso\" Lisp, risalente ai primi anni 60 ma che continua ad essere utilizzato sotto forma di dialetti o linguaggi derivati (uno di un certo rilievo è Clojure).\n",
    "\n",
    "Python chiaramente non è un linguaggio funzionale ma include <u>più di un supporto</u> alla programmazione funzionale. Un elenco non esaustivo, in cui si possono notare argomenti già trattati, include: \n",
    "\n",
    "1. Funzioni lambda\n",
    "2. Decoratori\n",
    "3. Iteratori e generatori\n",
    "4. Mapping e riduzione\n",
    "5. Funzioni di ordine superiore in generale"
   ]
  },
  {
   "cell_type": "markdown",
   "metadata": {},
   "source": [
    "### Funzioni lambda (richiamo)"
   ]
  },
  {
   "cell_type": "code",
   "execution_count": 1,
   "metadata": {},
   "outputs": [
    {
     "data": {
      "text/plain": [
       "['Andrea Marongiu',\n",
       " 'Federica Mandreoli',\n",
       " 'Giacomo Cabri',\n",
       " 'Luca Bedogni',\n",
       " 'Manuela Montangero',\n",
       " 'Marco Villani',\n",
       " 'Marko Bertogna',\n",
       " 'Mauro Andreolini',\n",
       " 'Mauro Leoncini',\n",
       " 'Nicola Capodieci',\n",
       " 'Paolo Valente',\n",
       " 'Riccardo Martoglia']"
      ]
     },
     "execution_count": 1,
     "metadata": {},
     "output_type": "execute_result"
    }
   ],
   "source": [
    "docentiInf = [\"Paolo Valente\", \"Manuela Montangero\", \"Mauro Leoncini\", \"Giacomo Cabri\", \"Federica Mandreoli\",\\\n",
    "             \"Mauro Andreolini\", \"Riccardo Martoglia\", \"Marco Villani\", \"Marko Bertogna\", \"Nicola Capodieci\",\\\n",
    "             \"Luca Bedogni\", \"Andrea Marongiu\"]\n",
    "sorted(docentiInf)"
   ]
  },
  {
   "cell_type": "code",
   "execution_count": 2,
   "metadata": {},
   "outputs": [
    {
     "data": {
      "text/plain": [
       "['Mauro Andreolini',\n",
       " 'Luca Bedogni',\n",
       " 'Marko Bertogna',\n",
       " 'Giacomo Cabri',\n",
       " 'Nicola Capodieci',\n",
       " 'Mauro Leoncini',\n",
       " 'Federica Mandreoli',\n",
       " 'Andrea Marongiu',\n",
       " 'Riccardo Martoglia',\n",
       " 'Manuela Montangero',\n",
       " 'Paolo Valente',\n",
       " 'Marco Villani']"
      ]
     },
     "execution_count": 2,
     "metadata": {},
     "output_type": "execute_result"
    }
   ],
   "source": [
    "sorted(docentiInf,key=lambda x: x.split()[-1])  # Sort by family name"
   ]
  },
  {
   "cell_type": "code",
   "execution_count": 14,
   "metadata": {},
   "outputs": [
    {
     "data": {
      "text/plain": [
       "[(6, -5), (-3, 5), (1, 4), (2, 6)]"
      ]
     },
     "execution_count": 14,
     "metadata": {},
     "output_type": "execute_result"
    }
   ],
   "source": [
    "pairs = ((1,4),(-3,5),(2,6),(6,-5))\n",
    "sorted(pairs, key=lambda x: sum(x))  # Sort by increasing sum"
   ]
  },
  {
   "cell_type": "code",
   "execution_count": 15,
   "metadata": {},
   "outputs": [
    {
     "data": {
      "text/plain": [
       "(-3, 5)"
      ]
     },
     "execution_count": 15,
     "metadata": {},
     "output_type": "execute_result"
    }
   ],
   "source": [
    "min(pairs)  # Return the pairs with minimum first component"
   ]
  },
  {
   "cell_type": "code",
   "execution_count": 16,
   "metadata": {},
   "outputs": [
    {
     "data": {
      "text/plain": [
       "(6, -5)"
      ]
     },
     "execution_count": 16,
     "metadata": {},
     "output_type": "execute_result"
    }
   ],
   "source": [
    "min(pairs,key=lambda x: sum(x))"
   ]
  },
  {
   "cell_type": "markdown",
   "metadata": {},
   "source": [
    "### Iteratori e generatori"
   ]
  },
  {
   "cell_type": "markdown",
   "metadata": {},
   "source": [
    "Iteratori e generatori sono meccanismi che forniscono una funzionalità comune, cioè la capacità di accedere agli elementi di una collezione in sequenza (\"uno dopo l'altro uno\"( secondo un criterio stabilito.\n",
    "\n",
    "Sia generatori che iteratori sono costrutti programmativi in grado di preservare uno _stato interno_. Da questo punto di vista, però, gli iteratori consentono di implementare comportamenti più complessi. Un iteratore viene infatti definito a partire da oggetti iterabili, istanze cioè di una classe che implementa il metodo \\_\\_iter\\_\\_. In quanto tali, possono definire anche altri comportamenti mediante l'implementazione di altri metodi\n",
    "\n",
    "Un generatore è realizzato più semplicemente implementando una funzione che, anziché l'istruzione _return_ (esplicita o implicita), utilizza la speciale istruzione _yield_. In questo caso, lo stato è quello della funzione che viene salvato e \"ripreso\" (resumed) ad ogni invocazione"
   ]
  },
  {
   "cell_type": "code",
   "execution_count": 25,
   "metadata": {
    "scrolled": true
   },
   "outputs": [
    {
     "name": "stdout",
     "output_type": "stream",
     "text": [
      "0\n",
      "1\n",
      "1\n",
      "2\n",
      "3\n",
      "5\n",
      "8\n",
      "13\n",
      "21\n",
      "34\n"
     ]
    }
   ],
   "source": [
    "def Fib_generator():\n",
    "    x0 = 0\n",
    "    x1 = 1\n",
    "    while True:\n",
    "        yield x0\n",
    "        x0,x1 = x1,x0+x1\n",
    "\n",
    "f = Fib_generator()\n",
    "for i in range(10):\n",
    "    print(next(f))"
   ]
  },
  {
   "cell_type": "code",
   "execution_count": 29,
   "metadata": {},
   "outputs": [
    {
     "name": "stdout",
     "output_type": "stream",
     "text": [
      "<class 'function'>\n",
      "<class 'generator'>\n"
     ]
    }
   ],
   "source": [
    "print(type(Fib_generator))\n",
    "print(type(f))"
   ]
  },
  {
   "cell_type": "markdown",
   "metadata": {},
   "source": [
    "### Funzioni di ordine superiore (higher-order functions)"
   ]
  },
  {
   "cell_type": "markdown",
   "metadata": {},
   "source": [
    "Funzioni di ordine superiore sono funzione che hanno funzioni fra i loro parametri e/o restituiscono funzioni come risultato. \n",
    "\n",
    "&Egrave; quindi evidente che funzioni di questo tipo sono già state affrontate esaustivamente in questo corso (trattando di decoratori, funzioni lambda iteratori e generatori). "
   ]
  },
  {
   "cell_type": "markdown",
   "metadata": {},
   "source": [
    "### Lo schema algoritmico map-reduce"
   ]
  },
  {
   "cell_type": "markdown",
   "metadata": {},
   "source": [
    "Si tratta di un procedimento di calcolo tipico dei linguaggi funzionali e presente in Python (con qualche nervosismo di Guido Van Rossum...). \n",
    "\n",
    "Un primo semplice esempio, che comunque illustra la \"struttura\" del paradigma, riguarda il <em>calcolo della somma dei quadrati dei primi n numeri naturali</em>"
   ]
  },
  {
   "cell_type": "code",
   "execution_count": 30,
   "metadata": {},
   "outputs": [],
   "source": [
    "# Calcolo della somma dei primi n numeri naturali: versione \"tipo c\"\n",
    "def sum_of_squares(n):\n",
    "    s = 0                     # Accumulatore\n",
    "    for i in range(1,n+1):\n",
    "        s += i*i\n",
    "    return s"
   ]
  },
  {
   "cell_type": "code",
   "execution_count": 35,
   "metadata": {},
   "outputs": [
    {
     "data": {
      "text/plain": [
       "385"
      ]
     },
     "execution_count": 35,
     "metadata": {},
     "output_type": "execute_result"
    }
   ],
   "source": [
    "sum_of_squares(10)"
   ]
  },
  {
   "cell_type": "code",
   "execution_count": 36,
   "metadata": {},
   "outputs": [],
   "source": [
    "# Calcolo della somma dei primi n numeri naturali: versione 1.0 map-reduce\n",
    "def sum_of_squares_MR(n):\n",
    "    s = [i*i for i in range(1,n+1)] # map step\n",
    "    return sum(s)                   # reduce step"
   ]
  },
  {
   "cell_type": "code",
   "execution_count": 38,
   "metadata": {},
   "outputs": [
    {
     "data": {
      "text/plain": [
       "385"
      ]
     },
     "execution_count": 38,
     "metadata": {},
     "output_type": "execute_result"
    }
   ],
   "source": [
    "sum_of_squares_MR(10)"
   ]
  },
  {
   "cell_type": "markdown",
   "metadata": {},
   "source": [
    "La seconda versione illustra i due step dello schema map-reduce\n",
    "1. passo <em>map</em>; una stessa operazione viene applicata singolarmente ad ogni dato che compone la collezione di input\n",
    "2. passo <em>reduce</em>; un'operazione (tipicamente binaria) viene applicata ai dati prodotti in output da map in modo da produrre un unico risultato in uscita\n",
    "\n",
    "La versione MR presenta il chiaro svantaggio di richiedere memoria $O(n)$, al contrario della prima che usa una quantit costante di spazio. Tuttavia, la versione MR, in particolare proprio il primo passo, si presta molto bene ad essere parallelizzato. Implementazioni di questo schema si trovano non a caso in sistemi generali di calcolo distribuito come Spark e Hadoop di Apache. In contesti reali, lo schema può essere più complesso è precedere anche un passo intermedio di _shuffling_ Vedremo il ruolo di quest'ultimo trattando un secondo esempio poco più avanti."
   ]
  },
  {
   "cell_type": "markdown",
   "metadata": {},
   "source": [
    "#### Supporto \"di base\" per map-reduce in Python"
   ]
  },
  {
   "cell_type": "code",
   "execution_count": 63,
   "metadata": {},
   "outputs": [],
   "source": [
    "# Calcolo della somma dei primi n numeri naturali: versione 1.0 map-reduce\n",
    "def sum_of_squares_MR(n):\n",
    "    from functools import reduce\n",
    "    s=map(lambda i: i*i,range(1,n+1))            # map step\n",
    "    return reduce(lambda x,y:x+y,s)              # reduce step"
   ]
  },
  {
   "cell_type": "code",
   "execution_count": 66,
   "metadata": {},
   "outputs": [
    {
     "data": {
      "text/plain": [
       "385"
      ]
     },
     "execution_count": 66,
     "metadata": {},
     "output_type": "execute_result"
    }
   ],
   "source": [
    "sum_of_squares_MR(10)"
   ]
  },
  {
   "cell_type": "markdown",
   "metadata": {},
   "source": [
    "In questa seconda versione MR, il passo map viene eseguito utilizzando la omonima funzione (di ordine superiore).\n",
    "\n",
    "1. map riceve in input una funzione e un iterabile e applica la funzione a tutti gli elementi dell'iterabile restituendo, in output, un secondo iterabile con i valori calcolati\n",
    "2. ricevuta in input una funzione binaria $f$ e un iterabile $I$, reduce esegue invece i seguenti $|I|-1$ passi:\n",
    "  \n",
    "  2.1 al primo passo applica $f$ ai primi due elementi di $I$\n",
    "  \n",
    "  2.2 al passo $k$, $k=2,\\ldots,|I|-1$, applica $f$ al risultato ottenuto al passo $k-1$ e al $k+1$-esimo elemento di $I$\n",
    "  \n",
    "Il seguente schema illustra il funzionamento di reduce su una sequenza di 4 elementi\n",
    "\n",
    "<img src=\"reduce.jpg\">"
   ]
  },
  {
   "cell_type": "code",
   "execution_count": 13,
   "metadata": {},
   "outputs": [
    {
     "data": {
      "text/plain": [
       "362880"
      ]
     },
     "execution_count": 13,
     "metadata": {},
     "output_type": "execute_result"
    }
   ],
   "source": [
    "# Un altro esempio di uso di reduce: il calcolo del fattoriale\n",
    "from functools import reduce\n",
    "reduce(lambda x,y: x*y,range(1,10)) "
   ]
  },
  {
   "cell_type": "markdown",
   "metadata": {},
   "source": [
    "#### Un esempio un po' più complesso (considerato comunque, in relazione a map-reduce; l'equivalente di \"Hello World!\" per chi inizia a programmare in un nuovo linguaggio): il calcolo delle occorrenze delle varie parole in in testo"
   ]
  },
  {
   "cell_type": "markdown",
   "metadata": {},
   "source": [
    "In questo caso, i dati da manipolare sono coppie (chiave,valore) (le chiavi sono le parole, i valori i corrispondenti conteggi). Iniziamo anche qui con una soluzione \"c-like\", senza cioè utilizzare lo schema map-reduce"
   ]
  },
  {
   "cell_type": "code",
   "execution_count": 73,
   "metadata": {},
   "outputs": [],
   "source": [
    "# Definiamo dapprima una funzione per recuperare le parole da una stringa\n",
    "import re\n",
    "def getwords(S):\n",
    "    '''Data una stringa S, dapprima elimina tutto ciò che non è word all'inizio e alla fine di S,\n",
    "       dopodiché restituisce un iterabile con le word (in carattere minuscolo) di S\n",
    "    '''\n",
    "    S = re.split(r'\\W+',re.sub(r'^\\W+|\\W+$', '', S))\n",
    "    return map(str.lower, S)"
   ]
  },
  {
   "cell_type": "code",
   "execution_count": 74,
   "metadata": {},
   "outputs": [
    {
     "name": "stdout",
     "output_type": "stream",
     "text": [
      "pippo\n",
      "pluto\n",
      "e\n",
      "pure\n",
      "topolino\n"
     ]
    }
   ],
   "source": [
    "for w in getwords('\\t . pippo pluto e pure \\n\\t topolino   \\t'):\n",
    "    print(w)"
   ]
  },
  {
   "cell_type": "code",
   "execution_count": 78,
   "metadata": {},
   "outputs": [],
   "source": [
    "# Soluzione Python C-like\n",
    "with open('Alice.txt', 'r') as input_file:    # Alice's Adventures in Wonderland by L. Carroll\n",
    "    words = {}\n",
    "    for line in input_file:\n",
    "        if line != '\\n':\n",
    "            for w in getwords(line):\n",
    "                words[w] = words.get(w, 0) + 1"
   ]
  },
  {
   "cell_type": "code",
   "execution_count": 76,
   "metadata": {},
   "outputs": [],
   "source": [
    "#Possiamo adesso, ad esempio, controllare quali sono le 10 parole più frequenti nel testo\n",
    "mostfreqwords = sorted(words.keys(), key=lambda w: words[w], reverse=True)[:10]"
   ]
  },
  {
   "cell_type": "markdown",
   "metadata": {},
   "source": [
    "for w in mostfreqwords:\n",
    "    print(f\"{w} : \\t appers {words[w]} times\")"
   ]
  },
  {
   "cell_type": "markdown",
   "metadata": {},
   "source": [
    "Vogliamo ora applicare lo schema algoritmico map-reduce, transitando però attraverso una versione che è \"memory inefficient\".\n",
    "\n",
    "1. Come passo iniziale, dobbiamo trasformare ogni occorrenza di una parola _w_ nella coppia chiave,valore  (_w_,1), dove 1 indica esattamente una occorrenza. Questa è la **mappatura**"
   ]
  },
  {
   "cell_type": "code",
   "execution_count": 193,
   "metadata": {},
   "outputs": [],
   "source": [
    "words = []\n",
    "with open('Alice.txt', 'r') as input_file: \n",
    "    for line in input_file:\n",
    "        if line != '\\n':\n",
    "            words += getwords(line)\n",
    "mappedseq = map((lambda w : (w, 1)), words)"
   ]
  },
  {
   "cell_type": "markdown",
   "metadata": {},
   "source": [
    "2. Il secondo passo è il già anticipato **shuffling**. Il rimescolamento in questo caso deve portare tutte le coppie con la stessa chiave ad essere fra loro vicine. In questo caso non è necessario specificare una funzione lambda che definisca la chiave da usare; infatti, per default, l'ordinamento di tuple avviene sulla base della prima componente (in questo caso proprio la chiave)."
   ]
  },
  {
   "cell_type": "code",
   "execution_count": 194,
   "metadata": {},
   "outputs": [],
   "source": [
    "sortedmappedseq= sorted(mappedseq)"
   ]
  },
  {
   "cell_type": "markdown",
   "metadata": {},
   "source": [
    "3. Il terzo passo naturalmente è la **riduzione**. In questo caso la semplice reduce non serve al nostro scopo perchè essa produrrebbe una singola coppia. Abbiamo invece bisogno di effettuare una riduzione che \"raggruppi\" tutte le coppie con la stessa chiave (sommando le frequenza). Quel che ci serve è, appunto, la funzione (reminiscente di SQL) _groupby__"
   ]
  },
  {
   "cell_type": "code",
   "execution_count": 86,
   "metadata": {},
   "outputs": [],
   "source": [
    "from itertools import groupby"
   ]
  },
  {
   "cell_type": "code",
   "execution_count": 87,
   "metadata": {},
   "outputs": [
    {
     "name": "stdout",
     "output_type": "stream",
     "text": [
      "Help on class groupby in module itertools:\n",
      "\n",
      "class groupby(builtins.object)\n",
      " |  groupby(iterable, key=None) -> make an iterator that returns consecutive\n",
      " |  keys and groups from the iterable.  If the key function is not specified or\n",
      " |  is None, the element itself is used for grouping.\n",
      " |  \n",
      " |  Methods defined here:\n",
      " |  \n",
      " |  __getattribute__(self, name, /)\n",
      " |      Return getattr(self, name).\n",
      " |  \n",
      " |  __iter__(self, /)\n",
      " |      Implement iter(self).\n",
      " |  \n",
      " |  __next__(self, /)\n",
      " |      Implement next(self).\n",
      " |  \n",
      " |  __reduce__(...)\n",
      " |      Return state information for pickling.\n",
      " |  \n",
      " |  __setstate__(...)\n",
      " |      Set state information for unpickling.\n",
      " |  \n",
      " |  ----------------------------------------------------------------------\n",
      " |  Static methods defined here:\n",
      " |  \n",
      " |  __new__(*args, **kwargs) from builtins.type\n",
      " |      Create and return a new object.  See help(type) for accurate signature.\n",
      "\n"
     ]
    }
   ],
   "source": [
    "help(groupby)"
   ]
  },
  {
   "cell_type": "markdown",
   "metadata": {},
   "source": [
    "Prima un esempio con pochi elementi, meglio visualizzabili"
   ]
  },
  {
   "cell_type": "code",
   "execution_count": 217,
   "metadata": {},
   "outputs": [],
   "source": [
    "G = [('a',1),('a',1),('b',1),('c',1),('c',1),('c',1)]"
   ]
  },
  {
   "cell_type": "code",
   "execution_count": 218,
   "metadata": {},
   "outputs": [],
   "source": [
    "raggruppamento = groupby(G,key=lambda x: x[0])"
   ]
  },
  {
   "cell_type": "code",
   "execution_count": 181,
   "metadata": {},
   "outputs": [
    {
     "data": {
      "text/plain": [
       "[('a', <itertools._grouper at 0x7efc74b77150>),\n",
       " ('b', <itertools._grouper at 0x7efc74b77ed0>),\n",
       " ('c', <itertools._grouper at 0x7efc74b77e50>)]"
      ]
     },
     "execution_count": 181,
     "metadata": {},
     "output_type": "execute_result"
    }
   ],
   "source": [
    "list(raggruppamento)"
   ]
  },
  {
   "cell_type": "code",
   "execution_count": 182,
   "metadata": {},
   "outputs": [
    {
     "name": "stdout",
     "output_type": "stream",
     "text": [
      "('a', 2)\n",
      "('b', 1)\n",
      "('c', 3)\n"
     ]
    }
   ],
   "source": [
    "raggruppamento = groupby(G,key=lambda x: x[0])\n",
    "for t in map(lambda l: (l[0], reduce(lambda x, y: x + y, map(lambda p: p[1], l[1]))), raggruppamento):\n",
    "    print(t)"
   ]
  },
  {
   "cell_type": "markdown",
   "metadata": {},
   "source": [
    "Ritorniamo ora al nostro codice"
   ]
  },
  {
   "cell_type": "code",
   "execution_count": 213,
   "metadata": {},
   "outputs": [],
   "source": [
    "groups = groupby(sortedmappedseq,key=lambda x: x[0])"
   ]
  },
  {
   "cell_type": "code",
   "execution_count": 214,
   "metadata": {},
   "outputs": [],
   "source": [
    "wordcounts = map(lambda l: (l[0], reduce(lambda x, y: x + y, map(lambda p: p[1], l[1]))), groups)"
   ]
  },
  {
   "cell_type": "code",
   "execution_count": 215,
   "metadata": {},
   "outputs": [
    {
     "data": {
      "text/plain": [
       "<map at 0x7efc7492a4d0>"
      ]
     },
     "execution_count": 215,
     "metadata": {},
     "output_type": "execute_result"
    }
   ],
   "source": [
    "wordcounts"
   ]
  },
  {
   "cell_type": "code",
   "execution_count": 210,
   "metadata": {},
   "outputs": [
    {
     "name": "stdout",
     "output_type": "stream",
     "text": [
      "('', 9)\n",
      "('_i_', 2)\n",
      "('a', 632)\n",
      "('abide', 1)\n",
      "('able', 1)\n",
      "('about', 94)\n",
      "('above', 3)\n",
      "('absence', 1)\n",
      "('absurd', 2)\n",
      "('acceptance', 1)\n"
     ]
    }
   ],
   "source": [
    "for i in range(10):\n",
    "    print(next(wordcounts))"
   ]
  },
  {
   "cell_type": "code",
   "execution_count": 216,
   "metadata": {},
   "outputs": [
    {
     "data": {
      "text/plain": [
       "[('the', 1642),\n",
       " ('and', 872),\n",
       " ('to', 729),\n",
       " ('a', 632),\n",
       " ('it', 595),\n",
       " ('she', 553),\n",
       " ('i', 543),\n",
       " ('of', 514),\n",
       " ('said', 462),\n",
       " ('you', 411)]"
      ]
     },
     "execution_count": 216,
     "metadata": {},
     "output_type": "execute_result"
    }
   ],
   "source": [
    "sorted(wordcounts,key=lambda x: x[1],reverse=True)[:10]"
   ]
  },
  {
   "cell_type": "markdown",
   "metadata": {},
   "source": [
    "Versione efficiente in spazio e \"distribuibile\""
   ]
  },
  {
   "cell_type": "code",
   "execution_count": 219,
   "metadata": {},
   "outputs": [],
   "source": [
    "# Mappatura su file\n",
    "import re\n",
    "words = {}\n",
    "with open('Alice.txt','r') as input_file:\n",
    "    with open('Alice.map','w') as map_file:\n",
    "        for line in input_file:\n",
    "            for w in getwords(line):\n",
    "                map_file.write(w.lower()+\"\\t1\\n\") # I due campi (word,count) sono separati da un tab"
   ]
  },
  {
   "cell_type": "code",
   "execution_count": null,
   "metadata": {},
   "outputs": [],
   "source": [
    "# Ordinamento (shuffling) usando memoria centrale \"controllata\"\n",
    "# See https://stackoverflow.com/questions/14465154/sorting-text-file-by-using-python/16954837#16954837\n",
    "\n",
    "import sys\n",
    "from functools import partial\n",
    "from heapq import merge\n",
    "from tempfile import TemporaryFile\n",
    "\n",
    "# defininiamo il criterio di sorting\n",
    "def sortkey(line):\n",
    "    return line.split('\\t')[0]\n",
    "\n",
    "with open('Alice.map') as infile:\n",
    "    # sort lines in small batches, write intermediate results to temporary files\n",
    "    sorted_files = []\n",
    "    nbytes = 1 << 16 # Carichiamo 64KB per volta \n",
    "    for lines in iter(partial(infile.readlines, nbytes), []):\n",
    "        lines.sort(key=sortkey)     # ordiniamo in memoria il batch (di al più nbytes) attuale\n",
    "        f = TemporaryFile(\"w+\")\n",
    "        f.writelines(lines)\n",
    "        f.seek(0) # rewind\n",
    "        sorted_files.append(f)\n",
    "\n",
    "# fusione e scrittura dei risultati\n",
    "with open('Alice.map.sorted','w') as sortedmap:\n",
    "    sortedmap.writelines(merge(*sorted_files, key=sortkey))\n",
    "\n",
    "# clean up\n",
    "for f in sorted_files:\n",
    "    f.close() # chiudiamo e cancelliamo i file temporanei"
   ]
  },
  {
   "cell_type": "code",
   "execution_count": null,
   "metadata": {},
   "outputs": [],
   "source": [
    "# Fase di riduzione. Semplice perché il file è ordinato\n",
    "# Lasciata per esercizio"
   ]
  }
 ],
 "metadata": {
  "kernelspec": {
   "display_name": "Python 3",
   "language": "python",
   "name": "python3"
  },
  "language_info": {
   "codemirror_mode": {
    "name": "ipython",
    "version": 3
   },
   "file_extension": ".py",
   "mimetype": "text/x-python",
   "name": "python",
   "nbconvert_exporter": "python",
   "pygments_lexer": "ipython3",
   "version": "3.7.4+"
  }
 },
 "nbformat": 4,
 "nbformat_minor": 2
}
